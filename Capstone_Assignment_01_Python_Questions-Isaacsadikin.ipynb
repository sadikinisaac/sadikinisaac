{
 "cells": [
  {
   "cell_type": "markdown",
   "metadata": {
    "cell_id": "6804d692a05f49d78c0937fd96643076",
    "deepnote_cell_type": "markdown"
   },
   "source": [
    "# Capstone Assignment 1"
   ]
  },
  {
   "cell_type": "markdown",
   "metadata": {
    "cell_id": "512d8a9d3d5340d9b21d1c08ce9e128b",
    "deepnote_cell_type": "markdown"
   },
   "source": [
    "---\n",
    "⚠️**Notebook Instruction:**\n",
    "- <..> in this notebook are the placeholders for your codes.\n",
    "- You can insert multiple lines of code into a placeholder <..>.\n",
    "- Feel free to insert additional cell(s) as you need.\n",
    "- ⬇️ Enter your email below as a string below."
   ]
  },
  {
   "cell_type": "code",
   "execution_count": null,
   "metadata": {
    "cell_id": "5585cf34c8594c71b2d14356ab4fa93c",
    "deepnote_cell_type": "code"
   },
   "outputs": [],
   "source": [
    "email = \"My Official Email Address\""
   ]
  },
  {
   "cell_type": "code",
   "execution_count": 1,
   "metadata": {},
   "outputs": [],
   "source": [
    "email = \"isaac_sadikin@pub.gov.sg\""
   ]
  },
  {
   "cell_type": "markdown",
   "metadata": {
    "cell_id": "9e84c294605144d49e595dc9f912fb60",
    "deepnote_cell_type": "markdown"
   },
   "source": [
    "<hr/>"
   ]
  },
  {
   "cell_type": "markdown",
   "metadata": {
    "cell_id": "a303970e06984ffb8dea78b757edd05c",
    "deepnote_cell_type": "markdown"
   },
   "source": [
    "Question 1 - Variable & Operators <br/>\n",
    "Question 2 - String, List, Tuple, Dictionary <br/>\n",
    "Question 3 - if-else, conditionals <br/>\n",
    "Question 4 - for loop <br/>\n",
    "Question 5 - while loop <br/>\n",
    "Question 6 - functions"
   ]
  },
  {
   "cell_type": "markdown",
   "metadata": {
    "cell_id": "4a21c3921bbb4e119ab3da7d35a0c91f",
    "deepnote_cell_type": "markdown"
   },
   "source": [
    "<hr/>"
   ]
  },
  {
   "cell_type": "markdown",
   "metadata": {
    "cell_id": "36eb3a7c7c0d41deb46daee5af4bf911",
    "deepnote_cell_type": "markdown"
   },
   "source": [
    "# Question 1 - Variables & Operators"
   ]
  },
  {
   "cell_type": "markdown",
   "metadata": {
    "cell_id": "3e2653e4d6784c12a8c88812d76d2538",
    "deepnote_cell_type": "markdown"
   },
   "source": [
    "> **[ Question 1A ]** <br/>\n",
    "Assign 59 to a variable <b>floor_area_1</b> <br/>"
   ]
  },
  {
   "cell_type": "code",
   "execution_count": null,
   "metadata": {
    "cell_id": "d4fca011fb5c4e32b0b1eb5489b2297d",
    "deepnote_cell_type": "code"
   },
   "outputs": [],
   "source": [
    "<..>"
   ]
  },
  {
   "cell_type": "code",
   "execution_count": 2,
   "metadata": {},
   "outputs": [],
   "source": [
    "floor_area_1 = 59"
   ]
  },
  {
   "cell_type": "markdown",
   "metadata": {
    "cell_id": "0c8fddfcae774ddfb7f681462574f846",
    "deepnote_cell_type": "markdown"
   },
   "source": [
    "> **[ Question 1B ]** <br/>\n",
    "Assign 82 to a variable <b>floor_area_2</b> "
   ]
  },
  {
   "cell_type": "code",
   "execution_count": null,
   "metadata": {
    "cell_id": "4447f2d93e924648942c2f75f270eec2",
    "deepnote_cell_type": "code"
   },
   "outputs": [],
   "source": [
    "<..>"
   ]
  },
  {
   "cell_type": "code",
   "execution_count": 3,
   "metadata": {},
   "outputs": [],
   "source": [
    "floor_area_2 = 82"
   ]
  },
  {
   "cell_type": "markdown",
   "metadata": {
    "cell_id": "269d952f9491428dbd8350143082b196",
    "deepnote_cell_type": "markdown"
   },
   "source": [
    "> **[ Question 1C ]** <br/>\n",
    ">- Prompt user to input a value and assign the value to a variable called <b>floor_area_3</b>. \n",
    ">- User will see \\\"Enter the floor area in square meters = \\\" (double quotes not included)\n",
    ">- Assume user keys in <b>60</b>.\n",
    ">- Change the data type of the variable, allowing the variable to be used in mathematical operations (e.g. summation and deduction)\n",
    ">\n",
    "> 📑  <i>You can assume that the user will not input anything other than numbers. So there is no need to check for errors.</i><br/>\n"
   ]
  },
  {
   "cell_type": "code",
   "execution_count": null,
   "metadata": {
    "cell_id": "a067e82f4b02499c9e1963adc3c6035f",
    "deepnote_cell_type": "code"
   },
   "outputs": [],
   "source": [
    "<..>\n",
    "<..>"
   ]
  },
  {
   "cell_type": "code",
   "execution_count": 4,
   "metadata": {},
   "outputs": [
    {
     "name": "stdout",
     "output_type": "stream",
     "text": [
      "Enter the floor area in square meters = 60\n",
      "The area of room 3 is 60.0 square meters.\n",
      "The total floor area is 201.0 square meters.\n",
      "The difference in floor area between room 1 and room 2 is 23 square meters.\n"
     ]
    }
   ],
   "source": [
    "# Prompt user to input a value for floor area and assign it to a variable\n",
    "floor_area_3 = float(input(\"Enter the floor area in square meters = \"))\n",
    "\n",
    "# Use the value in mathematical operations\n",
    "print(\"The area of room 3 is\", floor_area_3, \"square meters.\")\n",
    "\n",
    "# Example mathematical operations\n",
    "total_area = floor_area_1 + floor_area_2 + floor_area_3\n",
    "print(\"The total floor area is\", total_area, \"square meters.\")\n",
    "\n",
    "difference = floor_area_2 - floor_area_1\n",
    "print(\"The difference in floor area between room 1 and room 2 is\", difference, \"square meters.\")\n"
   ]
  },
  {
   "cell_type": "markdown",
   "metadata": {
    "cell_id": "2630d6ec8e2b461fb979b981743fb60c",
    "deepnote_cell_type": "markdown"
   },
   "source": [
    "> **[ Question 1D ]**  <br/>\n",
    ">\n",
    ">Write the code to calculate the average of the three floor_area variables - **floor_area_1**, **floor_area_2**, and **floor_area_3**, and store the average value into a variable **floor_area_mean**.<br/>\n",
    "\n"
   ]
  },
  {
   "cell_type": "code",
   "execution_count": null,
   "metadata": {
    "cell_id": "6a14934059e9457386032a693995d66c",
    "deepnote_cell_type": "code"
   },
   "outputs": [],
   "source": [
    "<..>"
   ]
  },
  {
   "cell_type": "code",
   "execution_count": 5,
   "metadata": {},
   "outputs": [],
   "source": [
    "floor_area_mean = (floor_area_1 + floor_area_2 + floor_area_3) / 3\n"
   ]
  },
  {
   "cell_type": "markdown",
   "metadata": {
    "cell_id": "bdd90b5bab034499a56d1b883c3da335",
    "deepnote_cell_type": "markdown"
   },
   "source": [
    "> **[ Question 1E ]** <br/>\n",
    "Print out the value stored in <b>floor_area_mean</b> to produce the same output below: <br/>\n",
    "\n",
    ">Example output when the average floor area is 67 is shown below: <br/>\n",
    "\\\"The average floor area of the HDB units is 67.0 square meters.\\\"\n",
    "\n",
    "> 📑  <i> your code should work with any value stored in the **floor_area_mean**</i><br/>\n"
   ]
  },
  {
   "cell_type": "code",
   "execution_count": null,
   "metadata": {
    "cell_id": "823cbc7f5cca47c39ff9e5355c80a2c7",
    "deepnote_cell_type": "code"
   },
   "outputs": [],
   "source": [
    "print(<..>) "
   ]
  },
  {
   "cell_type": "code",
   "execution_count": 6,
   "metadata": {},
   "outputs": [
    {
     "name": "stdout",
     "output_type": "stream",
     "text": [
      "The average floor area of the HDB units is 67.0 square meters.\n"
     ]
    }
   ],
   "source": [
    "print(\"The average floor area of the HDB units is\", floor_area_mean, \"square meters.\")\n"
   ]
  },
  {
   "cell_type": "markdown",
   "metadata": {
    "cell_id": "d895e82ec15b4b23b07970839d17e08b",
    "deepnote_cell_type": "markdown"
   },
   "source": [
    "## Question 2 - String, List, Tuple, Dictionary"
   ]
  },
  {
   "cell_type": "markdown",
   "metadata": {
    "cell_id": "17da0c6b6e5c4fc9bd376ead01d71a0d",
    "deepnote_cell_type": "markdown"
   },
   "source": [
    "> **[ Question 2A ]** <br/>\n",
    ">1) Decide on a data type (either String, List, Tuple, or Dictionary) to use for the following use case: <br/>\n",
    ">- I want to store the following information in a variable so that I can retrieve the town (e.g. Bedok), based on the postal code.<br/>\n",
    ">- I want to be able to change some of the values (e.g. Bedok) associated with a particular postal code from time to time.<br/>\n",
    ">- There should be no duplicated postal codes stored in the variable\n",
    ">- Order of the postal codes does not matter.<br/>\n",
    ">\n",
    ">2) When you have decided, create such a variable called <b>postal_to_town</b> and store the following information into it:<br/>\n",
    ">- 470703 --> Bedok \n",
    ">- 530406 --> Hougang \n",
    ">- 460002 --> BEDOK\n",
    ">- 330000 --> Clementi"
   ]
  },
  {
   "cell_type": "code",
   "execution_count": null,
   "metadata": {
    "cell_id": "86b0ba60e80e43018a71b61f9cbbd47a",
    "deepnote_cell_type": "code"
   },
   "outputs": [],
   "source": [
    "<..>"
   ]
  },
  {
   "cell_type": "code",
   "execution_count": 7,
   "metadata": {},
   "outputs": [],
   "source": [
    "postal_to_town = {\n",
    "    \"470703\": \"Bedok\",\n",
    "    \"530406\": \"Hougang\",\n",
    "    \"460002\": \"BEDOK\",\n",
    "    \"330000\": \"Clementi\"\n",
    "}\n"
   ]
  },
  {
   "cell_type": "markdown",
   "metadata": {
    "cell_id": "e4be4eb356ce4430a6845a52150c0939",
    "deepnote_cell_type": "markdown"
   },
   "source": [
    "> **[ Question 2B ]** <br/>\n",
    "Change the town for the postal code 460002 to Sentence case (only first character is capitalized) <br/>\n",
    "You're **required to use a string method** to change the town's name to Sentence case.<br/>\n",
    "Print out the town for postal code 46002 after you have changed the value, you should have the output as below:<br/>\n",
    "\n",
    ">Bedok"
   ]
  },
  {
   "cell_type": "code",
   "execution_count": null,
   "metadata": {
    "cell_id": "69d261c684224033985a16bfb5e84185",
    "deepnote_cell_type": "code"
   },
   "outputs": [],
   "source": [
    "<..>\n",
    "print(<..>)"
   ]
  },
  {
   "cell_type": "code",
   "execution_count": 8,
   "metadata": {},
   "outputs": [
    {
     "name": "stdout",
     "output_type": "stream",
     "text": [
      "Bedok\n"
     ]
    }
   ],
   "source": [
    "# Change town name to sentence case\n",
    "postal_to_town[\"460002\"] = postal_to_town[\"460002\"].capitalize()\n",
    "\n",
    "# Print town name for postal code 460002\n",
    "print(postal_to_town[\"460002\"])\n"
   ]
  },
  {
   "cell_type": "markdown",
   "metadata": {
    "cell_id": "1456a309279943d5860747068167cb42",
    "deepnote_cell_type": "markdown"
   },
   "source": [
    "> **[ Question 2C ]** <br/>\n",
    ">1) Decide on a data type (either String, List, Tuple, or Dictionary) to use for the following use case:\n",
    ">\n",
    ">- I want to read in values and store them as I read them in sequentially.\n",
    ">- Order matters.\n",
    ">- Repeated values are ok.\n",
    ">- I want to be able to add/remove some of the items too\n",
    ">\n",
    ">2) When you have decided, create such a variable called <b>yearmonth</b> and store the following information into it:\n",
    ">- 2015-07\n",
    ">- 2016-04\n",
    ">- 2014-04\n",
    ">- 2015-12\n",
    ">- 2016-12"
   ]
  },
  {
   "cell_type": "code",
   "execution_count": null,
   "metadata": {
    "cell_id": "d5544f804b424929a815dc0f465d83a6",
    "deepnote_cell_type": "code"
   },
   "outputs": [],
   "source": [
    "<..>"
   ]
  },
  {
   "cell_type": "code",
   "execution_count": 9,
   "metadata": {},
   "outputs": [],
   "source": [
    "yearmonth = ['2015-07', '2016-04', '2014-04', '2015-12', '2016-12']\n"
   ]
  },
  {
   "cell_type": "markdown",
   "metadata": {
    "cell_id": "ea456a35bd9e41c7b9909eaf651cf58f",
    "deepnote_cell_type": "markdown"
   },
   "source": [
    "> **[ Question 2D ]** <br/>\n",
    "Retrieve the 3rd item in your variable **yearmonth**, then separately store the year and month into two variables called **year** and **month** respectively. <br/>\n",
    ">Using the variables **year** and **month**, print the **year** and **month** in a statement that looks like this: <br/>\n",
    "\n",
    ">The unit was sold in year 2014, month 4 of the year.<br/>\n",
    "\n",
    "> 📑  <i> Note: You can use a string method, or index slicing, or any other method that you think is suitable. Also feel free to define new variable(s) if needed.</i><br/>"
   ]
  },
  {
   "cell_type": "code",
   "execution_count": null,
   "metadata": {
    "cell_id": "cd33ae6f388245c3b2d423901724a688",
    "deepnote_cell_type": "code"
   },
   "outputs": [],
   "source": [
    "<..>\n",
    "year = <..>\n",
    "month = <..>\n",
    "\n",
    "print(<..>)"
   ]
  },
  {
   "cell_type": "code",
   "execution_count": 10,
   "metadata": {},
   "outputs": [
    {
     "name": "stdout",
     "output_type": "stream",
     "text": [
      "The unit was sold in year 2014, month 04 of the year.\n"
     ]
    }
   ],
   "source": [
    "yearmonth = ['2015-07', '2016-04', '2014-04', '2015-12', '2016-12']\n",
    "\n",
    "# Get the 3rd item (index 2) and split it into year and month using the '-' separator\n",
    "year, month = yearmonth[2].split('-')\n",
    "\n",
    "# Print the statement with the year and month variables\n",
    "print(f\"The unit was sold in year {year}, month {month} of the year.\")\n"
   ]
  },
  {
   "cell_type": "markdown",
   "metadata": {
    "cell_id": "7bf23f4f8ecb4ae8b98afafed840efd7",
    "deepnote_cell_type": "markdown"
   },
   "source": [
    "# Question 3 - If-Else"
   ]
  },
  {
   "cell_type": "markdown",
   "metadata": {
    "cell_id": "667b75471a924009ab68a55bf26653f1",
    "deepnote_cell_type": "markdown"
   },
   "source": [
    "> **[ Question 3A ]** <br/>\n",
    "Assign <b>True</b> to a variable <b>multistorey_carpark</b> <br/>"
   ]
  },
  {
   "cell_type": "code",
   "execution_count": null,
   "metadata": {
    "cell_id": "9effccbb98ed48f2aa375c4ef217d9d6",
    "deepnote_cell_type": "code"
   },
   "outputs": [],
   "source": [
    "<..>"
   ]
  },
  {
   "cell_type": "code",
   "execution_count": 11,
   "metadata": {},
   "outputs": [],
   "source": [
    "multistorey_carpark = True\n"
   ]
  },
  {
   "cell_type": "markdown",
   "metadata": {
    "cell_id": "d932c715dcfa4cd4b82821c113149909",
    "deepnote_cell_type": "markdown"
   },
   "source": [
    "> **[ Question 3B ]** <br/>\n",
    "Assign a string value <b>high</b> to a variable **floor_type** <br/>\n",
    "\n",
    ">📑  <i> Note: Assume there are only 2 categories of **floor_type**: a) *high* and b) *low*.</i>\n"
   ]
  },
  {
   "cell_type": "code",
   "execution_count": null,
   "metadata": {
    "cell_id": "52185fa20a4b4b5c8496731d5c71c956",
    "deepnote_cell_type": "code"
   },
   "outputs": [],
   "source": [
    "<..>"
   ]
  },
  {
   "cell_type": "code",
   "execution_count": 12,
   "metadata": {},
   "outputs": [],
   "source": [
    "floor_type = \"high\"\n"
   ]
  },
  {
   "cell_type": "markdown",
   "metadata": {
    "cell_id": "219f57e345e24d2faff783a1470162a8",
    "deepnote_cell_type": "markdown"
   },
   "source": [
    "> **[ Question 3C ]** <br/>\n",
    "Fill in the if-else logic below according to the rules here:<br/>\n",
    ">- If the unit is on high floor and has a multistorey carpark, it meets all requirements of the client<br/>\n",
    ">- If the unit is on high floor but does not have a multistorey carpark, it only meets the key criterion of the client<br/>\n",
    ">- If the unit is on low floor and has a multistorey a carpark, it only meets the non-critical criterion of the client <br/>\n",
    ">- If the unit is on low floor and does not have a multistorey carpark, it meets none of the requirements of the client <br/>\n"
   ]
  },
  {
   "cell_type": "code",
   "execution_count": null,
   "metadata": {
    "cell_id": "71ead0ca2cf44835808d0da3d0c80c2e",
    "deepnote_cell_type": "code"
   },
   "outputs": [],
   "source": [
    "if <..>:\n",
    "    print(\"This unit meets all requirements of the client\")\n",
    "elif <..>:\n",
    "    print(\"This unit only meets the key criterion of the client\")\n",
    "elif <..>:\n",
    "    print(\"This unit only meets the non-critical criterion of the client\")\n",
    "elif <..>:\n",
    "    print(\"This unit meets none of the requirements of the client\")"
   ]
  },
  {
   "cell_type": "code",
   "execution_count": 13,
   "metadata": {},
   "outputs": [
    {
     "name": "stdout",
     "output_type": "stream",
     "text": [
      "This unit meets all requirements of the client\n"
     ]
    }
   ],
   "source": [
    "if floor_type == \"high\" and multistorey_carpark:\n",
    "    print(\"This unit meets all requirements of the client\")\n",
    "elif floor_type == \"high\":\n",
    "    print(\"This unit only meets the key criterion of the client\")\n",
    "elif floor_type == \"low\" and multistorey_carpark:\n",
    "    print(\"This unit only meets the non-critical criterion of the client\")\n",
    "else:\n",
    "    print(\"This unit meets none of the requirements of the client\")\n"
   ]
  },
  {
   "cell_type": "markdown",
   "metadata": {
    "cell_id": "329ad49def1f4d7ab2e2596214d4ce9d",
    "deepnote_cell_type": "markdown"
   },
   "source": [
    "# Question 4 - For Loop "
   ]
  },
  {
   "cell_type": "markdown",
   "metadata": {
    "cell_id": "4dd663c01ad64d9390d6e6a66adb8e59",
    "deepnote_cell_type": "markdown"
   },
   "source": [
    "> **[ Question 4A ]**  <br/>\n",
    "Initialise a list with six values [20, 5, 45, 9, 1, 15] (in precisely this sequence), and store it into a variable, <b>age_list</b>. \n",
    "\n",
    ">📑 *Note: These are the age of six different HDB blocks, in number of years*"
   ]
  },
  {
   "cell_type": "code",
   "execution_count": null,
   "metadata": {
    "cell_id": "90a29649bfe34d3582ea907647a203a8",
    "deepnote_cell_type": "code"
   },
   "outputs": [],
   "source": [
    "<..>"
   ]
  },
  {
   "cell_type": "code",
   "execution_count": 14,
   "metadata": {},
   "outputs": [],
   "source": [
    "age_list = [20, 5, 45, 9, 1, 15]"
   ]
  },
  {
   "cell_type": "markdown",
   "metadata": {
    "cell_id": "dd26e8f82d8f4b489e9b995a884e8e93",
    "deepnote_cell_type": "markdown"
   },
   "source": [
    "> **[ Question 4B ]** <br/>\n",
    "Write the code to loop through the list <b>age_list</b>, and print out the following:<br/>\n",
    ">- if the age of the HDB block is older than 20 years old, print <i>\"Matured Estate - x years\"</i> where x is the age in number.<br/>\n",
    ">- if the age of the HDB block is 20 or below and at least 5, print <i>\"Non-Matured Estate - x years\"</i> where x is that number.<br/>\n",
    ">- if the age of the HDB block is less than 5, it should be ignored. \n",
    "\n",
    "> Based on your list initialised in Question 4A, after running the code below, you should see:<br/>\n",
    "> Non-Matured Estate - 20 years<br/>\n",
    "> Non-Matured Estate - 5 years<br/>\n",
    "> Matured Estate - 45 years<br/>\n",
    "> Non-Matured Estate - 9 years<br/>\n",
    "> Non-Matured Estate - 15 years<br/>\n"
   ]
  },
  {
   "cell_type": "code",
   "execution_count": null,
   "metadata": {
    "cell_id": "c20dfe3ba4b54d19b24e93f60054bcf8",
    "deepnote_cell_type": "code"
   },
   "outputs": [],
   "source": [
    "for <..>:\n",
    "    <..>"
   ]
  },
  {
   "cell_type": "code",
   "execution_count": 15,
   "metadata": {},
   "outputs": [
    {
     "name": "stdout",
     "output_type": "stream",
     "text": [
      "Non-Matured Estate - 20 years\n",
      "Non-Matured Estate - 5 years\n",
      "Matured Estate - 45 years\n",
      "Non-Matured Estate - 9 years\n",
      "Non-Matured Estate - 15 years\n"
     ]
    }
   ],
   "source": [
    "for age in age_list:\n",
    "    if age > 20:\n",
    "        print(\"Matured Estate - {} years\".format(age))\n",
    "    elif age >= 5:\n",
    "        print(\"Non-Matured Estate - {} years\".format(age))\n",
    "    else:\n",
    "        pass\n"
   ]
  },
  {
   "cell_type": "markdown",
   "metadata": {
    "cell_id": "bd1f844fd8ce4606bb38c259baf0e26f",
    "deepnote_cell_type": "markdown"
   },
   "source": [
    ">**[ Question 4C ]** <br/>\n",
    "In the cell below, modify your code from 4 b) such that:<br/>\n",
    "You initialise a variable <b>shortlisted</b> as an empty list (code is provided, no modification is needed for this first line of code). <br/>\n",
    "Then inside your <b>for loop</b>, you should add the age of the HDB block to the list **shortlisted** ONLY if the age is not more than 20 years old but is at least 5 years old.<br/>\n",
    "After you exit from the <b>for loop</b>, print out that number of items in the list.<br/>\n",
    "\n",
    "> Based on your list initialised in Question 4A), after running your codes below, you should see:<br/>\n",
    "Non-Matured Estate - 20 years <br/>\n",
    "Non-Matured Estate - 5 years <br/>\n",
    "Matured Estate - 45 years <br/>\n",
    "Non-Matured Estate - 9 years <br/>\n",
    "Non-Matured Estate - 15 years <br/>\n",
    "Length of the list is 4 <br/>\n",
    "\n",
    "> 📑  <i> Note: You can use .append() and .remove() functions from a list object to add and drop items</i><br/>"
   ]
  },
  {
   "cell_type": "code",
   "execution_count": null,
   "metadata": {
    "cell_id": "11bff4eef58d498e9bd8547dbbd0ba20",
    "deepnote_cell_type": "code"
   },
   "outputs": [],
   "source": [
    "shortlisted = []\n",
    "\n",
    "for <..>:\n",
    "    <..>\n",
    "\n",
    "print(<..>)"
   ]
  },
  {
   "cell_type": "code",
   "execution_count": 16,
   "metadata": {},
   "outputs": [
    {
     "name": "stdout",
     "output_type": "stream",
     "text": [
      "Non-Matured Estate - 20 years\n",
      "Non-Matured Estate - 5 years\n",
      "Matured Estate - 45 years\n",
      "Non-Matured Estate - 9 years\n",
      "Non-Matured Estate - 15 years\n",
      "Length of the list is 4\n"
     ]
    }
   ],
   "source": [
    "shortlisted = []\n",
    "\n",
    "for age in age_list:\n",
    "    if age > 20:\n",
    "        print(f\"Matured Estate - {age} years\")\n",
    "    elif age >= 5:\n",
    "        print(f\"Non-Matured Estate - {age} years\")\n",
    "        if age <= 20:\n",
    "            shortlisted.append(age)\n",
    "\n",
    "print(f\"Length of the list is {len(shortlisted)}\")\n"
   ]
  },
  {
   "cell_type": "markdown",
   "metadata": {
    "cell_id": "48ca1c1617e44d7096538437946e347c",
    "deepnote_cell_type": "markdown"
   },
   "source": [
    "# Question 5 - While Loop "
   ]
  },
  {
   "cell_type": "markdown",
   "metadata": {
    "cell_id": "aec94fcf932849f18e8ae6e7ed815994",
    "deepnote_cell_type": "markdown"
   },
   "source": [
    "> **[ Question 5A ]** <br/>\n",
    "Prompt a user for an input with 'Tell me the floor area in Square Meters'.<br/>\n",
    "Then, cast the input into an integer.<br/>\n",
    "Then, convert that Square Meters into Square Feet.<br/>\n",
    "Then, print out the floor area in Square Feet.<br/>\n",
    "\n",
    ">For example, if the user keyed in 110 square meters, the output would look like:<br/>\n",
    "Tell me the floor area in Square Meters: 110 <br/>\n",
    "The floor area in square meters converted to square feet is: 1184.04<br/>\n",
    "\n",
    "> 📑  <i> Note:1 meter<sup>2</sup> = 10.764 feet<sup>2</sup></i><br/>"
   ]
  },
  {
   "cell_type": "code",
   "execution_count": null,
   "metadata": {
    "cell_id": "f8f1780aaf4e4656a90908986b235282",
    "deepnote_cell_type": "code"
   },
   "outputs": [],
   "source": [
    "floor_area_sqm = <..>('Tell me the floor area in Square Meters: ')\n",
    "floor_area_sqm = <..>(floor_area_sqm)\n",
    "floor_area_sqft = <..>\n",
    "print(<..>)"
   ]
  },
  {
   "cell_type": "code",
   "execution_count": 17,
   "metadata": {},
   "outputs": [
    {
     "name": "stdout",
     "output_type": "stream",
     "text": [
      "Tell me the floor area in Square Meters: 110\n",
      "The floor area in square meters converted to square feet is: 1184.04\n"
     ]
    }
   ],
   "source": [
    "floor_area_sqm = input('Tell me the floor area in Square Meters: ')\n",
    "floor_area_sqm = int(floor_area_sqm)\n",
    "floor_area_sqft = floor_area_sqm * 10.764\n",
    "print('The floor area in square meters converted to square feet is:', floor_area_sqft)\n"
   ]
  },
  {
   "cell_type": "markdown",
   "metadata": {
    "cell_id": "f889afb6a11e465e918ead7c375762b3",
    "deepnote_cell_type": "markdown"
   },
   "source": [
    "> **[ Question 5B ]** <br/>\n",
    "Rewrite your code in Question 5A such that the code runs within a while loop. Only exit when the user keys in <b>exit</b>.<br/>\n",
    "> Sample Output after you run your codes below: <br/>\n",
    "\n",
    "> Tell me the floor area in Square Meters: 90 <br/>\n",
    "> The floor area in square meter in square feet is: 968.76 <br/>\n",
    "> Tell me the floor area in Square Meters: 130 <br/>\n",
    "> The floor area in square meter in square feet is: 1399.32 <br/>\n",
    "> Tell me the floor area in Square Meters: exit\n",
    "\n",
    "> 📑  <i> Note: You can assume the user will only key in either a number, or \"exit\", hence no need for error checking. </i><br/>"
   ]
  },
  {
   "cell_type": "code",
   "execution_count": null,
   "metadata": {
    "cell_id": "9f73a2e28b0d40be9c793b166803b00a",
    "deepnote_cell_type": "code"
   },
   "outputs": [],
   "source": [
    "floor_area_sqm = \"\"\n",
    "\n",
    "while <..>:\n",
    "    <..>"
   ]
  },
  {
   "cell_type": "code",
   "execution_count": 18,
   "metadata": {},
   "outputs": [
    {
     "name": "stdout",
     "output_type": "stream",
     "text": [
      "Tell me the floor area in Square Meters: 90\n",
      "The floor area in square meters converted to square feet is: 968.76\n",
      "Tell me the floor area in Square Meters: 130\n",
      "The floor area in square meters converted to square feet is: 1399.32\n",
      "Tell me the floor area in Square Meters: exit\n"
     ]
    }
   ],
   "source": [
    "while True:\n",
    "    floor_area_sqm = input('Tell me the floor area in Square Meters: ')\n",
    "    if floor_area_sqm.lower() == 'exit':\n",
    "        break\n",
    "    floor_area_sqm = int(floor_area_sqm)\n",
    "    floor_area_sqft = floor_area_sqm * 10.764\n",
    "    print(f\"The floor area in square meters converted to square feet is: {floor_area_sqft:.2f}\")\n"
   ]
  },
  {
   "cell_type": "markdown",
   "metadata": {
    "cell_id": "afc3398cdda84fa4a02da05211a5951c",
    "deepnote_cell_type": "markdown"
   },
   "source": [
    "# Questions 6 - Functions"
   ]
  },
  {
   "cell_type": "markdown",
   "metadata": {
    "cell_id": "1628ed443c6847abb44eaf84b56e5c51",
    "deepnote_cell_type": "markdown"
   },
   "source": [
    "> **[ Question 6A ]** <br/>\n",
    "All the addresses for HDB blocks are in the same pattern as shown in the examples below: <br/>\n",
    "556, ANG MO KIO AVE 10 <br/>\n",
    "28A, DOVER CRES <br/>\n",
    "13, HOLLAND DR <br/>\n",
    "9, MARSILING DR <br/>\n",
    "\n",
    "\n",
    "> Write a function called **get_address** that will take one **address** as the input parameter (e.g. \"13, HOLLAND DR\") and only return the **street_name** - \"HOLLAND DR\", which is the part after the \", \" <br/>\n",
    "\n",
    "> 📑 Note: \n",
    ">>*You are required to string method - split() in your solution.* <br/>\n",
    ">>*Take note that there is no space before the street name that the function returns*"
   ]
  },
  {
   "cell_type": "code",
   "execution_count": null,
   "metadata": {
    "cell_id": "d67f9b6eacf54324ba5afe9ebde53fef",
    "deepnote_cell_type": "code"
   },
   "outputs": [],
   "source": [
    "def get_address(address):\n",
    "    street_name = <..>\n",
    "    <..> street_name\n",
    "    "
   ]
  },
  {
   "cell_type": "code",
   "execution_count": 19,
   "metadata": {},
   "outputs": [],
   "source": [
    "def get_address(address):\n",
    "    street_name = address.split(\", \")[1]\n",
    "    return street_name\n"
   ]
  },
  {
   "cell_type": "markdown",
   "metadata": {
    "cell_id": "6ad448e1ba5f4784b835e7b73b0bb4ed",
    "deepnote_cell_type": "markdown"
   },
   "source": [
    "Then, test your function by calling it with the input parameter \"28A, DOVER CRES\"\n",
    "You should see the same output as below:\n",
    "'DOVER CRES'"
   ]
  },
  {
   "cell_type": "code",
   "execution_count": null,
   "metadata": {
    "cell_id": "f55ea0b9e6dd4a43a5535d59a808445f",
    "deepnote_cell_type": "code"
   },
   "outputs": [],
   "source": [
    "<..>"
   ]
  },
  {
   "cell_type": "code",
   "execution_count": 20,
   "metadata": {},
   "outputs": [
    {
     "name": "stdout",
     "output_type": "stream",
     "text": [
      "DOVER CRES\n"
     ]
    }
   ],
   "source": [
    "def get_address(address):\n",
    "    street_name = address.split(\", \")[1]\n",
    "    return street_name\n",
    "\n",
    "print(get_address(\"28A, DOVER CRES\"))\n"
   ]
  },
  {
   "cell_type": "markdown",
   "metadata": {
    "cell_id": "e79e6ed709bf4ccba1763971ce02411c",
    "deepnote_cell_type": "markdown"
   },
   "source": [
    "> **[ Question 6B ]** <br/>\n",
    "> A piece of information about each HDB unit sold is this \"storey_range\", which shows the floor as a range from X to Y. The information is always in this format, shown by the examples below: <br/>\n",
    "> 07 TO 09 <br/>\n",
    "> 04 TO 06 <br/>\n",
    "> 10 TO 12 <br/>\n",
    "> 19 TO 21 <br/>\n",
    "\n",
    "> Write a function called **\"get_middle_floor\"** that takes in one **storey_range** as the input parameter (e.g. \"07 TO 09\") <br/>\n",
    "> Within that function, do the following:<br/>\n",
    ">- Extract the first number (i.e. \"07\") and store in variable called **lower_end** <br/>\n",
    ">- Extract the second number (i.e. \"09\") and store in variable called **higher_end** <br/>\n",
    ">- Calculate the middle point of the two numbers and store in a variable called **middle** <br/>\n",
    ">- Return the value stored in the variable **middle** as integer<br/>\n",
    "\n",
    "\n",
    "> 📑 <i> Note: You will need to convert (or cast) the data type for variables, **lower_end** and **higher_end**, before calculating the middle point of the two values<i/>"
   ]
  },
  {
   "cell_type": "code",
   "execution_count": null,
   "metadata": {
    "cell_id": "a38362a2c81d4f2e8ed19a2f9c408869",
    "deepnote_cell_type": "code"
   },
   "outputs": [],
   "source": [
    "def get_middle_floor(<..>):\n",
    "    lower_end = <..>\n",
    "    higher_end = <..>\n",
    "    middle = <..>\n",
    "    <..>"
   ]
  },
  {
   "cell_type": "code",
   "execution_count": 21,
   "metadata": {},
   "outputs": [],
   "source": [
    "def get_middle_floor(storey_range):\n",
    "    lower_end = int(storey_range.split()[0])\n",
    "    higher_end = int(storey_range.split()[2])\n",
    "    middle = (lower_end + higher_end) // 2\n",
    "    return middle\n"
   ]
  },
  {
   "cell_type": "markdown",
   "metadata": {
    "cell_id": "6d772d10745346be96be2aa39a7fb207",
    "deepnote_cell_type": "markdown"
   },
   "source": [
    "> Then, test your function by invoking it with the input parameter \"\"04 TO 06\"\" <br/>\n",
    "> You should see the same output as below: <br/>\n",
    "> 5"
   ]
  },
  {
   "cell_type": "code",
   "execution_count": null,
   "metadata": {
    "cell_id": "6a25394e279a488d85a00bbd130e4398",
    "deepnote_cell_type": "code"
   },
   "outputs": [],
   "source": [
    "<..>"
   ]
  },
  {
   "cell_type": "code",
   "execution_count": 22,
   "metadata": {},
   "outputs": [
    {
     "name": "stdout",
     "output_type": "stream",
     "text": [
      "5\n"
     ]
    }
   ],
   "source": [
    "print(get_middle_floor(\"04 TO 06\"))\n"
   ]
  },
  {
   "cell_type": "markdown",
   "metadata": {
    "cell_id": "f99478df327c473cbe5874ba00faf53f",
    "deepnote_cell_type": "markdown"
   },
   "source": [
    "> **[ Question 6C ]** <br/>\n",
    "> Write a function called **get_floor_category** that similarly takes in one **storey_range** as the input parameter (e.g. \"04 TO 06\"), but it should return the **floor_category**, which is decided based on the following logics: <br/> \n",
    ">- if the value in the **middle** variable is from 11 floor and above, your function should return **\"High Floor\"**\n",
    ">- if the value in the **middle** variable is between 5 to 10, your function should return **\"Middle Floor\"**\n",
    ">- if the value in the **middle** variable is below 5, your function should return **\"Low Floor\"**\n",
    "\n",
    "> 📑 <i>  You'll need to call your function **get_middle_floor** from Question 6B within this new function **get_floor_category**.\n",
    "<i/>"
   ]
  },
  {
   "cell_type": "code",
   "execution_count": null,
   "metadata": {
    "cell_id": "e084747a6e1540ea9b5a3ea75623f73f",
    "deepnote_cell_type": "code"
   },
   "outputs": [],
   "source": [
    "def <..>:\n",
    "    middle = <..>\n",
    "    \n",
    "    floor_category = \"\"\n",
    "    if <..>:\n",
    "        <..>\n",
    "    elif <..>:\n",
    "        <..>\n",
    "    <..>\n",
    "    <..>"
   ]
  },
  {
   "cell_type": "code",
   "execution_count": 24,
   "metadata": {},
   "outputs": [],
   "source": [
    "def get_floor_category(storey_range):\n",
    "    middle = get_middle_floor(storey_range)\n",
    "    \n",
    "    floor_category = \"\"\n",
    "    if middle >= 11:\n",
    "        floor_category = \"High Floor\"\n",
    "    elif middle >= 5 and middle <= 10:\n",
    "        floor_category = \"Middle Floor\"\n",
    "    else:\n",
    "        floor_category = \"Low Floor\"\n",
    "    \n",
    "    return floor_category\n"
   ]
  },
  {
   "cell_type": "markdown",
   "metadata": {
    "cell_id": "6008bcc1b2d54ebd87bc77573cee0703",
    "deepnote_cell_type": "markdown"
   },
   "source": [
    "> Then, test your function by invoking it with the input parameter \"\"04 TO 06\"\" <br/>\n",
    "> You should see the same output as below: <br/>\n",
    "> 'Middle Floor'"
   ]
  },
  {
   "cell_type": "code",
   "execution_count": null,
   "metadata": {
    "cell_id": "62f3380fdd0e4efe8fa19eab1588fa22",
    "deepnote_cell_type": "code"
   },
   "outputs": [],
   "source": [
    "<..>"
   ]
  },
  {
   "cell_type": "code",
   "execution_count": 25,
   "metadata": {},
   "outputs": [
    {
     "name": "stdout",
     "output_type": "stream",
     "text": [
      "Middle Floor\n"
     ]
    }
   ],
   "source": [
    "print(get_floor_category(\"04 TO 06\"))\n"
   ]
  },
  {
   "cell_type": "markdown",
   "metadata": {
    "cell_id": "61e87bd6418c449a9fc1a4a6cea30751",
    "deepnote_cell_type": "markdown"
   },
   "source": [
    "⬇️ Enter your email below as a string below."
   ]
  },
  {
   "cell_type": "code",
   "execution_count": null,
   "metadata": {
    "cell_id": "196b4b17e2cc443ea95ed71ad738db1c",
    "deepnote_cell_type": "code"
   },
   "outputs": [],
   "source": [
    "email = \"My Official Email Address\""
   ]
  },
  {
   "cell_type": "code",
   "execution_count": 26,
   "metadata": {},
   "outputs": [],
   "source": [
    "email = \"isaac_sadikin@pub.gov.sg\""
   ]
  },
  {
   "cell_type": "markdown",
   "metadata": {
    "cell_id": "27accde78b424fefbe1f25fc3ec8660e",
    "deepnote_cell_type": "markdown"
   },
   "source": [
    "---\n",
    "## END OF Capstone Assignment 1\n",
    "\n",
    "- Well done everyone!"
   ]
  },
  {
   "cell_type": "markdown",
   "metadata": {
    "created_in_deepnote_cell": true,
    "deepnote_cell_type": "markdown"
   },
   "source": [
    "<a style='text-decoration:none;line-height:16px;display:flex;color:#5B5B62;padding:10px;justify-content:end;' href='https://deepnote.com?utm_source=created-in-deepnote-cell&projectId=4154fbd9-d990-41b6-baa8-f995bb01f24e' target=\"_blank\">\n",
    "<img alt='Created in deepnote.com' style='display:inline;max-height:16px;margin:0px;margin-right:7.5px;' src='data:image/svg+xml;base64,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' > </img>\n",
    "Created in <span style='font-weight:600;margin-left:4px;'>Deepnote</span></a>"
   ]
  }
 ],
 "metadata": {
  "deepnote": {},
  "deepnote_execution_queue": [],
  "deepnote_notebook_id": "4e80964c346a4589999c2b200ce2ba7d",
  "kernelspec": {
   "display_name": "Python 3",
   "language": "python",
   "name": "python3"
  },
  "language_info": {
   "codemirror_mode": {
    "name": "ipython",
    "version": 3
   },
   "file_extension": ".py",
   "mimetype": "text/x-python",
   "name": "python",
   "nbconvert_exporter": "python",
   "pygments_lexer": "ipython3",
   "version": "3.8.3"
  }
 },
 "nbformat": 4,
 "nbformat_minor": 1
}
