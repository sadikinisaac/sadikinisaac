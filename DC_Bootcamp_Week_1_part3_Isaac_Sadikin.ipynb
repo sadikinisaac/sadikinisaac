{
  "cells": [
    {
      "cell_type": "markdown",
      "metadata": {
        "id": "view-in-github",
        "colab_type": "text"
      },
      "source": [
        "<a href=\"https://colab.research.google.com/github/sadikinisaac/sadikinisaac/blob/master/DC_Bootcamp_Week_1_part3_Isaac_Sadikin.ipynb\" target=\"_parent\"><img src=\"https://colab.research.google.com/assets/colab-badge.svg\" alt=\"Open In Colab\"/></a>"
      ]
    },
    {
      "cell_type": "markdown",
      "metadata": {
        "id": "J8z6KcN5X0b0"
      },
      "source": [
        "# List, Tuple, Dictionary, Set Operations"
      ]
    },
    {
      "cell_type": "markdown",
      "metadata": {
        "id": "4Rfv92asX0b7"
      },
      "source": [
        "## Run The Following Code\n",
        "Hit SHIFT + ENTER when your cusor is inside the cell of code.<br/>"
      ]
    },
    {
      "cell_type": "markdown",
      "metadata": {
        "id": "GrUZ3z5NX0b8"
      },
      "source": [
        "> Create a variable to hold the values \"apple\", \"banana\", \"chiku\", \"durian\". Assign them to the variable <b>store</b> using a list."
      ]
    },
    {
      "cell_type": "code",
      "execution_count": 8,
      "metadata": {
        "colab": {
          "base_uri": "https://localhost:8080/"
        },
        "id": "gfUgIjwfX0b9",
        "outputId": "9f8258c3-4e53-4a63-ca51-eb345fa941d6"
      },
      "outputs": [
        {
          "output_type": "stream",
          "name": "stdout",
          "text": [
            "['apple', 'banana', 'chiku', 'durian']\n"
          ]
        }
      ],
      "source": [
        "store = [\"apple\", \"banana\", \"chiku\", \"durian\"]\n",
        "print(store)"
      ]
    },
    {
      "cell_type": "code",
      "execution_count": 9,
      "metadata": {
        "colab": {
          "base_uri": "https://localhost:8080/"
        },
        "id": "o9RMB-GeX0b_",
        "outputId": "97d9bed4-f114-4149-ebb5-f75cd1b91b82"
      },
      "outputs": [
        {
          "output_type": "execute_result",
          "data": {
            "text/plain": [
              "list"
            ]
          },
          "metadata": {},
          "execution_count": 9
        }
      ],
      "source": [
        "type(store)"
      ]
    },
    {
      "cell_type": "code",
      "execution_count": 10,
      "metadata": {
        "colab": {
          "base_uri": "https://localhost:8080/",
          "height": 37
        },
        "id": "CYIo__BWX0cA",
        "outputId": "820a47bf-899a-4897-8c73-0179a2227ea2"
      },
      "outputs": [
        {
          "output_type": "execute_result",
          "data": {
            "text/plain": [
              "'banana'"
            ],
            "application/vnd.google.colaboratory.intrinsic+json": {
              "type": "string"
            }
          },
          "metadata": {},
          "execution_count": 10
        }
      ],
      "source": [
        "#print out banana\n",
        "store[1]"
      ]
    },
    {
      "cell_type": "markdown",
      "metadata": {
        "id": "7bP9ZG3kX0cB"
      },
      "source": [
        "> Use a tuple instead."
      ]
    },
    {
      "cell_type": "code",
      "execution_count": 11,
      "metadata": {
        "colab": {
          "base_uri": "https://localhost:8080/"
        },
        "id": "agUm5FJTX0cB",
        "outputId": "9e9ed8c2-4ee4-471e-90a4-a52e0ac9fc81"
      },
      "outputs": [
        {
          "output_type": "stream",
          "name": "stdout",
          "text": [
            "('apple', 'banana', 'chiku', 'durian')\n"
          ]
        }
      ],
      "source": [
        "store_tuple = (\"apple\", \"banana\", \"chiku\", \"durian\")\n",
        "print(store_tuple)"
      ]
    },
    {
      "cell_type": "code",
      "execution_count": 12,
      "metadata": {
        "colab": {
          "base_uri": "https://localhost:8080/"
        },
        "id": "ipyPCmFzX0cC",
        "outputId": "b0d4e149-9b83-4df5-a0c8-d7c93fc12285"
      },
      "outputs": [
        {
          "output_type": "execute_result",
          "data": {
            "text/plain": [
              "tuple"
            ]
          },
          "metadata": {},
          "execution_count": 12
        }
      ],
      "source": [
        "type(store_tuple)"
      ]
    },
    {
      "cell_type": "code",
      "execution_count": 13,
      "metadata": {
        "colab": {
          "base_uri": "https://localhost:8080/",
          "height": 37
        },
        "id": "KzPY-ImPX0cC",
        "outputId": "d7f26ed8-8c09-43a9-84ee-a47b2203dee8"
      },
      "outputs": [
        {
          "output_type": "execute_result",
          "data": {
            "text/plain": [
              "'banana'"
            ],
            "application/vnd.google.colaboratory.intrinsic+json": {
              "type": "string"
            }
          },
          "metadata": {},
          "execution_count": 13
        }
      ],
      "source": [
        "#print out banana\n",
        "store_tuple[1]"
      ]
    },
    {
      "cell_type": "markdown",
      "metadata": {
        "id": "SMv9u_KRX0cD"
      },
      "source": [
        "> Using tuples to swap values in a variable"
      ]
    },
    {
      "cell_type": "code",
      "execution_count": 1,
      "metadata": {
        "colab": {
          "base_uri": "https://localhost:8080/"
        },
        "id": "TE3wYjQCX0cD",
        "outputId": "212e94ea-abed-43de-b013-a5ade40ce5c8"
      },
      "outputs": [
        {
          "name": "stdout",
          "output_type": "stream",
          "text": [
            "Key in a name: a\n"
          ]
        }
      ],
      "source": [
        "x = input(\"Key in a name: \")"
      ]
    },
    {
      "cell_type": "code",
      "execution_count": 2,
      "metadata": {
        "colab": {
          "base_uri": "https://localhost:8080/"
        },
        "id": "OGgu-f64X0cE",
        "outputId": "84394e9b-1c36-4821-a401-bb54e869aabe"
      },
      "outputs": [
        {
          "name": "stdout",
          "output_type": "stream",
          "text": [
            "Key in another name: b\n"
          ]
        }
      ],
      "source": [
        "y = input(\"Key in another name: \")"
      ]
    },
    {
      "cell_type": "code",
      "execution_count": 3,
      "metadata": {
        "colab": {
          "base_uri": "https://localhost:8080/"
        },
        "id": "K0ASzK0HX0cE",
        "outputId": "8685d3d8-e0a4-4980-dab6-238adf6a7b4f"
      },
      "outputs": [
        {
          "output_type": "stream",
          "name": "stdout",
          "text": [
            "a\n",
            "b\n"
          ]
        }
      ],
      "source": [
        "print(x)\n",
        "print(y)"
      ]
    },
    {
      "cell_type": "code",
      "execution_count": 4,
      "metadata": {
        "id": "NjeZ-1quX0cF"
      },
      "outputs": [],
      "source": [
        "#Using another variable, swap the values of x with y.\n",
        "temp_t = (x, y);\n",
        "x = temp_t[1]\n",
        "y= temp_t[0]\n"
      ]
    },
    {
      "cell_type": "code",
      "execution_count": 5,
      "metadata": {
        "colab": {
          "base_uri": "https://localhost:8080/"
        },
        "id": "GEXGyBStX0cG",
        "outputId": "f7374889-56fd-4f2c-86ec-049cf30c1a69"
      },
      "outputs": [
        {
          "output_type": "stream",
          "name": "stdout",
          "text": [
            "b\n",
            "a\n"
          ]
        }
      ],
      "source": [
        "print(x)\n",
        "print(y)"
      ]
    },
    {
      "cell_type": "code",
      "execution_count": 6,
      "metadata": {
        "id": "2lMlB8kjX0cG"
      },
      "outputs": [],
      "source": [
        "#Without using another variable, swap the values of x with y.\n",
        "x, y = y, x"
      ]
    },
    {
      "cell_type": "code",
      "execution_count": 7,
      "metadata": {
        "colab": {
          "base_uri": "https://localhost:8080/"
        },
        "id": "0hdJlLPnX0cH",
        "outputId": "e3d80c43-d129-43da-b7f4-8ffea48931ef"
      },
      "outputs": [
        {
          "output_type": "stream",
          "name": "stdout",
          "text": [
            "a\n",
            "b\n"
          ]
        }
      ],
      "source": [
        "print(x)\n",
        "print(y)"
      ]
    },
    {
      "cell_type": "markdown",
      "metadata": {
        "id": "AmiOH62KX0cI"
      },
      "source": [
        "> Use a dictionary instead."
      ]
    },
    {
      "cell_type": "code",
      "execution_count": 14,
      "metadata": {
        "colab": {
          "base_uri": "https://localhost:8080/"
        },
        "id": "Sz6nE8CGX0cJ",
        "outputId": "0d4e2af6-5b9a-4746-f937-955609663922"
      },
      "outputs": [
        {
          "output_type": "stream",
          "name": "stdout",
          "text": [
            "{'fruit1': 'apple', 'fruit2': 'banana', 'fruit3': 'chiku', 'fruit4': 'durian'}\n"
          ]
        }
      ],
      "source": [
        "store_dict = {\"fruit1\":\"apple\", \"fruit2\":\"banana\", \"fruit3\":\"chiku\", \"fruit4\":\"durian\"}\n",
        "print(store_dict)"
      ]
    },
    {
      "cell_type": "code",
      "execution_count": 15,
      "metadata": {
        "colab": {
          "base_uri": "https://localhost:8080/"
        },
        "id": "7Ut-6wUwX0cJ",
        "outputId": "f7479890-8087-4940-d4c3-1be9d590a326"
      },
      "outputs": [
        {
          "output_type": "execute_result",
          "data": {
            "text/plain": [
              "dict"
            ]
          },
          "metadata": {},
          "execution_count": 15
        }
      ],
      "source": [
        "type(store_dict)"
      ]
    },
    {
      "cell_type": "code",
      "execution_count": 16,
      "metadata": {
        "colab": {
          "base_uri": "https://localhost:8080/"
        },
        "id": "PkQ2AmehX0cK",
        "outputId": "5f6fc418-4989-4996-ad7f-53c4586b517b"
      },
      "outputs": [
        {
          "output_type": "execute_result",
          "data": {
            "text/plain": [
              "dict_keys(['fruit1', 'fruit2', 'fruit3', 'fruit4'])"
            ]
          },
          "metadata": {},
          "execution_count": 16
        }
      ],
      "source": [
        "store_dict.keys()"
      ]
    },
    {
      "cell_type": "code",
      "execution_count": 17,
      "metadata": {
        "colab": {
          "base_uri": "https://localhost:8080/"
        },
        "id": "8rwWKfPeX0cL",
        "outputId": "b70f140e-0d4d-476b-fd0e-e82cc3ff7e0f"
      },
      "outputs": [
        {
          "output_type": "execute_result",
          "data": {
            "text/plain": [
              "dict_values(['apple', 'banana', 'chiku', 'durian'])"
            ]
          },
          "metadata": {},
          "execution_count": 17
        }
      ],
      "source": [
        "store_dict.values()"
      ]
    },
    {
      "cell_type": "code",
      "execution_count": 18,
      "metadata": {
        "colab": {
          "base_uri": "https://localhost:8080/",
          "height": 37
        },
        "id": "puUYkIgZX0cM",
        "outputId": "e3dcbf61-3b29-43f2-e2ca-995a1b3ebcae"
      },
      "outputs": [
        {
          "output_type": "execute_result",
          "data": {
            "text/plain": [
              "'banana'"
            ],
            "application/vnd.google.colaboratory.intrinsic+json": {
              "type": "string"
            }
          },
          "metadata": {},
          "execution_count": 18
        }
      ],
      "source": [
        "#print out banana\n",
        "store_dict['fruit2']"
      ]
    },
    {
      "cell_type": "markdown",
      "metadata": {
        "id": "qfdygb-wX0cM"
      },
      "source": [
        "> Use a set instead."
      ]
    },
    {
      "cell_type": "code",
      "execution_count": 19,
      "metadata": {
        "colab": {
          "base_uri": "https://localhost:8080/"
        },
        "id": "Ubqvk7dEX0cM",
        "outputId": "cd7ead6b-4bd8-424b-f700-622a1b515ea2"
      },
      "outputs": [
        {
          "output_type": "stream",
          "name": "stdout",
          "text": [
            "{'chiku', 'apple', 'durian', 'banana'}\n"
          ]
        }
      ],
      "source": [
        "store_set = {\"apple\", \"banana\", \"chiku\", \"durian\"}\n",
        "print(store_set)"
      ]
    },
    {
      "cell_type": "code",
      "execution_count": 20,
      "metadata": {
        "colab": {
          "base_uri": "https://localhost:8080/"
        },
        "id": "cUFjGBZtX0cN",
        "outputId": "a0c2f2fd-5693-4008-93cd-09ae75399b8f"
      },
      "outputs": [
        {
          "output_type": "execute_result",
          "data": {
            "text/plain": [
              "set"
            ]
          },
          "metadata": {},
          "execution_count": 20
        }
      ],
      "source": [
        "type(store_set)"
      ]
    },
    {
      "cell_type": "code",
      "execution_count": 21,
      "metadata": {
        "id": "o7GRc4MdX0cN",
        "colab": {
          "base_uri": "https://localhost:8080/",
          "height": 37
        },
        "outputId": "3273be25-9dc5-4950-a288-c57e170aa419"
      },
      "outputs": [
        {
          "output_type": "execute_result",
          "data": {
            "text/plain": [
              "'chiku'"
            ],
            "application/vnd.google.colaboratory.intrinsic+json": {
              "type": "string"
            }
          },
          "metadata": {},
          "execution_count": 21
        }
      ],
      "source": [
        "store_set.pop()"
      ]
    },
    {
      "cell_type": "markdown",
      "metadata": {
        "id": "RpwrtABWX0cN"
      },
      "source": [
        "# !! Your Turn !!"
      ]
    },
    {
      "cell_type": "markdown",
      "metadata": {
        "id": "-NTrQ-sYX0cN"
      },
      "source": [
        "## Replace the code marked as <..> COMPLETELY with your own.\n",
        "For example:\n",
        "length = <..> will be replaced by length = 10"
      ]
    },
    {
      "cell_type": "markdown",
      "metadata": {
        "id": "0sjQhhslX0cO"
      },
      "source": [
        "# Question 1\n",
        "1) Store [2,4,6,8,10] into a variable data<br/>\n",
        "2) Print out the 1st element in this list."
      ]
    },
    {
      "cell_type": "code",
      "execution_count": 22,
      "metadata": {
        "colab": {
          "base_uri": "https://localhost:8080/"
        },
        "id": "b6TAUzl0X0cP",
        "outputId": "7ac26c48-80ab-422a-c74e-567f1eafd5bb"
      },
      "outputs": [
        {
          "output_type": "stream",
          "name": "stdout",
          "text": [
            "2\n"
          ]
        }
      ],
      "source": [
        "data = [2,4,6,8,10]\n",
        "#print(data) #You should see the output 2\n",
        "\n",
        "print(data[0])"
      ]
    },
    {
      "cell_type": "markdown",
      "metadata": {
        "id": "byYmBEppX0cQ"
      },
      "source": [
        "# Question 2"
      ]
    },
    {
      "cell_type": "markdown",
      "metadata": {
        "id": "k7z8H3UdX0cR"
      },
      "source": [
        "1) Store [1,3,5,7,9] into a variable data2<br/>\n",
        "2) Print out the 3rd element in this list."
      ]
    },
    {
      "cell_type": "code",
      "execution_count": 23,
      "metadata": {
        "colab": {
          "base_uri": "https://localhost:8080/"
        },
        "id": "dwKNgfjqX0cS",
        "outputId": "bca0e6f4-01be-40ef-d8a3-5ff58377111c"
      },
      "outputs": [
        {
          "output_type": "stream",
          "name": "stdout",
          "text": [
            "5\n"
          ]
        }
      ],
      "source": [
        "data2 = [1,3,5,7,9]\n",
        "#print(<..>) #You should see the output 5\n",
        "\n",
        "print(data2[2])"
      ]
    },
    {
      "cell_type": "markdown",
      "metadata": {
        "id": "kkD6OvnnX0cU"
      },
      "source": [
        "# Question 3\n",
        "1) Concatenate the two lists <b>data</b> and <b>data2</b> together into a variable, <b>data3</b>.<br/>\n",
        "2) Print them out.<br/>"
      ]
    },
    {
      "cell_type": "code",
      "execution_count": 24,
      "metadata": {
        "colab": {
          "base_uri": "https://localhost:8080/"
        },
        "id": "FQhtTR0DX0cU",
        "outputId": "308c16a2-6158-403e-cd56-31580c504406"
      },
      "outputs": [
        {
          "output_type": "stream",
          "name": "stdout",
          "text": [
            "[2, 4, 6, 8, 10, 1, 3, 5, 7, 9]\n"
          ]
        }
      ],
      "source": [
        "data3 = data + data2\n",
        "print(data3)"
      ]
    },
    {
      "cell_type": "markdown",
      "metadata": {
        "id": "WD04B5xLX0cV"
      },
      "source": [
        "3) If they are not in the correct running sequence, sort them.<br/>\n",
        "4) Print it out"
      ]
    },
    {
      "cell_type": "code",
      "execution_count": 25,
      "metadata": {
        "colab": {
          "base_uri": "https://localhost:8080/"
        },
        "id": "NjDVLBjDX0cV",
        "outputId": "370f2a34-84ee-44fa-9350-54f00601e561"
      },
      "outputs": [
        {
          "output_type": "stream",
          "name": "stdout",
          "text": [
            "[1, 2, 3, 4, 5, 6, 7, 8, 9, 10]\n"
          ]
        }
      ],
      "source": [
        "import numpy as np\n",
        "\n",
        "def selection_sort(x):\n",
        "    for i in range(len(x)):\n",
        "        swap = i + np.argmin(x[i:])\n",
        "        (x[i], x[swap]) = (x[swap], x[i])\n",
        "    return x\n",
        "\n",
        "x = data3\n",
        "selection_sort(x)\n",
        "\n",
        "np.sort(x)\n",
        "\n",
        "print(x)\n",
        "#<..>.<..>\n",
        "#print(<..>)"
      ]
    },
    {
      "cell_type": "markdown",
      "metadata": {
        "id": "NNoOXTTWX0cV"
      },
      "source": [
        "# Question 4\n",
        "\n",
        "Let's try out mathematical operators on the lists and see if they work. <br/>\n",
        "1) Multiply the list, <b>data3</b>, by 2. What do you see?<br/>"
      ]
    },
    {
      "cell_type": "code",
      "execution_count": 26,
      "metadata": {
        "colab": {
          "base_uri": "https://localhost:8080/"
        },
        "id": "zkC2KKP3X0cW",
        "outputId": "439c40ec-2f5c-473a-84db-573f2686635c"
      },
      "outputs": [
        {
          "output_type": "stream",
          "name": "stdout",
          "text": [
            "[1, 2, 3, 4, 5, 6, 7, 8, 9, 10, 1, 2, 3, 4, 5, 6, 7, 8, 9, 10]\n"
          ]
        }
      ],
      "source": [
        "print(data3 * 2)"
      ]
    },
    {
      "cell_type": "markdown",
      "metadata": {
        "id": "ctVITd4wX0cW"
      },
      "source": [
        "<i>Tips: Try out the other mathematical operators in the boxes below. Some may not work and may produce errors</i> "
      ]
    },
    {
      "cell_type": "code",
      "execution_count": 27,
      "metadata": {
        "colab": {
          "base_uri": "https://localhost:8080/"
        },
        "id": "9tCbuqEWX0cX",
        "outputId": "d13c42d8-0601-450e-ba73-da0df3187ded"
      },
      "outputs": [
        {
          "output_type": "stream",
          "name": "stdout",
          "text": [
            "[1, 2, 3, 4, 5, 6, 7, 8, 9, 10, 1, 2, 3, 4, 5, 6, 7, 8, 9, 10]\n"
          ]
        }
      ],
      "source": [
        "#use +\n",
        "print(data3 + data3)"
      ]
    },
    {
      "cell_type": "code",
      "execution_count": 28,
      "metadata": {
        "colab": {
          "base_uri": "https://localhost:8080/",
          "height": 181
        },
        "id": "mSIg4rrCX0cX",
        "outputId": "fef50ec2-cc46-457b-a89f-29c019c362ae"
      },
      "outputs": [
        {
          "output_type": "error",
          "ename": "TypeError",
          "evalue": "ignored",
          "traceback": [
            "\u001b[0;31m---------------------------------------------------------------------------\u001b[0m",
            "\u001b[0;31mTypeError\u001b[0m                                 Traceback (most recent call last)",
            "\u001b[0;32m<ipython-input-28-11ca84a5dfe1>\u001b[0m in \u001b[0;36m<cell line: 2>\u001b[0;34m()\u001b[0m\n\u001b[1;32m      1\u001b[0m \u001b[0;31m#use -\u001b[0m\u001b[0;34m\u001b[0m\u001b[0;34m\u001b[0m\u001b[0m\n\u001b[0;32m----> 2\u001b[0;31m \u001b[0mprint\u001b[0m\u001b[0;34m(\u001b[0m\u001b[0mdata3\u001b[0m \u001b[0;34m-\u001b[0m \u001b[0mdata3\u001b[0m\u001b[0;34m)\u001b[0m\u001b[0;34m\u001b[0m\u001b[0;34m\u001b[0m\u001b[0m\n\u001b[0m",
            "\u001b[0;31mTypeError\u001b[0m: unsupported operand type(s) for -: 'list' and 'list'"
          ]
        }
      ],
      "source": [
        "#use -\n",
        "print(data3 - data3)"
      ]
    },
    {
      "cell_type": "code",
      "execution_count": 29,
      "metadata": {
        "colab": {
          "base_uri": "https://localhost:8080/",
          "height": 181
        },
        "id": "7aeo1bVnX0cX",
        "outputId": "befe5005-6492-43ab-cc1e-66f4aca33b05"
      },
      "outputs": [
        {
          "output_type": "error",
          "ename": "TypeError",
          "evalue": "ignored",
          "traceback": [
            "\u001b[0;31m---------------------------------------------------------------------------\u001b[0m",
            "\u001b[0;31mTypeError\u001b[0m                                 Traceback (most recent call last)",
            "\u001b[0;32m<ipython-input-29-509668fedd4f>\u001b[0m in \u001b[0;36m<cell line: 2>\u001b[0;34m()\u001b[0m\n\u001b[1;32m      1\u001b[0m \u001b[0;31m#use /\u001b[0m\u001b[0;34m\u001b[0m\u001b[0;34m\u001b[0m\u001b[0m\n\u001b[0;32m----> 2\u001b[0;31m \u001b[0mprint\u001b[0m\u001b[0;34m(\u001b[0m\u001b[0mdata3\u001b[0m \u001b[0;34m/\u001b[0m \u001b[0mdata3\u001b[0m\u001b[0;34m)\u001b[0m\u001b[0;34m\u001b[0m\u001b[0;34m\u001b[0m\u001b[0m\n\u001b[0m",
            "\u001b[0;31mTypeError\u001b[0m: unsupported operand type(s) for /: 'list' and 'list'"
          ]
        }
      ],
      "source": [
        "#use /\n",
        "print(data3 / data3)"
      ]
    },
    {
      "cell_type": "markdown",
      "metadata": {
        "id": "nqXOOCSNX0cY"
      },
      "source": [
        "<i>This shows that you cannot apply mathematical operators to a list the way you would to numeric data types.</i> "
      ]
    },
    {
      "cell_type": "markdown",
      "metadata": {
        "id": "DUXjjr8PX0cY"
      },
      "source": [
        "# Question 5\n",
        "1) Create a variable, <b>storage</b>, that stores the following:<br/><br/>\n",
        "table<br/>\n",
        "chair<br/>\n",
        "fridge<br/>\n",
        "washing machine<br/><br/>\n",
        "2) print out the variable storage and verify the contents.\n",
        "Hint: You should see ['table', 'chair', 'fridge', 'washing machine']"
      ]
    },
    {
      "cell_type": "code",
      "execution_count": 30,
      "metadata": {
        "colab": {
          "base_uri": "https://localhost:8080/"
        },
        "id": "lAHw9pdwX0cY",
        "outputId": "ce9208d4-4d7d-4877-e126-e3cd8142c813"
      },
      "outputs": [
        {
          "output_type": "stream",
          "name": "stdout",
          "text": [
            "['table', 'chair', 'fridge', 'washing machine']\n"
          ]
        }
      ],
      "source": [
        "storage = ['table', 'chair', 'fridge', 'washing machine']\n",
        "print(storage)"
      ]
    },
    {
      "cell_type": "markdown",
      "metadata": {
        "id": "-rYncSHIX0cZ"
      },
      "source": [
        "# Question 6\n",
        "1) You can add \"aircon\" into storage by doing <b>storage.append(\"aircon\")</b>.<br/>\n",
        "2) Do that, and print out the new storage variable to verify that \"aircon\" has been added.<br/>\n",
        "Hint: You should see ['table', 'chair', 'fridge', 'washing machine', 'aircon']"
      ]
    },
    {
      "cell_type": "code",
      "execution_count": 31,
      "metadata": {
        "colab": {
          "base_uri": "https://localhost:8080/"
        },
        "id": "qY8zFoqiX0cZ",
        "outputId": "9777242c-a9a3-4398-843b-93c0b2ac7406"
      },
      "outputs": [
        {
          "output_type": "stream",
          "name": "stdout",
          "text": [
            "['table', 'chair', 'fridge', 'washing machine', 'aircon']\n"
          ]
        }
      ],
      "source": [
        "storage = ['table', 'chair', 'fridge', 'washing machine']\n",
        "storage.append('aircon')\n",
        "print(storage)"
      ]
    },
    {
      "cell_type": "markdown",
      "metadata": {
        "id": "6lJcgYbTX0cZ"
      },
      "source": [
        "# Question 7\n",
        "1) You can remove \"chair\" from storage by doing <b>storage.remove(\"chair\")</b>.<br/>\n",
        "2) Do that, and print out the new storage variable to verify that \"chair\" has been removed.<br/>\n",
        "Hint: You should see ['table', 'fridge', 'washing machine', 'aircon']"
      ]
    },
    {
      "cell_type": "code",
      "execution_count": 32,
      "metadata": {
        "colab": {
          "base_uri": "https://localhost:8080/"
        },
        "id": "4UsrSkm8X0ca",
        "outputId": "0c54a025-d370-4f11-c5cc-568825ab02d9"
      },
      "outputs": [
        {
          "output_type": "stream",
          "name": "stdout",
          "text": [
            "['table', 'fridge', 'washing machine', 'aircon']\n"
          ]
        }
      ],
      "source": [
        "storage.remove('chair')\n",
        "print(storage)"
      ]
    },
    {
      "cell_type": "markdown",
      "metadata": {
        "id": "xwNmIIg1X0ca"
      },
      "source": [
        "# Question 8\n",
        "1) <b>|value| in storage</b> allows you to check whether an item is inside the list.<br/>\n",
        "2) For example, <b>\"table\" in storage</b> will return true.<br/>\n",
        "3) Write the code to check if the item \"fridge\" is inside storage.<br/>"
      ]
    },
    {
      "cell_type": "code",
      "execution_count": 33,
      "metadata": {
        "colab": {
          "base_uri": "https://localhost:8080/"
        },
        "id": "H6P8S93xX0cb",
        "outputId": "36145711-43d6-4fa9-d72c-cea657fc1702"
      },
      "outputs": [
        {
          "output_type": "stream",
          "name": "stdout",
          "text": [
            "True\n"
          ]
        }
      ],
      "source": [
        "#storage = (value)\n",
        "storage = ['table', 'chair', 'fridge', 'washing machine']\n",
        "print( 'fridge' in storage)"
      ]
    },
    {
      "cell_type": "markdown",
      "metadata": {
        "id": "YUuRtx1WX0cb"
      },
      "source": [
        "# Question 9\n",
        "1) Create a dictionary, <b>postal_to_town</b> that stores the following key-value pairs.<br/>\n",
        "760702 --> Yishun\n",
        "530406 --> Hougang\n",
        "600212 --> Jurong East"
      ]
    },
    {
      "cell_type": "code",
      "execution_count": 34,
      "metadata": {
        "id": "AZ7BnlOTX0cb"
      },
      "outputs": [],
      "source": [
        "postal_to_town = {\n",
        "    '760702': 'Yishun',\n",
        "    '530406': 'Hougang',\n",
        "    '600212': 'Jurong East'\n",
        "}"
      ]
    },
    {
      "cell_type": "markdown",
      "metadata": {
        "id": "demkaZ6eX0cc"
      },
      "source": [
        "2) Print out the town by referencing postal '760702'<br/>\n",
        "You should see Yishun"
      ]
    },
    {
      "cell_type": "code",
      "execution_count": 35,
      "metadata": {
        "colab": {
          "base_uri": "https://localhost:8080/",
          "height": 37
        },
        "id": "4CpelQppX0cc",
        "outputId": "f73602a0-2b62-43c6-b43d-49b2e4586520"
      },
      "outputs": [
        {
          "output_type": "execute_result",
          "data": {
            "text/plain": [
              "'Yishun'"
            ],
            "application/vnd.google.colaboratory.intrinsic+json": {
              "type": "string"
            }
          },
          "metadata": {},
          "execution_count": 35
        }
      ],
      "source": [
        "postal_to_town['760702']"
      ]
    },
    {
      "cell_type": "markdown",
      "metadata": {
        "id": "kW0CoPLtX0cc"
      },
      "source": [
        "3) Print out the town by referencing postal '530406'<br/>\n",
        "You should see Hougang"
      ]
    },
    {
      "cell_type": "code",
      "execution_count": 36,
      "metadata": {
        "colab": {
          "base_uri": "https://localhost:8080/",
          "height": 37
        },
        "id": "pIWCHL1sX0cc",
        "outputId": "c6b5e00d-a90b-4a4f-8d1c-db776179980b"
      },
      "outputs": [
        {
          "output_type": "execute_result",
          "data": {
            "text/plain": [
              "'Hougang'"
            ],
            "application/vnd.google.colaboratory.intrinsic+json": {
              "type": "string"
            }
          },
          "metadata": {},
          "execution_count": 36
        }
      ],
      "source": [
        "postal_to_town['530406']"
      ]
    },
    {
      "cell_type": "markdown",
      "metadata": {
        "id": "uXy7j8uPX0cc"
      },
      "source": [
        "4) Print out the town by referencing postal '600212'<br/>\n",
        "You should see Jurong East"
      ]
    },
    {
      "cell_type": "code",
      "execution_count": 37,
      "metadata": {
        "colab": {
          "base_uri": "https://localhost:8080/",
          "height": 37
        },
        "id": "MQohunlfX0cd",
        "outputId": "240ac8d4-7f97-43ef-99e7-99317e1d90b8"
      },
      "outputs": [
        {
          "output_type": "execute_result",
          "data": {
            "text/plain": [
              "'Jurong East'"
            ],
            "application/vnd.google.colaboratory.intrinsic+json": {
              "type": "string"
            }
          },
          "metadata": {},
          "execution_count": 37
        }
      ],
      "source": [
        "postal_to_town['600212']"
      ]
    },
    {
      "cell_type": "markdown",
      "metadata": {
        "id": "AEsOkhtnX0cd"
      },
      "source": [
        "4) Print out the town by referencing postal '138577'<br/>\n",
        "What do you see?"
      ]
    },
    {
      "cell_type": "code",
      "execution_count": 38,
      "metadata": {
        "colab": {
          "base_uri": "https://localhost:8080/",
          "height": 164
        },
        "id": "nEKhUfoIX0cd",
        "outputId": "b72f3ba5-259c-4d76-f7e9-8aa06399bfa1"
      },
      "outputs": [
        {
          "output_type": "error",
          "ename": "KeyError",
          "evalue": "ignored",
          "traceback": [
            "\u001b[0;31m---------------------------------------------------------------------------\u001b[0m",
            "\u001b[0;31mKeyError\u001b[0m                                  Traceback (most recent call last)",
            "\u001b[0;32m<ipython-input-38-3b053524599b>\u001b[0m in \u001b[0;36m<cell line: 1>\u001b[0;34m()\u001b[0m\n\u001b[0;32m----> 1\u001b[0;31m \u001b[0mpostal_to_town\u001b[0m\u001b[0;34m[\u001b[0m\u001b[0;34m'138577'\u001b[0m\u001b[0;34m]\u001b[0m\u001b[0;34m\u001b[0m\u001b[0;34m\u001b[0m\u001b[0m\n\u001b[0m",
            "\u001b[0;31mKeyError\u001b[0m: '138577'"
          ]
        }
      ],
      "source": [
        "postal_to_town['138577']"
      ]
    },
    {
      "cell_type": "markdown",
      "metadata": {
        "id": "6e7KdQ5JX0cd"
      },
      "source": [
        "# Question 10*"
      ]
    },
    {
      "cell_type": "markdown",
      "metadata": {
        "id": "upDquTrNX0cd"
      },
      "source": [
        "1) Decide on a data type to use for the following use case: <br/>\n",
        "- I want to read in values and store them as I read them in sequentially.<br/>\n",
        "- Order matters.<br/>\n",
        "- Repeated values are ok.<br/>\n",
        "- I want to be able to remove some of the items too.<br/>\n",
        "\n",
        "2) When you have decided, create such a variable called <b>zoo2</b> and store the following values into it:<br/>\n",
        "- lion<br/>\n",
        "- tiger<br/>\n",
        "- giraffe<br/>\n",
        "- hippo<br/>\n",
        "- monkey<br/>"
      ]
    },
    {
      "cell_type": "code",
      "execution_count": 39,
      "metadata": {
        "colab": {
          "base_uri": "https://localhost:8080/"
        },
        "id": "vMiiWRHlX0cd",
        "outputId": "91e8b24f-cb27-4136-ecc4-12a1dc08d37c"
      },
      "outputs": [
        {
          "output_type": "stream",
          "name": "stdout",
          "text": [
            "['lion', 'tiger', 'giraffe', 'hippo', 'monkey']\n"
          ]
        }
      ],
      "source": [
        "zoo2 =['lion', 'tiger', 'giraffe', 'hippo','monkey']\n",
        "\n",
        "print (zoo2)"
      ]
    },
    {
      "cell_type": "markdown",
      "metadata": {
        "id": "g21pI5r2X0cd"
      },
      "source": [
        "3) Write code into the cell below such that you will prompt the user to tell you an animal, then store it into the existing data in the variable <b>zoo2</b>.<br/>\n",
        "4) Then, run the cell below 3 times, and input the following values:<br/>\n",
        "- bird<br/>\n",
        "- panda<br/>\n",
        "- monkey<br/>"
      ]
    },
    {
      "cell_type": "code",
      "execution_count": 59,
      "metadata": {
        "colab": {
          "base_uri": "https://localhost:8080/"
        },
        "id": "fRJCwNtKX0ce",
        "outputId": "0db06ce0-ecb6-44b5-bebe-5a155c01ef27"
      },
      "outputs": [
        {
          "name": "stdout",
          "output_type": "stream",
          "text": [
            "Tell me animal to storetiger\n"
          ]
        }
      ],
      "source": [
        "new_animal = input('Tell me animal to store')\n",
        "zoo2.append(new_animal)"
      ]
    },
    {
      "cell_type": "markdown",
      "metadata": {
        "id": "wykKYQx4X0ce"
      },
      "source": [
        "5) Print out the variable <b>zoo2</b>. It should contain the following in order:<br/>\n",
        "- lion<br/>\n",
        "- tiger<br>\n",
        "- giraffe<br>\n",
        "- hippo<br>\n",
        "- monkey<br>\n",
        "- bird<br>\n",
        "- panda<br>\n",
        "- monkey<br>"
      ]
    },
    {
      "cell_type": "code",
      "execution_count": 56,
      "metadata": {
        "colab": {
          "base_uri": "https://localhost:8080/"
        },
        "id": "rrXIhjjFX0ce",
        "outputId": "b1df930d-e8b9-4e89-906c-898da35b9fd7"
      },
      "outputs": [
        {
          "output_type": "stream",
          "name": "stdout",
          "text": [
            "['lion', 'hippo', 'bird', 'panda', 'monkey', 'tiger']\n"
          ]
        }
      ],
      "source": [
        "print(zoo2)"
      ]
    },
    {
      "cell_type": "markdown",
      "metadata": {
        "id": "gjJfiOqsX0ce"
      },
      "source": [
        "6) Write code into the cell below such that you will prompt the user to tell you an animal, then remove it from the existing data in the variable <b>zoo2</b>.<br/>\n",
        "7) Then, run the cell below 3 times, and input the following values:<br/>\n",
        "- tiger<br/>\n",
        "- monkey<br/>\n",
        "- giraffe<br/>"
      ]
    },
    {
      "cell_type": "code",
      "execution_count": 60,
      "metadata": {
        "colab": {
          "base_uri": "https://localhost:8080/"
        },
        "id": "332O1XsCX0ce",
        "outputId": "dd1dbf49-836d-4aec-cab2-9a4022add830"
      },
      "outputs": [
        {
          "name": "stdout",
          "output_type": "stream",
          "text": [
            "Tell me an animal to removetiger\n"
          ]
        }
      ],
      "source": [
        "new_animal_to_remove = input(\"Tell me an animal to remove\")\n",
        "zoo2.remove(new_animal_to_remove)"
      ]
    },
    {
      "cell_type": "markdown",
      "metadata": {
        "id": "0whxFchsX0ce"
      },
      "source": [
        "8) Print out the variable <b>zoo2</b>. It should contain the following in order:<br/>\n",
        "- lion<br/>\n",
        "- hippo<br>\n",
        "- bird<br>\n",
        "- panda<br>\n",
        "- monkey<br>"
      ]
    },
    {
      "cell_type": "code",
      "execution_count": 61,
      "metadata": {
        "colab": {
          "base_uri": "https://localhost:8080/"
        },
        "id": "kAz3Ovp4X0ce",
        "outputId": "cc57f006-49f8-4d50-c9fd-ddb81401b5ad"
      },
      "outputs": [
        {
          "output_type": "stream",
          "name": "stdout",
          "text": [
            "['lion', 'hippo', 'bird', 'panda', 'monkey']\n"
          ]
        }
      ],
      "source": [
        "print(zoo2)"
      ]
    },
    {
      "cell_type": "markdown",
      "metadata": {
        "id": "4ib9VctcX0ce"
      },
      "source": [
        "# Question 11 *"
      ]
    },
    {
      "cell_type": "markdown",
      "metadata": {
        "id": "JJgw6zJZX0ce"
      },
      "source": [
        "1) Decide on a data type to use for the following use case: <br/>\n",
        "- I want to read in a pair of key and values and store them.<br/>\n",
        "- Order does not matter.<br/>\n",
        "- Repeated values are ok.<br/>\n",
        "- I want to be able to change some of the values for the keys too.<br/>\n",
        "\n",
        "2) When you have decided, create such a variable called <b>zoo3</b> and store the following key - values into it:<br/>\n",
        "- lion - c<br/>\n",
        "- tiger - h<br/>\n",
        "- giraffe - h<br/>\n",
        "- hippo - h<br/>\n",
        "- monkey - o<br/><br/>\n",
        "<i>Note: key is lion, value is c</i>"
      ]
    },
    {
      "cell_type": "code",
      "execution_count": 62,
      "metadata": {
        "id": "QJjW7ojFX0cf"
      },
      "outputs": [],
      "source": [
        "zoo3 = {\n",
        "    'lion': 'c',\n",
        "    'tiger': 'h',\n",
        "    'giraffe': 'h',\n",
        "    'hippo': 'h',\n",
        "    'monkey': 'o'\n",
        "}"
      ]
    },
    {
      "cell_type": "markdown",
      "metadata": {
        "id": "3RWpIjdaX0cf"
      },
      "source": [
        "3) Write code into the cell below such that you will prompt the user to tell you an animal.<br/>\n",
        "4) Then, run the cell below 1 time, and input the following values:<br/>\n",
        "- bird<br/>"
      ]
    },
    {
      "cell_type": "code",
      "execution_count": 63,
      "metadata": {
        "colab": {
          "base_uri": "https://localhost:8080/"
        },
        "id": "s6ux2z_WX0cf",
        "outputId": "189c9fc7-988e-443b-dce8-9261c5b00b00"
      },
      "outputs": [
        {
          "name": "stdout",
          "output_type": "stream",
          "text": [
            "Tell me an animalbird\n"
          ]
        }
      ],
      "source": [
        "new_animal = input(\"Tell me an animal\")\n",
        "zoo3[new_animal] = ''"
      ]
    },
    {
      "cell_type": "markdown",
      "metadata": {
        "id": "br2htjljX0cf"
      },
      "source": [
        "5) Write code into the cell below such that you will prompt the user to tell you whether the animal is a carnivore, herbivore or omnivore.<br/>\n",
        "The user simply keys in c, h or o.<br/>\n",
        "6) Then, run the cell below 1 time, and input the following values:<br/>\n",
        "- o<br/>"
      ]
    },
    {
      "cell_type": "code",
      "execution_count": 64,
      "metadata": {
        "colab": {
          "base_uri": "https://localhost:8080/"
        },
        "id": "N5QXc76NX0cg",
        "outputId": "8e167cc9-b965-44cc-9613-b87dc230a525"
      },
      "outputs": [
        {
          "name": "stdout",
          "output_type": "stream",
          "text": [
            "Tell me if animal is carnivore, herbivore or omnivoreh\n"
          ]
        }
      ],
      "source": [
        "food = input(\"Tell me if animal is carnivore, herbivore or omnivore\")\n",
        "zoo3[new_animal] = food"
      ]
    },
    {
      "cell_type": "markdown",
      "metadata": {
        "id": "G_600zVuX0cg"
      },
      "source": [
        "7) Add the new animal and its dietary preference into <b>zoo3</b>.<br/>\n",
        "Print out <b>zoo3</b>."
      ]
    },
    {
      "cell_type": "code",
      "execution_count": 65,
      "metadata": {
        "colab": {
          "base_uri": "https://localhost:8080/"
        },
        "id": "15ofOnjMX0cg",
        "outputId": "eb2303dd-7547-45bc-e626-234e04d445ec"
      },
      "outputs": [
        {
          "output_type": "stream",
          "name": "stdout",
          "text": [
            "{'lion': 'c', 'tiger': 'h', 'giraffe': 'h', 'hippo': 'h', 'monkey': 'o', 'bird': 'h'}\n"
          ]
        }
      ],
      "source": [
        "print(zoo3)"
      ]
    },
    {
      "cell_type": "markdown",
      "metadata": {
        "id": "8P_vHowAX0cg"
      },
      "source": [
        "8) You realised you made a mistake with the dietary preference for the tiger earlier on. Write the code to change it from an 'h' to a 'c'.<br/>\n",
        "Print out <b>zoo3</b>."
      ]
    },
    {
      "cell_type": "code",
      "execution_count": 66,
      "metadata": {
        "colab": {
          "base_uri": "https://localhost:8080/"
        },
        "id": "MMux20tnX0ch",
        "outputId": "ebc24559-a89f-401c-ea9b-d61ad18dd3d9"
      },
      "outputs": [
        {
          "output_type": "stream",
          "name": "stdout",
          "text": [
            "{'lion': 'c', 'tiger': 'c', 'giraffe': 'h', 'hippo': 'h', 'monkey': 'o', 'bird': 'h'}\n"
          ]
        }
      ],
      "source": [
        "zoo3['tiger'] = 'c'\n",
        "print(zoo3)"
      ]
    },
    {
      "cell_type": "code",
      "source": [],
      "metadata": {
        "id": "_1JkGOHYm_JS"
      },
      "execution_count": null,
      "outputs": []
    }
  ],
  "metadata": {
    "kernelspec": {
      "display_name": "Python 3 (ipykernel)",
      "language": "python",
      "name": "python3"
    },
    "language_info": {
      "codemirror_mode": {
        "name": "ipython",
        "version": 3
      },
      "file_extension": ".py",
      "mimetype": "text/x-python",
      "name": "python",
      "nbconvert_exporter": "python",
      "pygments_lexer": "ipython3",
      "version": "3.9.7"
    },
    "colab": {
      "provenance": [],
      "include_colab_link": true
    }
  },
  "nbformat": 4,
  "nbformat_minor": 0
}