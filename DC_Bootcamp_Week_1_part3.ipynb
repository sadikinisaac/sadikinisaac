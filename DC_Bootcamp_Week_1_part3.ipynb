{
  "cells": [
    {
      "cell_type": "markdown",
      "metadata": {
        "id": "view-in-github",
        "colab_type": "text"
      },
      "source": [
        "<a href=\"https://colab.research.google.com/github/sadikinisaac/sadikinisaac/blob/master/DC_Bootcamp_Week_1_part3.ipynb\" target=\"_parent\"><img src=\"https://colab.research.google.com/assets/colab-badge.svg\" alt=\"Open In Colab\"/></a>"
      ]
    },
    {
      "cell_type": "markdown",
      "metadata": {
        "id": "J8z6KcN5X0b0"
      },
      "source": [
        "# List, Tuple, Dictionary, Set Operations"
      ]
    },
    {
      "cell_type": "markdown",
      "metadata": {
        "id": "4Rfv92asX0b7"
      },
      "source": [
        "## Run The Following Code\n",
        "Hit SHIFT + ENTER when your cusor is inside the cell of code.<br/>"
      ]
    },
    {
      "cell_type": "markdown",
      "metadata": {
        "id": "GrUZ3z5NX0b8"
      },
      "source": [
        "> Create a variable to hold the values \"apple\", \"banana\", \"chiku\", \"durian\". Assign them to the variable <b>store</b> using a list."
      ]
    },
    {
      "cell_type": "code",
      "execution_count": 1,
      "metadata": {
        "colab": {
          "base_uri": "https://localhost:8080/"
        },
        "id": "gfUgIjwfX0b9",
        "outputId": "ec954c90-4a02-4c8a-b757-d2353d8d397a"
      },
      "outputs": [
        {
          "output_type": "stream",
          "name": "stdout",
          "text": [
            "['apple', 'banana', 'chiku', 'durian']\n"
          ]
        }
      ],
      "source": [
        "store = [\"apple\", \"banana\", \"chiku\", \"durian\"]\n",
        "print(store)"
      ]
    },
    {
      "cell_type": "code",
      "execution_count": 2,
      "metadata": {
        "colab": {
          "base_uri": "https://localhost:8080/"
        },
        "id": "o9RMB-GeX0b_",
        "outputId": "a58aa633-58a0-4b20-bd84-118c14f3e31a"
      },
      "outputs": [
        {
          "output_type": "execute_result",
          "data": {
            "text/plain": [
              "list"
            ]
          },
          "metadata": {},
          "execution_count": 2
        }
      ],
      "source": [
        "type(store)"
      ]
    },
    {
      "cell_type": "code",
      "execution_count": 3,
      "metadata": {
        "colab": {
          "base_uri": "https://localhost:8080/",
          "height": 37
        },
        "id": "CYIo__BWX0cA",
        "outputId": "dc468b1b-43a4-4f7f-adea-5e88b1758f08"
      },
      "outputs": [
        {
          "output_type": "execute_result",
          "data": {
            "text/plain": [
              "'banana'"
            ],
            "application/vnd.google.colaboratory.intrinsic+json": {
              "type": "string"
            }
          },
          "metadata": {},
          "execution_count": 3
        }
      ],
      "source": [
        "#print out banana\n",
        "store[1]"
      ]
    },
    {
      "cell_type": "markdown",
      "metadata": {
        "id": "7bP9ZG3kX0cB"
      },
      "source": [
        "> Use a tuple instead."
      ]
    },
    {
      "cell_type": "code",
      "execution_count": 4,
      "metadata": {
        "colab": {
          "base_uri": "https://localhost:8080/"
        },
        "id": "agUm5FJTX0cB",
        "outputId": "46c38c45-af3d-4f2a-bb46-46212ef72f5f"
      },
      "outputs": [
        {
          "output_type": "stream",
          "name": "stdout",
          "text": [
            "('apple', 'banana', 'chiku', 'durian')\n"
          ]
        }
      ],
      "source": [
        "store_tuple = (\"apple\", \"banana\", \"chiku\", \"durian\")\n",
        "print(store_tuple)"
      ]
    },
    {
      "cell_type": "code",
      "execution_count": 5,
      "metadata": {
        "colab": {
          "base_uri": "https://localhost:8080/"
        },
        "id": "ipyPCmFzX0cC",
        "outputId": "b81719e7-35ed-4bf5-c060-0ad5ef327997"
      },
      "outputs": [
        {
          "output_type": "execute_result",
          "data": {
            "text/plain": [
              "tuple"
            ]
          },
          "metadata": {},
          "execution_count": 5
        }
      ],
      "source": [
        "type(store_tuple)"
      ]
    },
    {
      "cell_type": "code",
      "execution_count": 6,
      "metadata": {
        "colab": {
          "base_uri": "https://localhost:8080/",
          "height": 37
        },
        "id": "KzPY-ImPX0cC",
        "outputId": "e3b6a6d6-c90e-4aa5-ecab-86311d197ea7"
      },
      "outputs": [
        {
          "output_type": "execute_result",
          "data": {
            "text/plain": [
              "'banana'"
            ],
            "application/vnd.google.colaboratory.intrinsic+json": {
              "type": "string"
            }
          },
          "metadata": {},
          "execution_count": 6
        }
      ],
      "source": [
        "#print out banana\n",
        "store_tuple[1]"
      ]
    },
    {
      "cell_type": "markdown",
      "metadata": {
        "id": "SMv9u_KRX0cD"
      },
      "source": [
        "> Using tuples to swap values in a variable"
      ]
    },
    {
      "cell_type": "code",
      "execution_count": 15,
      "metadata": {
        "colab": {
          "base_uri": "https://localhost:8080/"
        },
        "id": "TE3wYjQCX0cD",
        "outputId": "32c369b3-470d-4df4-af17-c35711376a18"
      },
      "outputs": [
        {
          "name": "stdout",
          "output_type": "stream",
          "text": [
            "Key in a name: a\n"
          ]
        }
      ],
      "source": [
        "x = input(\"Key in a name: \")"
      ]
    },
    {
      "cell_type": "code",
      "execution_count": 16,
      "metadata": {
        "colab": {
          "base_uri": "https://localhost:8080/"
        },
        "id": "OGgu-f64X0cE",
        "outputId": "8670db92-73d4-41d4-aca9-8d74e25fd486"
      },
      "outputs": [
        {
          "name": "stdout",
          "output_type": "stream",
          "text": [
            "Key in another name: b\n"
          ]
        }
      ],
      "source": [
        "y = input(\"Key in another name: \")"
      ]
    },
    {
      "cell_type": "code",
      "execution_count": 17,
      "metadata": {
        "colab": {
          "base_uri": "https://localhost:8080/"
        },
        "id": "K0ASzK0HX0cE",
        "outputId": "67be0e7a-7ffd-4a23-c082-ff34e284f511"
      },
      "outputs": [
        {
          "output_type": "stream",
          "name": "stdout",
          "text": [
            "a\n",
            "b\n"
          ]
        }
      ],
      "source": [
        "print(x)\n",
        "print(y)"
      ]
    },
    {
      "cell_type": "code",
      "execution_count": 20,
      "metadata": {
        "colab": {
          "base_uri": "https://localhost:8080/"
        },
        "id": "NjeZ-1quX0cF",
        "outputId": "bf5b50d6-64c0-4cd0-a1a3-bc7de131d232"
      },
      "outputs": [
        {
          "output_type": "stream",
          "name": "stdout",
          "text": [
            "b\n"
          ]
        }
      ],
      "source": [
        "#Using another variable, swap the values of x with y.\n",
        "z= x = y\n",
        "print(z)\n"
      ]
    },
    {
      "cell_type": "code",
      "execution_count": 21,
      "metadata": {
        "colab": {
          "base_uri": "https://localhost:8080/"
        },
        "id": "GEXGyBStX0cG",
        "outputId": "4ed36b01-017f-411b-a80a-13b4d87c0655"
      },
      "outputs": [
        {
          "output_type": "stream",
          "name": "stdout",
          "text": [
            "b\n",
            "b\n"
          ]
        }
      ],
      "source": [
        "print(x)\n",
        "print(y)"
      ]
    },
    {
      "cell_type": "code",
      "execution_count": 22,
      "metadata": {
        "colab": {
          "base_uri": "https://localhost:8080/"
        },
        "id": "2lMlB8kjX0cG",
        "outputId": "2b00b283-040b-4e30-9d84-69577727d9e7"
      },
      "outputs": [
        {
          "output_type": "stream",
          "name": "stdout",
          "text": [
            "b\n"
          ]
        }
      ],
      "source": [
        "#Without using another variable, swap the values of x with y.\n",
        "x=y\n",
        "print(x)"
      ]
    },
    {
      "cell_type": "code",
      "execution_count": 23,
      "metadata": {
        "colab": {
          "base_uri": "https://localhost:8080/"
        },
        "id": "0hdJlLPnX0cH",
        "outputId": "f505b65d-8780-4c93-8cf0-cacae4ff5313"
      },
      "outputs": [
        {
          "output_type": "stream",
          "name": "stdout",
          "text": [
            "b\n",
            "b\n"
          ]
        }
      ],
      "source": [
        "print(x)\n",
        "print(y)"
      ]
    },
    {
      "cell_type": "markdown",
      "metadata": {
        "id": "AmiOH62KX0cI"
      },
      "source": [
        "> Use a dictionary instead."
      ]
    },
    {
      "cell_type": "code",
      "execution_count": 24,
      "metadata": {
        "colab": {
          "base_uri": "https://localhost:8080/"
        },
        "id": "Sz6nE8CGX0cJ",
        "outputId": "25504152-fb71-44e2-9a3c-33f7fa4090fa"
      },
      "outputs": [
        {
          "output_type": "stream",
          "name": "stdout",
          "text": [
            "{'fruit1': 'apple', 'fruit2': 'banana', 'fruit3': 'chiku', 'fruit4': 'durian'}\n"
          ]
        }
      ],
      "source": [
        "store_dict = {\"fruit1\":\"apple\", \"fruit2\":\"banana\", \"fruit3\":\"chiku\", \"fruit4\":\"durian\"}\n",
        "print(store_dict)"
      ]
    },
    {
      "cell_type": "code",
      "execution_count": 25,
      "metadata": {
        "colab": {
          "base_uri": "https://localhost:8080/"
        },
        "id": "7Ut-6wUwX0cJ",
        "outputId": "6937b4c6-0b7e-480e-dc0e-be13036515af"
      },
      "outputs": [
        {
          "output_type": "execute_result",
          "data": {
            "text/plain": [
              "dict"
            ]
          },
          "metadata": {},
          "execution_count": 25
        }
      ],
      "source": [
        "type(store_dict)"
      ]
    },
    {
      "cell_type": "code",
      "execution_count": 26,
      "metadata": {
        "colab": {
          "base_uri": "https://localhost:8080/"
        },
        "id": "PkQ2AmehX0cK",
        "outputId": "f5965c94-19f8-4b5a-dc4e-8cc8355bc364"
      },
      "outputs": [
        {
          "output_type": "execute_result",
          "data": {
            "text/plain": [
              "dict_keys(['fruit1', 'fruit2', 'fruit3', 'fruit4'])"
            ]
          },
          "metadata": {},
          "execution_count": 26
        }
      ],
      "source": [
        "store_dict.keys()"
      ]
    },
    {
      "cell_type": "code",
      "execution_count": 27,
      "metadata": {
        "colab": {
          "base_uri": "https://localhost:8080/"
        },
        "id": "8rwWKfPeX0cL",
        "outputId": "5bf4b696-46f4-456b-c2de-a313a08c998a"
      },
      "outputs": [
        {
          "output_type": "execute_result",
          "data": {
            "text/plain": [
              "dict_values(['apple', 'banana', 'chiku', 'durian'])"
            ]
          },
          "metadata": {},
          "execution_count": 27
        }
      ],
      "source": [
        "store_dict.values()"
      ]
    },
    {
      "cell_type": "code",
      "execution_count": 28,
      "metadata": {
        "colab": {
          "base_uri": "https://localhost:8080/",
          "height": 37
        },
        "id": "puUYkIgZX0cM",
        "outputId": "2128a04e-712f-4760-fdd0-5a2425e5325c"
      },
      "outputs": [
        {
          "output_type": "execute_result",
          "data": {
            "text/plain": [
              "'banana'"
            ],
            "application/vnd.google.colaboratory.intrinsic+json": {
              "type": "string"
            }
          },
          "metadata": {},
          "execution_count": 28
        }
      ],
      "source": [
        "#print out banana\n",
        "store_dict['fruit2']"
      ]
    },
    {
      "cell_type": "markdown",
      "metadata": {
        "id": "qfdygb-wX0cM"
      },
      "source": [
        "> Use a set instead."
      ]
    },
    {
      "cell_type": "code",
      "execution_count": 29,
      "metadata": {
        "colab": {
          "base_uri": "https://localhost:8080/"
        },
        "id": "Ubqvk7dEX0cM",
        "outputId": "ffaeebd4-7c8e-40d8-a806-bb0ae43ab1bd"
      },
      "outputs": [
        {
          "output_type": "stream",
          "name": "stdout",
          "text": [
            "{'durian', 'chiku', 'apple', 'banana'}\n"
          ]
        }
      ],
      "source": [
        "store_set = {\"apple\", \"banana\", \"chiku\", \"durian\"}\n",
        "print(store_set)"
      ]
    },
    {
      "cell_type": "code",
      "execution_count": 30,
      "metadata": {
        "colab": {
          "base_uri": "https://localhost:8080/"
        },
        "id": "cUFjGBZtX0cN",
        "outputId": "93b5969e-bd94-468a-b9e8-a601a180fb2f"
      },
      "outputs": [
        {
          "output_type": "execute_result",
          "data": {
            "text/plain": [
              "set"
            ]
          },
          "metadata": {},
          "execution_count": 30
        }
      ],
      "source": [
        "type(store_set)"
      ]
    },
    {
      "cell_type": "code",
      "execution_count": null,
      "metadata": {
        "id": "o7GRc4MdX0cN"
      },
      "outputs": [],
      "source": []
    },
    {
      "cell_type": "markdown",
      "metadata": {
        "id": "RpwrtABWX0cN"
      },
      "source": [
        "# !! Your Turn !!"
      ]
    },
    {
      "cell_type": "markdown",
      "metadata": {
        "id": "-NTrQ-sYX0cN"
      },
      "source": [
        "## Replace the code marked as <..> COMPLETELY with your own.\n",
        "For example:\n",
        "length = <..> will be replaced by length = 10"
      ]
    },
    {
      "cell_type": "markdown",
      "metadata": {
        "id": "0sjQhhslX0cO"
      },
      "source": [
        "# Question 1\n",
        "1) Store [2,4,6,8,10] into a variable data<br/>\n",
        "2) Print out the 1st element in this list."
      ]
    },
    {
      "cell_type": "code",
      "execution_count": 44,
      "metadata": {
        "colab": {
          "base_uri": "https://localhost:8080/"
        },
        "id": "b6TAUzl0X0cP",
        "outputId": "262754cb-30bd-4386-f8d2-af4c8b1cb0e3"
      },
      "outputs": [
        {
          "output_type": "stream",
          "name": "stdout",
          "text": [
            "2\n"
          ]
        }
      ],
      "source": [
        "data = [2,4,6,8,10]\n",
        "#print(data) #You should see the output 2\n",
        "\n",
        "print(data[0])"
      ]
    },
    {
      "cell_type": "markdown",
      "metadata": {
        "id": "byYmBEppX0cQ"
      },
      "source": [
        "# Question 2"
      ]
    },
    {
      "cell_type": "markdown",
      "metadata": {
        "id": "k7z8H3UdX0cR"
      },
      "source": [
        "1) Store [1,3,5,7,9] into a variable data2<br/>\n",
        "2) Print out the 3rd element in this list."
      ]
    },
    {
      "cell_type": "code",
      "execution_count": 43,
      "metadata": {
        "colab": {
          "base_uri": "https://localhost:8080/"
        },
        "id": "dwKNgfjqX0cS",
        "outputId": "04616941-8595-4f31-a196-356e32c8af0a"
      },
      "outputs": [
        {
          "output_type": "stream",
          "name": "stdout",
          "text": [
            "5\n"
          ]
        }
      ],
      "source": [
        "data2 = [1,3,5,7,9]\n",
        "#print(<..>) #You should see the output 5\n",
        "\n",
        "print(data2[2])"
      ]
    },
    {
      "cell_type": "markdown",
      "metadata": {
        "id": "kkD6OvnnX0cU"
      },
      "source": [
        "# Question 3\n",
        "1) Concatenate the two lists <b>data</b> and <b>data2</b> together into a variable, <b>data3</b>.<br/>\n",
        "2) Print them out.<br/>"
      ]
    },
    {
      "cell_type": "code",
      "execution_count": 45,
      "metadata": {
        "colab": {
          "base_uri": "https://localhost:8080/"
        },
        "id": "FQhtTR0DX0cU",
        "outputId": "3071e6fc-c331-473d-cb81-b5689fba982c"
      },
      "outputs": [
        {
          "output_type": "stream",
          "name": "stdout",
          "text": [
            "[2, 4, 6, 8, 10, 1, 3, 5, 7, 9]\n"
          ]
        }
      ],
      "source": [
        "data3 = data + data2\n",
        "print(data3)"
      ]
    },
    {
      "cell_type": "markdown",
      "metadata": {
        "id": "WD04B5xLX0cV"
      },
      "source": [
        "3) If they are not in the correct running sequence, sort them.<br/>\n",
        "4) Print it out"
      ]
    },
    {
      "cell_type": "code",
      "execution_count": 46,
      "metadata": {
        "colab": {
          "base_uri": "https://localhost:8080/"
        },
        "id": "NjDVLBjDX0cV",
        "outputId": "4c5f3b6e-e012-4c1c-f23f-d656ab563851"
      },
      "outputs": [
        {
          "output_type": "stream",
          "name": "stdout",
          "text": [
            "[1, 2, 3, 4, 5, 6, 7, 8, 9, 10]\n"
          ]
        }
      ],
      "source": [
        "import numpy as np\n",
        "\n",
        "def selection_sort(x):\n",
        "    for i in range(len(x)):\n",
        "        swap = i + np.argmin(x[i:])\n",
        "        (x[i], x[swap]) = (x[swap], x[i])\n",
        "    return x\n",
        "\n",
        "x = data3\n",
        "selection_sort(x)\n",
        "\n",
        "np.sort(x)\n",
        "\n",
        "print(x)\n",
        "#<..>.<..>\n",
        "#print(<..>)"
      ]
    },
    {
      "cell_type": "markdown",
      "metadata": {
        "id": "NNoOXTTWX0cV"
      },
      "source": [
        "# Question 4\n",
        "\n",
        "Let's try out mathematical operators on the lists and see if they work. <br/>\n",
        "1) Multiply the list, <b>data3</b>, by 2. What do you see?<br/>"
      ]
    },
    {
      "cell_type": "code",
      "execution_count": 47,
      "metadata": {
        "colab": {
          "base_uri": "https://localhost:8080/"
        },
        "id": "zkC2KKP3X0cW",
        "outputId": "95b6acd7-71cc-49ba-cf74-ed04a4d14d01"
      },
      "outputs": [
        {
          "output_type": "stream",
          "name": "stdout",
          "text": [
            "[1, 2, 3, 4, 5, 6, 7, 8, 9, 10, 1, 2, 3, 4, 5, 6, 7, 8, 9, 10]\n"
          ]
        }
      ],
      "source": [
        "print(data3 * 2)"
      ]
    },
    {
      "cell_type": "markdown",
      "metadata": {
        "id": "ctVITd4wX0cW"
      },
      "source": [
        "<i>Tips: Try out the other mathematical operators in the boxes below. Some may not work and may produce errors</i> "
      ]
    },
    {
      "cell_type": "code",
      "execution_count": 48,
      "metadata": {
        "colab": {
          "base_uri": "https://localhost:8080/"
        },
        "id": "9tCbuqEWX0cX",
        "outputId": "413d96ba-7f12-4b49-990c-d90825c7ef67"
      },
      "outputs": [
        {
          "output_type": "stream",
          "name": "stdout",
          "text": [
            "[1, 2, 3, 4, 5, 6, 7, 8, 9, 10, 1, 2, 3, 4, 5, 6, 7, 8, 9, 10]\n"
          ]
        }
      ],
      "source": [
        "#use +\n",
        "print(data3 + data3)"
      ]
    },
    {
      "cell_type": "code",
      "execution_count": 49,
      "metadata": {
        "colab": {
          "base_uri": "https://localhost:8080/",
          "height": 181
        },
        "id": "mSIg4rrCX0cX",
        "outputId": "7fc50128-0708-4597-949e-0ddc4dd90c40"
      },
      "outputs": [
        {
          "output_type": "error",
          "ename": "TypeError",
          "evalue": "ignored",
          "traceback": [
            "\u001b[0;31m---------------------------------------------------------------------------\u001b[0m",
            "\u001b[0;31mTypeError\u001b[0m                                 Traceback (most recent call last)",
            "\u001b[0;32m<ipython-input-49-11ca84a5dfe1>\u001b[0m in \u001b[0;36m<cell line: 2>\u001b[0;34m()\u001b[0m\n\u001b[1;32m      1\u001b[0m \u001b[0;31m#use -\u001b[0m\u001b[0;34m\u001b[0m\u001b[0;34m\u001b[0m\u001b[0m\n\u001b[0;32m----> 2\u001b[0;31m \u001b[0mprint\u001b[0m\u001b[0;34m(\u001b[0m\u001b[0mdata3\u001b[0m \u001b[0;34m-\u001b[0m \u001b[0mdata3\u001b[0m\u001b[0;34m)\u001b[0m\u001b[0;34m\u001b[0m\u001b[0;34m\u001b[0m\u001b[0m\n\u001b[0m",
            "\u001b[0;31mTypeError\u001b[0m: unsupported operand type(s) for -: 'list' and 'list'"
          ]
        }
      ],
      "source": [
        "#use -\n",
        "print(data3 - data3)"
      ]
    },
    {
      "cell_type": "code",
      "execution_count": 50,
      "metadata": {
        "colab": {
          "base_uri": "https://localhost:8080/",
          "height": 181
        },
        "id": "7aeo1bVnX0cX",
        "outputId": "ec12ae80-0e62-4355-97ff-cda11f882c37"
      },
      "outputs": [
        {
          "output_type": "error",
          "ename": "TypeError",
          "evalue": "ignored",
          "traceback": [
            "\u001b[0;31m---------------------------------------------------------------------------\u001b[0m",
            "\u001b[0;31mTypeError\u001b[0m                                 Traceback (most recent call last)",
            "\u001b[0;32m<ipython-input-50-509668fedd4f>\u001b[0m in \u001b[0;36m<cell line: 2>\u001b[0;34m()\u001b[0m\n\u001b[1;32m      1\u001b[0m \u001b[0;31m#use /\u001b[0m\u001b[0;34m\u001b[0m\u001b[0;34m\u001b[0m\u001b[0m\n\u001b[0;32m----> 2\u001b[0;31m \u001b[0mprint\u001b[0m\u001b[0;34m(\u001b[0m\u001b[0mdata3\u001b[0m \u001b[0;34m/\u001b[0m \u001b[0mdata3\u001b[0m\u001b[0;34m)\u001b[0m\u001b[0;34m\u001b[0m\u001b[0;34m\u001b[0m\u001b[0m\n\u001b[0m",
            "\u001b[0;31mTypeError\u001b[0m: unsupported operand type(s) for /: 'list' and 'list'"
          ]
        }
      ],
      "source": [
        "#use /\n",
        "print(data3 / data3)"
      ]
    },
    {
      "cell_type": "markdown",
      "metadata": {
        "id": "nqXOOCSNX0cY"
      },
      "source": [
        "<i>This shows that you cannot apply mathematical operators to a list the way you would to numeric data types.</i> "
      ]
    },
    {
      "cell_type": "markdown",
      "metadata": {
        "id": "DUXjjr8PX0cY"
      },
      "source": [
        "# Question 5\n",
        "1) Create a variable, <b>storage</b>, that stores the following:<br/><br/>\n",
        "table<br/>\n",
        "chair<br/>\n",
        "fridge<br/>\n",
        "washing machine<br/><br/>\n",
        "2) print out the variable storage and verify the contents.\n",
        "Hint: You should see ['table', 'chair', 'fridge', 'washing machine']"
      ]
    },
    {
      "cell_type": "code",
      "execution_count": null,
      "metadata": {
        "id": "lAHw9pdwX0cY"
      },
      "outputs": [],
      "source": [
        "storage = <..>\n",
        "print(<..>)"
      ]
    },
    {
      "cell_type": "markdown",
      "metadata": {
        "id": "-rYncSHIX0cZ"
      },
      "source": [
        "# Question 6\n",
        "1) You can add \"aircon\" into storage by doing <b>storage.append(\"aircon\")</b>.<br/>\n",
        "2) Do that, and print out the new storage variable to verify that \"aircon\" has been added.<br/>\n",
        "Hint: You should see ['table', 'chair', 'fridge', 'washing machine', 'aircon']"
      ]
    },
    {
      "cell_type": "code",
      "execution_count": null,
      "metadata": {
        "id": "qY8zFoqiX0cZ"
      },
      "outputs": [],
      "source": [
        "storage = <..>\n",
        "storage.append(<..>)\n",
        "print(<..>)"
      ]
    },
    {
      "cell_type": "markdown",
      "metadata": {
        "id": "6lJcgYbTX0cZ"
      },
      "source": [
        "# Question 7\n",
        "1) You can remove \"chair\" from storage by doing <b>storage.remove(\"chair\")</b>.<br/>\n",
        "2) Do that, and print out the new storage variable to verify that \"chair\" has been removed.<br/>\n",
        "Hint: You should see ['table', 'fridge', 'washing machine', 'aircon']"
      ]
    },
    {
      "cell_type": "code",
      "execution_count": null,
      "metadata": {
        "id": "4UsrSkm8X0ca"
      },
      "outputs": [],
      "source": [
        "storage.<..>(<..>)\n",
        "print(<..>)"
      ]
    },
    {
      "cell_type": "markdown",
      "metadata": {
        "id": "xwNmIIg1X0ca"
      },
      "source": [
        "# Question 8\n",
        "1) <b>|value| in storage</b> allows you to check whether an item is inside the list.<br/>\n",
        "2) For example, <b>\"table\" in storage</b> will return true.<br/>\n",
        "3) Write the code to check if the item \"fridge\" is inside storage.<br/>"
      ]
    },
    {
      "cell_type": "code",
      "execution_count": null,
      "metadata": {
        "id": "H6P8S93xX0cb"
      },
      "outputs": [],
      "source": [
        "storage = <..>\n",
        "print(<..> in <..>)"
      ]
    },
    {
      "cell_type": "markdown",
      "metadata": {
        "id": "YUuRtx1WX0cb"
      },
      "source": [
        "# Question 9\n",
        "1) Create a dictionary, <b>postal_to_town</b> that stores the following key-value pairs.<br/>\n",
        "760702 --> Yishun\n",
        "530406 --> Hougang\n",
        "600212 --> Jurong East"
      ]
    },
    {
      "cell_type": "code",
      "execution_count": null,
      "metadata": {
        "id": "AZ7BnlOTX0cb"
      },
      "outputs": [],
      "source": [
        "postal_to_town = {\n",
        "    <..>: <..>,\n",
        "    <..>: <..>,\n",
        "    <..>: <..>\n",
        "}"
      ]
    },
    {
      "cell_type": "markdown",
      "metadata": {
        "id": "demkaZ6eX0cc"
      },
      "source": [
        "2) Print out the town by referencing postal '760702'<br/>\n",
        "You should see Yishun"
      ]
    },
    {
      "cell_type": "code",
      "execution_count": null,
      "metadata": {
        "id": "4CpelQppX0cc"
      },
      "outputs": [],
      "source": [
        "<..>"
      ]
    },
    {
      "cell_type": "markdown",
      "metadata": {
        "id": "kW0CoPLtX0cc"
      },
      "source": [
        "3) Print out the town by referencing postal '530406'<br/>\n",
        "You should see Hougang"
      ]
    },
    {
      "cell_type": "code",
      "execution_count": null,
      "metadata": {
        "id": "pIWCHL1sX0cc"
      },
      "outputs": [],
      "source": [
        "<..>"
      ]
    },
    {
      "cell_type": "markdown",
      "metadata": {
        "id": "uXy7j8uPX0cc"
      },
      "source": [
        "4) Print out the town by referencing postal '600212'<br/>\n",
        "You should see Jurong East"
      ]
    },
    {
      "cell_type": "code",
      "execution_count": null,
      "metadata": {
        "id": "MQohunlfX0cd"
      },
      "outputs": [],
      "source": [
        "<..>"
      ]
    },
    {
      "cell_type": "markdown",
      "metadata": {
        "id": "AEsOkhtnX0cd"
      },
      "source": [
        "4) Print out the town by referencing postal '138577'<br/>\n",
        "What do you see?"
      ]
    },
    {
      "cell_type": "code",
      "execution_count": null,
      "metadata": {
        "id": "nEKhUfoIX0cd"
      },
      "outputs": [],
      "source": [
        "<..>"
      ]
    },
    {
      "cell_type": "markdown",
      "metadata": {
        "id": "6e7KdQ5JX0cd"
      },
      "source": [
        "# Question 10*"
      ]
    },
    {
      "cell_type": "markdown",
      "metadata": {
        "id": "upDquTrNX0cd"
      },
      "source": [
        "1) Decide on a data type to use for the following use case: <br/>\n",
        "- I want to read in values and store them as I read them in sequentially.<br/>\n",
        "- Order matters.<br/>\n",
        "- Repeated values are ok.<br/>\n",
        "- I want to be able to remove some of the items too.<br/>\n",
        "\n",
        "2) When you have decided, create such a variable called <b>zoo2</b> and store the following values into it:<br/>\n",
        "- lion<br/>\n",
        "- tiger<br/>\n",
        "- giraffe<br/>\n",
        "- hippo<br/>\n",
        "- monkey<br/>"
      ]
    },
    {
      "cell_type": "code",
      "execution_count": null,
      "metadata": {
        "id": "vMiiWRHlX0cd"
      },
      "outputs": [],
      "source": []
    },
    {
      "cell_type": "markdown",
      "metadata": {
        "id": "g21pI5r2X0cd"
      },
      "source": [
        "3) Write code into the cell below such that you will prompt the user to tell you an animal, then store it into the existing data in the variable <b>zoo2</b>.<br/>\n",
        "4) Then, run the cell below 3 times, and input the following values:<br/>\n",
        "- bird<br/>\n",
        "- panda<br/>\n",
        "- monkey<br/>"
      ]
    },
    {
      "cell_type": "code",
      "execution_count": null,
      "metadata": {
        "id": "fRJCwNtKX0ce"
      },
      "outputs": [],
      "source": []
    },
    {
      "cell_type": "markdown",
      "metadata": {
        "id": "wykKYQx4X0ce"
      },
      "source": [
        "5) Print out the variable <b>zoo2</b>. It should contain the following in order:<br/>\n",
        "- lion<br/>\n",
        "- tiger<br>\n",
        "- giraffe<br>\n",
        "- hippo<br>\n",
        "- monkey<br>\n",
        "- bird<br>\n",
        "- panda<br>\n",
        "- monkey<br>"
      ]
    },
    {
      "cell_type": "code",
      "execution_count": null,
      "metadata": {
        "id": "rrXIhjjFX0ce"
      },
      "outputs": [],
      "source": []
    },
    {
      "cell_type": "markdown",
      "metadata": {
        "id": "gjJfiOqsX0ce"
      },
      "source": [
        "6) Write code into the cell below such that you will prompt the user to tell you an animal, then remove it from the existing data in the variable <b>zoo2</b>.<br/>\n",
        "7) Then, run the cell below 3 times, and input the following values:<br/>\n",
        "- tiger<br/>\n",
        "- monkey<br/>\n",
        "- giraffe<br/>"
      ]
    },
    {
      "cell_type": "code",
      "execution_count": null,
      "metadata": {
        "id": "332O1XsCX0ce"
      },
      "outputs": [],
      "source": []
    },
    {
      "cell_type": "markdown",
      "metadata": {
        "id": "0whxFchsX0ce"
      },
      "source": [
        "8) Print out the variable <b>zoo2</b>. It should contain the following in order:<br/>\n",
        "- lion<br/>\n",
        "- hippo<br>\n",
        "- bird<br>\n",
        "- panda<br>\n",
        "- monkey<br>"
      ]
    },
    {
      "cell_type": "code",
      "execution_count": null,
      "metadata": {
        "id": "kAz3Ovp4X0ce"
      },
      "outputs": [],
      "source": []
    },
    {
      "cell_type": "markdown",
      "metadata": {
        "id": "4ib9VctcX0ce"
      },
      "source": [
        "# Question 11 *"
      ]
    },
    {
      "cell_type": "markdown",
      "metadata": {
        "id": "JJgw6zJZX0ce"
      },
      "source": [
        "1) Decide on a data type to use for the following use case: <br/>\n",
        "- I want to read in a pair of key and values and store them.<br/>\n",
        "- Order does not matter.<br/>\n",
        "- Repeated values are ok.<br/>\n",
        "- I want to be able to change some of the values for the keys too.<br/>\n",
        "\n",
        "2) When you have decided, create such a variable called <b>zoo3</b> and store the following key - values into it:<br/>\n",
        "- lion - c<br/>\n",
        "- tiger - h<br/>\n",
        "- giraffe - h<br/>\n",
        "- hippo - h<br/>\n",
        "- monkey - o<br/><br/>\n",
        "<i>Note: key is lion, value is c</i>"
      ]
    },
    {
      "cell_type": "code",
      "execution_count": null,
      "metadata": {
        "id": "QJjW7ojFX0cf"
      },
      "outputs": [],
      "source": []
    },
    {
      "cell_type": "markdown",
      "metadata": {
        "id": "3RWpIjdaX0cf"
      },
      "source": [
        "3) Write code into the cell below such that you will prompt the user to tell you an animal.<br/>\n",
        "4) Then, run the cell below 1 time, and input the following values:<br/>\n",
        "- bird<br/>"
      ]
    },
    {
      "cell_type": "code",
      "execution_count": null,
      "metadata": {
        "id": "s6ux2z_WX0cf"
      },
      "outputs": [],
      "source": []
    },
    {
      "cell_type": "markdown",
      "metadata": {
        "id": "br2htjljX0cf"
      },
      "source": [
        "5) Write code into the cell below such that you will prompt the user to tell you whether the animal is a carnivore, herbivore or omnivore.<br/>\n",
        "The user simply keys in c, h or o.<br/>\n",
        "6) Then, run the cell below 1 time, and input the following values:<br/>\n",
        "- o<br/>"
      ]
    },
    {
      "cell_type": "code",
      "execution_count": null,
      "metadata": {
        "id": "N5QXc76NX0cg"
      },
      "outputs": [],
      "source": []
    },
    {
      "cell_type": "markdown",
      "metadata": {
        "id": "G_600zVuX0cg"
      },
      "source": [
        "7) Add the new animal and its dietary preference into <b>zoo3</b>.<br/>\n",
        "Print out <b>zoo3</b>."
      ]
    },
    {
      "cell_type": "code",
      "execution_count": null,
      "metadata": {
        "id": "15ofOnjMX0cg"
      },
      "outputs": [],
      "source": []
    },
    {
      "cell_type": "markdown",
      "metadata": {
        "id": "8P_vHowAX0cg"
      },
      "source": [
        "8) You realised you made a mistake with the dietary preference for the tiger earlier on. Write the code to change it from an 'h' to a 'c'.<br/>\n",
        "Print out <b>zoo3</b>."
      ]
    },
    {
      "cell_type": "code",
      "execution_count": null,
      "metadata": {
        "id": "MMux20tnX0ch"
      },
      "outputs": [],
      "source": []
    }
  ],
  "metadata": {
    "kernelspec": {
      "display_name": "Python 3 (ipykernel)",
      "language": "python",
      "name": "python3"
    },
    "language_info": {
      "codemirror_mode": {
        "name": "ipython",
        "version": 3
      },
      "file_extension": ".py",
      "mimetype": "text/x-python",
      "name": "python",
      "nbconvert_exporter": "python",
      "pygments_lexer": "ipython3",
      "version": "3.9.7"
    },
    "colab": {
      "provenance": [],
      "include_colab_link": true
    }
  },
  "nbformat": 4,
  "nbformat_minor": 0
}