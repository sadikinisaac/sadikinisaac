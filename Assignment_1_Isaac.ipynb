{
 "cells": [
  {
   "cell_type": "markdown",
   "metadata": {},
   "source": [
    "# Assignment 1 Code - Isaac A0163058E"
   ]
  },
  {
   "cell_type": "code",
   "execution_count": 1,
   "metadata": {},
   "outputs": [],
   "source": [
    "from gurobipy import *\n",
    "import pandas as pd\n",
    "\n",
    "#pip install gurobipy"
   ]
  },
  {
   "cell_type": "code",
   "execution_count": 2,
   "metadata": {},
   "outputs": [
    {
     "name": "stdout",
     "output_type": "stream",
     "text": [
      "Set parameter Username\n",
      "Gurobi Optimizer version 10.0.2 build v10.0.2rc0 (mac64[x86])\n",
      "\n",
      "CPU model: Intel(R) Core(TM) i5-1038NG7 CPU @ 2.00GHz\n",
      "Thread count: 4 physical cores, 8 logical processors, using up to 8 threads\n",
      "\n",
      "Optimize a model with 1 rows, 5 columns and 5 nonzeros\n",
      "Model fingerprint: 0x18620101\n",
      "Coefficient statistics:\n",
      "  Matrix range     [2e+00, 6e+00]\n",
      "  Objective range  [2e+00, 9e+00]\n",
      "  Bounds range     [1e+03, 1e+03]\n",
      "  RHS range        [9e+03, 9e+03]\n",
      "Presolve time: 0.01s\n",
      "Presolved: 1 rows, 5 columns, 5 nonzeros\n",
      "\n",
      "Iteration    Objective       Primal Inf.    Dual Inf.      Time\n",
      "       0    2.7100000e+04   5.625000e+02   0.000000e+00      0s\n",
      "       1    1.5356791e+04   0.000000e+00   0.000000e+00      0s\n",
      "\n",
      "Solved in 1 iterations and 0.01 seconds (0.00 work units)\n",
      "Optimal objective  1.535679090e+04\n",
      "\n",
      "Optimal solution:\n",
      "sell[S1] 1000.0\n",
      "sell[S2] 1000.0\n",
      "sell[S3] 1000.0\n",
      "sell[S4] 118.76184459886302\n",
      "sell[S5] 0.0\n",
      "\n",
      "Optimal profit:\n",
      "Obj: 15356.790903348072\n"
     ]
    }
   ],
   "source": [
    "from gurobipy import *\n",
    "import pandas as pd\n",
    "\n",
    "# Read data from CSV file\n",
    "invest_data = pd.read_csv('./investment.csv')\n",
    "stock_data = invest_data.values\n",
    "\n",
    "# Extract data into dictionaries\n",
    "stock, buy_price, cur_share, cur_price, exp_price = multidict({\n",
    "    item[0]: (item[1], item[2], item[3], item[4]) for item in stock_data\n",
    "})\n",
    "\n",
    "# Set the value of K\n",
    "K = 9000\n",
    "\n",
    "# Create Gurobi model\n",
    "m = Model(\"invest_tax\")\n",
    "\n",
    "# Create decision variables\n",
    "sell = m.addVars(stock, ub=cur_share, lb=0, name=\"sell\")\n",
    "\n",
    "# Define the objective function\n",
    "obj = quicksum(exp_price[i] * (cur_share[i] - sell[i]) for i in stock)\n",
    "m.setObjective(obj, GRB.MAXIMIZE)\n",
    "\n",
    "# Define the constraint for raising at least K\n",
    "min_raise_constraint = quicksum(\n",
    "    sell[i] * cur_price[i] - 0.3 * sell[i] * max(cur_price[i] - buy_price[i], 0) - 0.01 * sell[i] * cur_price[i]\n",
    "    for i in stock\n",
    ") >= K\n",
    "m.addConstr(min_raise_constraint, \"min_raise\")\n",
    "\n",
    "# Optimize the model\n",
    "m.optimize()\n",
    "\n",
    "# Print optimal solutions and optimal value\n",
    "print(\"\\nOptimal solution:\")\n",
    "for v in m.getVars():\n",
    "    print(v.VarName, v.x)\n",
    "\n",
    "print(\"\\nOptimal profit:\")\n",
    "print('Obj:', m.objVal)"
   ]
  }
 ],
 "metadata": {
  "kernelspec": {
   "display_name": "Python 3",
   "language": "python",
   "name": "python3"
  },
  "language_info": {
   "codemirror_mode": {
    "name": "ipython",
    "version": 3
   },
   "file_extension": ".py",
   "mimetype": "text/x-python",
   "name": "python",
   "nbconvert_exporter": "python",
   "pygments_lexer": "ipython3",
   "version": "3.8.3"
  }
 },
 "nbformat": 4,
 "nbformat_minor": 2
}
