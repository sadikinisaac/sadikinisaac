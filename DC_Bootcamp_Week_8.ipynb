{
 "cells": [
  {
   "cell_type": "markdown",
   "metadata": {
    "id": "NpPlK3f9VIJg"
   },
   "source": [
    "# Pandas: \n",
    "### - Concatenating and Joining DataFrames\n",
    "### - Visualising data in DataFrames"
   ]
  },
  {
   "cell_type": "markdown",
   "metadata": {
    "id": "gN2RFGn3VIJi"
   },
   "source": [
    "<strong> <h2> Run The Following Code </h2> </strong>\n",
    "\n",
    "Hit SHIFT + ENTER when your cusor is inside the cell of code.<br/>"
   ]
  },
  {
   "cell_type": "markdown",
   "metadata": {
    "id": "DwtTXJX9CniY"
   },
   "source": [
    "## Importing and Checking the Data"
   ]
  },
  {
   "cell_type": "code",
   "execution_count": null,
   "metadata": {
    "id": "BPGI7YZmCZ26"
   },
   "outputs": [],
   "source": [
    "!pip install wget\n",
    "import wget\n",
    "wget.download('https://d17lzt44idt8rf.cloudfront.net/data-week-08.zip')\n",
    "!unzip 'data-week-08.zip' -d ."
   ]
  },
  {
   "cell_type": "markdown",
   "metadata": {
    "id": "3fskFP6UVIJo"
   },
   "source": [
    "> Data Preparation. Importing pandas"
   ]
  },
  {
   "cell_type": "code",
   "execution_count": null,
   "metadata": {
    "id": "GChe2i8UVIJo"
   },
   "outputs": [],
   "source": [
    "import pandas as pd"
   ]
  },
  {
   "cell_type": "code",
   "execution_count": null,
   "metadata": {
    "id": "uSJfOtxuBwSK"
   },
   "outputs": [],
   "source": [
    "# Import the two plotting packages (don't have to use both)\n",
    "## Package: Matplotlib\n",
    "%matplotlib inline\n",
    "from matplotlib import pyplot as plt\n",
    "\n",
    "## Package: Seaborn\n",
    "import seaborn as sns"
   ]
  },
  {
   "cell_type": "code",
   "execution_count": null,
   "metadata": {
    "id": "3pGECiMQBwSK"
   },
   "outputs": [],
   "source": [
    "# These two lines are to set the size of the plot/chart\n",
    "## For Matplotlib\n",
    "plt.rc('figure', figsize=(16,9))\n",
    "## For Seaborn\n",
    "sns.set(rc= {\"figure.figsize\": (16, 9)})"
   ]
  },
  {
   "cell_type": "markdown",
   "metadata": {
    "id": "gctnxHQEVIJo"
   },
   "source": [
    "> Open up a CSV file"
   ]
  },
  {
   "cell_type": "code",
   "execution_count": null,
   "metadata": {
    "id": "1Wyy8PlXVIJp"
   },
   "outputs": [],
   "source": [
    "hdb = 'data/0_raw_data/sample/years/hdb_resale_sample_raw_2012.csv'\n",
    "\n",
    "df = pd.read_csv(hdb)"
   ]
  },
  {
   "cell_type": "markdown",
   "metadata": {
    "id": "8oNcfodGVIJq"
   },
   "source": [
    "> viewing the contents of the dataset"
   ]
  },
  {
   "cell_type": "markdown",
   "metadata": {
    "id": "oCz9QupRBwSL"
   },
   "source": [
    "The main dataset that we will work on is on HDB resale data.<br/>\n",
    "See the description below for the fields given. <br/>\n",
    "<br/>\n",
    "<table>\n",
    "    <tr><th>Field</th><th>Description</th></tr>\n",
    "    <tr><td>Trans_YearMonth</td><td>year-month (YYYY-MM) for transaction</td></tr>\n",
    "    <tr><td>town</td><td>town for the resale flat</td></tr>\n",
    "    <tr><td>flat_type</td><td>flat type for the resale flat</td></tr>\n",
    "    <tr><td>block</td><td>block for the resale flat</td></tr>\n",
    "    <tr><td>street_name</td><td>street for the resale flat</td></tr>\n",
    "    <tr><td>storey_range</td><td>storey range for the resale flat</td></tr>\n",
    "    <tr><td>floor_area_sqm</td><td>floor area in square meter</td></tr>\n",
    "    <tr><td>flat_model</td><td>model of resale flat</td></tr>\n",
    "    <tr><td>lease_commence_date</td><td>year of lease commencement</td></tr>\n",
    "    <tr><td>resale_price</td><td>price of the resale flat</td></tr>\n",
    "</table>"
   ]
  },
  {
   "cell_type": "code",
   "execution_count": null,
   "metadata": {
    "id": "vx_EjdhNBwSL"
   },
   "outputs": [],
   "source": [
    "df.shape #num of rows and columns 15000 rows, 10 columns"
   ]
  },
  {
   "cell_type": "code",
   "execution_count": null,
   "metadata": {
    "id": "nB2DLyrQVIJq"
   },
   "outputs": [],
   "source": [
    "df.head() #first 5 rows of data"
   ]
  },
  {
   "cell_type": "markdown",
   "metadata": {
    "id": "tMbF7noKBwSL"
   },
   "source": [
    "## Concatenating DataFrames (with .concat)"
   ]
  },
  {
   "cell_type": "markdown",
   "metadata": {
    "id": "jTTwVOtoBwSL"
   },
   "source": [
    "> Concatenating DataFrames"
   ]
  },
  {
   "cell_type": "code",
   "execution_count": null,
   "metadata": {
    "id": "gpL0n8CnBwSL"
   },
   "outputs": [],
   "source": [
    "import os"
   ]
  },
  {
   "cell_type": "code",
   "execution_count": null,
   "metadata": {
    "id": "y2j5sH_jBwSM"
   },
   "outputs": [],
   "source": [
    "os.listdir() #prints out current working directory"
   ]
  },
  {
   "cell_type": "code",
   "execution_count": null,
   "metadata": {
    "id": "aViZhASKBwSM"
   },
   "outputs": [],
   "source": [
    "os.listdir('data/0_raw_data/sample/years') #prints out files in specific path"
   ]
  },
  {
   "cell_type": "code",
   "execution_count": null,
   "metadata": {
    "id": "RXyaq5S_BwSM"
   },
   "outputs": [],
   "source": [
    "\n",
    "folder_path = 'data/0_raw_data/sample/years'\n",
    "\n",
    "dfs_list = []\n",
    "for filename in os.listdir(folder_path): #loop through the files and save dataframes\n",
    "    df_temp = pd.read_csv(folder_path + '/' + filename)\n",
    "    dfs_list.append(df_temp)\n",
    "    print(\"appended \" + filename + \" with \" + str(len(df_temp)) + \" rows to the list of DataFrames\")"
   ]
  },
  {
   "cell_type": "code",
   "execution_count": null,
   "metadata": {
    "id": "ynP7ZLHRBwSM"
   },
   "outputs": [],
   "source": [
    "#concatenate dataframes\n",
    "df = pd.concat(dfs_list)\n",
    "#notice the index is off because it follows respective dataframes index\n",
    "df"
   ]
  },
  {
   "cell_type": "code",
   "execution_count": null,
   "metadata": {
    "id": "0TQjpIK3BwSM"
   },
   "outputs": [],
   "source": [
    "#concatenate dataframes\n",
    "df = pd.concat(dfs_list, ignore_index=True) #concatenate dataframes\n",
    "#notice the index is now correct\n",
    "df"
   ]
  },
  {
   "cell_type": "markdown",
   "metadata": {
    "id": "VmVBWeziBwSM"
   },
   "source": [
    "## Joining DataFrames (with .merge)"
   ]
  },
  {
   "cell_type": "markdown",
   "metadata": {
    "id": "90FzECRWBwSM",
    "tags": []
   },
   "source": [
    "> Joining DataFrames (with an simple example)"
   ]
  },
  {
   "cell_type": "code",
   "execution_count": null,
   "metadata": {
    "id": "B2PMP-cWBwSM"
   },
   "outputs": [],
   "source": [
    "df1 = pd.DataFrame({\"Name\": [\"Ali\", \"Ah Ming\", \"Mutu\"], \"class\": [\"a\", \"b\", \"b\"]})\n",
    "df1"
   ]
  },
  {
   "cell_type": "code",
   "execution_count": null,
   "metadata": {
    "id": "JNTjMZyuBwSM"
   },
   "outputs": [],
   "source": [
    "df2 = pd.DataFrame({\"Name\": [\"Ali\", \"Ah Ming\", \"Ah Ming\", \"Siti\"], \"subject\": [\"eng\", \"eng\", \"math\", \"math\"], \"score\": [85, 25, 76, 80]})\n",
    "df2"
   ]
  },
  {
   "cell_type": "code",
   "execution_count": null,
   "metadata": {
    "id": "qydl_FWfBwSM"
   },
   "outputs": [],
   "source": [
    "# You can experimenting with the \"left\", \"right\", \"inner\", \"outer\" on the 'how' parameter to see the impacts\n",
    "df1.merge(df2, how='left', on='Name')"
   ]
  },
  {
   "cell_type": "markdown",
   "metadata": {
    "id": "NaYSHAeuBwSN"
   },
   "source": [
    "> Joining DataFrames (using HDB dataset)"
   ]
  },
  {
   "cell_type": "code",
   "execution_count": null,
   "metadata": {
    "id": "rsh70vcIBwSN"
   },
   "outputs": [],
   "source": [
    "df_mapping_streetname_to_town = pd.read_csv('data/0_raw_data/sample/hdb_resale_sample_raw_towns.csv') #towns dataframe"
   ]
  },
  {
   "cell_type": "code",
   "execution_count": null,
   "metadata": {
    "id": "Zy2hIbV9BwSN"
   },
   "outputs": [],
   "source": [
    "df_mapping_streetname_to_town.head()"
   ]
  },
  {
   "cell_type": "code",
   "execution_count": null,
   "metadata": {
    "id": "Pc46xDJxBwSN"
   },
   "outputs": [],
   "source": [
    "df_dataset = pd.merge(df, df_mapping_streetname_to_town, how='left', on='street_name') #joined dataframe"
   ]
  },
  {
   "cell_type": "code",
   "execution_count": null,
   "metadata": {
    "id": "6E7hqlMcBwSN"
   },
   "outputs": [],
   "source": [
    "# To delete a variable (and erase the memory)\n",
    "del df_dataset"
   ]
  },
  {
   "cell_type": "markdown",
   "metadata": {
    "id": "0viEJkugBwSN"
   },
   "source": [
    "<br/>\n",
    "\n",
    "---\n",
    "\n",
    "---"
   ]
  },
  {
   "cell_type": "markdown",
   "metadata": {
    "id": "26xkFpGnBwSN",
    "tags": []
   },
   "source": [
    "# Visualising Data in DataFrames"
   ]
  },
  {
   "cell_type": "code",
   "execution_count": null,
   "metadata": {
    "id": "1DD9maqIBwSN"
   },
   "outputs": [],
   "source": [
    "# Ignore the \" DtypeWarning\" warning\n",
    "df = pd.read_csv('data/1_processed_data/hdb_resale_sample_processed.csv')"
   ]
  },
  {
   "cell_type": "markdown",
   "metadata": {
    "id": "ArpFLhZ6BwSN"
   },
   "source": [
    "---\n",
    "\n",
    "## Charts that doesn't need groupby\n",
    "- These charts can use raw data, without aggregating the data first\n",
    "- These are charts that shows entire distribution of the data."
   ]
  },
  {
   "cell_type": "markdown",
   "metadata": {
    "id": "2cPYKj2OBwSN"
   },
   "source": [
    "### Histogram\n",
    "Good to show distribution of data"
   ]
  },
  {
   "cell_type": "code",
   "execution_count": null,
   "metadata": {
    "id": "TNzCJ947BwSN"
   },
   "outputs": [],
   "source": [
    "df['resale_price'].plot.hist()"
   ]
  },
  {
   "cell_type": "markdown",
   "metadata": {
    "id": "zBQRwJY4BwSN"
   },
   "source": [
    "## Scatterplot\n",
    "Good to show relationships between 2 numerical fields"
   ]
  },
  {
   "cell_type": "code",
   "execution_count": null,
   "metadata": {
    "id": "FjKZoYEeBwSN"
   },
   "outputs": [],
   "source": [
    "df.plot.scatter('floor_area_sqm', 'resale_price')"
   ]
  },
  {
   "cell_type": "markdown",
   "metadata": {
    "id": "F-dLbKwGBwSN"
   },
   "source": [
    "## Boxplot\n",
    "Good to describe numerical fields"
   ]
  },
  {
   "cell_type": "markdown",
   "metadata": {
    "id": "TRbCDkICBwSR"
   },
   "source": [
    "![Boxplot](https://miro.medium.com/max/18000/1*2c21SkzJMf3frPXPAR_gZA.png)"
   ]
  },
  {
   "cell_type": "code",
   "execution_count": null,
   "metadata": {
    "id": "UqbDD4rcBwSR"
   },
   "outputs": [],
   "source": [
    "# The number of y-axis is the scientific notation of numbers (just like our scientific calculator)\n",
    "df['resale_price'].plot.box()"
   ]
  },
  {
   "cell_type": "markdown",
   "metadata": {
    "id": "wuDxTE4qBwSS"
   },
   "source": [
    "---\n",
    "\n",
    "# Charts that need groupby\n",
    "These are charts that require some groupby aggregation "
   ]
  },
  {
   "cell_type": "markdown",
   "metadata": {
    "id": "JKXWPKvRBwSS"
   },
   "source": [
    "### Line Chart\n",
    "Good to show time trends"
   ]
  },
  {
   "cell_type": "code",
   "execution_count": null,
   "metadata": {
    "id": "gjCKNenWBwSS"
   },
   "outputs": [],
   "source": [
    "df.plot.line(x='lease_commence_date', y='resale_price')"
   ]
  },
  {
   "cell_type": "code",
   "execution_count": null,
   "metadata": {
    "id": "TVbQb6fIBwSS",
    "scrolled": true
   },
   "outputs": [],
   "source": [
    "byyear = df.groupby('lease_commence_date')\n",
    "pricebyyear = byyear['resale_price'].mean()\n",
    "pricebyyear.plot.line(x='lease_commence_date', y='resale_price')"
   ]
  },
  {
   "cell_type": "markdown",
   "metadata": {
    "id": "P96AoQK7BwSS"
   },
   "source": [
    "> Multiple lines"
   ]
  },
  {
   "cell_type": "markdown",
   "metadata": {
    "id": "B8qY3Ek7BwSS"
   },
   "source": [
    "Need to create a table as below.\n",
    "   <table>\n",
    "    <tr><th></th><th>line1</th><th>line2</th><th>line3</th></tr>\n",
    "    <tr><td><b>year1</b></td><td>line1_year1_values</td><td>line2_year1_values</td><td>line3_year1_values</td></tr>\n",
    "    <tr><td><b>year2</b></td><td>line1_year2_values</td><td>line2_year2_values</td><td>line3_year2_values</td></tr>\n",
    "    <tr><td><b>year3</b></td><td>line1_year3_values</td><td>line2_year3_values</td><td>line3_year3_values</td></tr>\n",
    "   </table>\n",
    "   \n",
    "We can use the pivot function to help us."
   ]
  },
  {
   "cell_type": "code",
   "execution_count": null,
   "metadata": {
    "id": "ASiGd9pwBwSS"
   },
   "outputs": [],
   "source": [
    "df.pivot_table('resale_price', 'lease_commence_date', 'flat_type', 'mean').plot.line()"
   ]
  },
  {
   "cell_type": "code",
   "execution_count": null,
   "metadata": {
    "id": "YB_YTMZ6BwSS",
    "tags": []
   },
   "outputs": [],
   "source": [
    "byyearft = df.groupby(['lease_commence_date','flat_type'], as_index=False)\n",
    "pricebyyearft = byyearft['resale_price'].mean()\n",
    "pivot = pricebyyearft.pivot(index='lease_commence_date', columns='flat_type', values='resale_price')\n",
    "pivot.plot.line()"
   ]
  },
  {
   "cell_type": "markdown",
   "metadata": {
    "id": "iQTq9Xd-BwSS"
   },
   "source": [
    "## Bar\n",
    "Good to compare between categories"
   ]
  },
  {
   "cell_type": "code",
   "execution_count": null,
   "metadata": {
    "id": "V4L3_y3wBwSS"
   },
   "outputs": [],
   "source": [
    "df['price_per_sqm'] = df['resale_price'] / df['floor_area_sqm']"
   ]
  },
  {
   "cell_type": "code",
   "execution_count": null,
   "metadata": {
    "id": "SCYlAH3PBwSS",
    "scrolled": true,
    "tags": []
   },
   "outputs": [],
   "source": [
    "byflattype = df.groupby('flat_type')\n",
    "pricebyflattype = byflattype[['resale_price','price_per_sqm']].mean()\n",
    "pricebyflattype['resale_price'].plot.bar()"
   ]
  },
  {
   "cell_type": "code",
   "execution_count": null,
   "metadata": {
    "id": "pBknPJR6BwSS"
   },
   "outputs": [],
   "source": [
    "pricebyflattype['price_per_sqm'].plot.bar()"
   ]
  },
  {
   "cell_type": "markdown",
   "metadata": {
    "id": "8_LVKeG1BwSS"
   },
   "source": [
    "> multiple axis"
   ]
  },
  {
   "cell_type": "markdown",
   "metadata": {
    "id": "7Iii80MsBwST"
   },
   "source": [
    "## Seaborn for Data Exploration "
   ]
  },
  {
   "cell_type": "markdown",
   "metadata": {
    "id": "tyOLeKtxBwST"
   },
   "source": [
    "- You can see seaborn is much intuitive and easier to use\n",
    "- we don't have to aggregate the numbers before passing to the seaborn \n",
    "- It allows us to generate comprehensive charts that can be used to understand the data, with very little codes"
   ]
  },
  {
   "cell_type": "code",
   "execution_count": null,
   "metadata": {
    "id": "-W0oJCHZBwST"
   },
   "outputs": [],
   "source": [
    "# Notice that no aggregation is required\n",
    "sns.barplot(x='flat_type', y='price_per_sqm', data=df)"
   ]
  },
  {
   "cell_type": "code",
   "execution_count": null,
   "metadata": {
    "id": "h9c16HddBwST"
   },
   "outputs": [],
   "source": [
    "# Seaborn also offers charts that can efficiently visualise the individual data points\n",
    "# To help us better understanding the data and potentially observe odds data points\n",
    "sns.catplot(x='flat_type', y='floor_area_sqm', data=df)"
   ]
  },
  {
   "cell_type": "code",
   "execution_count": null,
   "metadata": {
    "id": "YL7lY5PABwST"
   },
   "outputs": [],
   "source": [
    "# Seaborn's scatterplot can be useful for exploring multi-dimensional data\n",
    "\n",
    "\n",
    "sns.scatterplot(x='floor_area_sqm', y='price_per_sqm', hue='flat_type', data=df)"
   ]
  },
  {
   "cell_type": "code",
   "execution_count": null,
   "metadata": {
    "id": "wvFsccPSBwST"
   },
   "outputs": [],
   "source": [
    "# Create a subset of dataset for visualisation\n",
    "df_subset = df[(df['town'] == 'ANG MO KIO') | (df['town'] == 'BEDOK')]\n",
    "\n",
    "# Seaborn can be used to quickly explore the characteristics of data\n",
    "sns.catplot(x='flat_type', y='floor_area_sqm',\n",
    "            col='town',\n",
    "            data=df_subset)"
   ]
  },
  {
   "cell_type": "code",
   "execution_count": null,
   "metadata": {
    "id": "xHRC6fczBwST"
   },
   "outputs": [],
   "source": [
    "# You can also define another 'dimension' for the col (column) \n",
    "# This will take a bit of time to generate\n",
    "sns.catplot(x='flat_type', y='floor_area_sqm',\n",
    "            col='town', row='flat_model',\n",
    "            data=df_subset)"
   ]
  },
  {
   "cell_type": "markdown",
   "metadata": {
    "id": "PhyyRIBJBwST"
   },
   "source": [
    "# !! Your Turn !!"
   ]
  },
  {
   "cell_type": "markdown",
   "metadata": {
    "id": "9Kr7ZYpRBwST"
   },
   "source": [
    "## Replace the code marked as <..> COMPLETELY with your own.\n",
    "- The placeholder <..> is meant to be guidance for your answer.\n",
    "- It should not be restricting your solutions for the questions.\n",
    "- Feel free to add more lines or use less lines,\n",
    "- One placeholder does not mean that you can only insert one line of codes."
   ]
  },
  {
   "cell_type": "markdown",
   "metadata": {
    "id": "O-a_tzovBwST"
   },
   "source": [
    "# Question 1 \n",
    "> Part A)\n",
    "\n",
    "> Using os.listdir() method, list out the list of CSV files in **data > 0_raw_data > full > hdb_resale_datasets_by_years** <br/>\\\n",
    "Read them as separate dataframes and save them in a list variable called **dfs_resale_list**\n"
   ]
  },
  {
   "cell_type": "code",
   "execution_count": null,
   "metadata": {
    "id": "6_lSv1Z8BwST"
   },
   "outputs": [],
   "source": [
    "<..>"
   ]
  },
  {
   "cell_type": "markdown",
   "metadata": {
    "id": "nu_lhWGrBwST"
   },
   "source": [
    "> Part B): \n",
    "> - Concat the list of dataframes in **dfs_resale_list** and store dataframe in the variable **df_resale**\n",
    "> - Make sure the row index is in sequential order. The last index should be **185967**.\n",
    "> -  Print the **last 10 rows** of **df_resale**|"
   ]
  },
  {
   "cell_type": "code",
   "execution_count": null,
   "metadata": {
    "id": "D9b3CODWBwST"
   },
   "outputs": [],
   "source": [
    "<..>"
   ]
  },
  {
   "cell_type": "code",
   "execution_count": null,
   "metadata": {
    "id": "5WjoHKa5BwST"
   },
   "outputs": [],
   "source": [
    "<..>"
   ]
  },
  {
   "cell_type": "markdown",
   "metadata": {
    "id": "XzwB_rHkBwST"
   },
   "source": [
    "# Question 2"
   ]
  },
  {
   "cell_type": "markdown",
   "metadata": {
    "id": "c7kml370BwST"
   },
   "source": [
    "> Part A): Create a new column **floor_area_sqft**, to store the floor area in squared feet\\\n",
    "> 💡Hint: 1 squared meter = 10.764 squared foot"
   ]
  },
  {
   "cell_type": "code",
   "execution_count": null,
   "metadata": {
    "id": "UNg6qgiABwSU"
   },
   "outputs": [],
   "source": [
    "<..>"
   ]
  },
  {
   "cell_type": "markdown",
   "metadata": {
    "id": "oll4LRLRBwSU"
   },
   "source": [
    "2) Create a new column **price_per_sqft**, which is the price per squared foot of the particular resale unit"
   ]
  },
  {
   "cell_type": "code",
   "execution_count": null,
   "metadata": {
    "id": "qVyytAllBwSU"
   },
   "outputs": [],
   "source": [
    "<..>"
   ]
  },
  {
   "cell_type": "markdown",
   "metadata": {
    "id": "a4g--sudBwSU"
   },
   "source": [
    "3) Create a new column **hdb_age**, which is calculated based on current year minus the **lease_commence_date**"
   ]
  },
  {
   "cell_type": "code",
   "execution_count": null,
   "metadata": {
    "id": "yDl1p-QoBwSU"
   },
   "outputs": [],
   "source": [
    "<..>"
   ]
  },
  {
   "cell_type": "markdown",
   "metadata": {
    "id": "ZWI4xSWZBwSU"
   },
   "source": [
    "# Question 3\n",
    "> - Read **\"flat_info_by_address.csv\"** in the *data > 0_raw_data > full* into a dataframe and store in a variable **df_flat_info**\n",
    "> - Print out the top 5 rows from **df_flat_info** \n",
    "> - Find the common column between **df_resale** and **df_flat_info**\n",
    "> - Join the 2 dataFrames (**df_resale** and **df_flat_info**) together using left join and name the final dataframe **df**"
   ]
  },
  {
   "cell_type": "code",
   "execution_count": null,
   "metadata": {
    "id": "2lD2p-C1BwSU"
   },
   "outputs": [],
   "source": [
    "<..>"
   ]
  },
  {
   "cell_type": "code",
   "execution_count": null,
   "metadata": {
    "id": "kAtXwrk0BwSU"
   },
   "outputs": [],
   "source": [
    "<..>"
   ]
  },
  {
   "cell_type": "code",
   "execution_count": null,
   "metadata": {
    "id": "l0Tx4_JBBwSU"
   },
   "outputs": [],
   "source": [
    "<..>"
   ]
  },
  {
   "cell_type": "markdown",
   "metadata": {
    "id": "G7kM1c3sBwSU"
   },
   "source": [
    "# Question 4\n",
    "> Part A):\n",
    "> - Plot a chart to depict the distribution of **floor_area_sqm**\n",
    "> - You can use any methods or packages"
   ]
  },
  {
   "cell_type": "code",
   "execution_count": null,
   "metadata": {
    "id": "nXn8riP0BwSU"
   },
   "outputs": [],
   "source": [
    "<..>"
   ]
  },
  {
   "cell_type": "code",
   "execution_count": null,
   "metadata": {
    "id": "ua9SHhVxBwSU"
   },
   "outputs": [],
   "source": [
    "<..>"
   ]
  },
  {
   "cell_type": "markdown",
   "metadata": {
    "id": "KXvfC-v2BwSU"
   },
   "source": [
    "> Part B):\n",
    "> - Explore the relationship between the **storey_midpoint** and the **price_per_sqft** of the resale units"
   ]
  },
  {
   "cell_type": "code",
   "execution_count": null,
   "metadata": {
    "id": "UwW4ihDxBwSV"
   },
   "outputs": [],
   "source": [
    "<..>"
   ]
  },
  {
   "cell_type": "markdown",
   "metadata": {
    "id": "6L_pOAGfBwSV"
   },
   "source": [
    "> Part C):\n",
    "> - Create a new chart, by adding another field (i.e. dimension) to make further refinement to depict the relationship between the **storey_midpoint** and the **price_per_sqft**"
   ]
  },
  {
   "cell_type": "code",
   "execution_count": null,
   "metadata": {
    "id": "uyvbG3zuBwSV"
   },
   "outputs": [],
   "source": [
    "<..>"
   ]
  },
  {
   "cell_type": "markdown",
   "metadata": {
    "id": "1n4vkUxIBwSV"
   },
   "source": [
    "# Question 5"
   ]
  },
  {
   "cell_type": "markdown",
   "metadata": {
    "id": "Je28HaswBwSV"
   },
   "source": [
    "> - Plot a chart to depict the trend lines of price_per_sqft for the different towns"
   ]
  },
  {
   "cell_type": "code",
   "execution_count": null,
   "metadata": {
    "id": "DcOKEnrzBwSV"
   },
   "outputs": [],
   "source": [
    "<..>"
   ]
  },
  {
   "cell_type": "markdown",
   "metadata": {
    "id": "mMPawoJkBwSV"
   },
   "source": [
    "# Question 6*"
   ]
  },
  {
   "cell_type": "markdown",
   "metadata": {
    "id": "y5XapwH3BwSV"
   },
   "source": [
    ">Calculate the a column **percentage_difference_from_average**, which is the percentage difference of the unit's resale price over the average resale price of the same flat_type in the same town. </br>\n",
    "\n",
    ">> For example, the average for \"3 ROOM\" flat type in ANG MO KIO is \\\\$324,380. </br>\n",
    "For a particular HDB unit with resale price of $410,000, the percentage difference is .264, which means this particular unit is 26.4% more expensive than the average resale price of the same flat_type in the same town.\n",
    "\n",
    "> The result would look like this:\n",
    "> \n",
    "> ![](https://i.imgur.com/hoqjoGY.png)"
   ]
  },
  {
   "cell_type": "markdown",
   "metadata": {
    "id": "MfOMTUb4BwSV"
   },
   "source": [
    "### finding mean price for each town and flat_type"
   ]
  },
  {
   "cell_type": "code",
   "execution_count": null,
   "metadata": {
    "id": "kd7BHjUzBwSV"
   },
   "outputs": [],
   "source": [
    "<..>"
   ]
  },
  {
   "cell_type": "markdown",
   "metadata": {
    "id": "5YGrGKdpBwSV"
   },
   "source": [
    "# Question 7 \n",
    "1) Save the fullhdbdf in **data > 1_processed_data** folder as <b>hdb_resale_full_processed.csv</b> <br/>"
   ]
  },
  {
   "cell_type": "code",
   "execution_count": null,
   "metadata": {
    "id": "ETkQLb5qBwSV"
   },
   "outputs": [],
   "source": [
    "<..>"
   ]
  }
 ],
 "metadata": {
  "colab": {
   "provenance": []
  },
  "kernelspec": {
   "display_name": "Python 3",
   "language": "python",
   "name": "python3"
  },
  "language_info": {
   "codemirror_mode": {
    "name": "ipython",
    "version": 3
   },
   "file_extension": ".py",
   "mimetype": "text/x-python",
   "name": "python",
   "nbconvert_exporter": "python",
   "pygments_lexer": "ipython3",
   "version": "3.8.3"
  }
 },
 "nbformat": 4,
 "nbformat_minor": 1
}
