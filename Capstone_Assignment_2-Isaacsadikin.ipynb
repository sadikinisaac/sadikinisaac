{
 "cells": [
  {
   "cell_type": "markdown",
   "metadata": {
    "id": "bsxvpzCMZTfG",
    "tags": []
   },
   "source": [
    "#  Capstone Assignment 2"
   ]
  },
  {
   "cell_type": "markdown",
   "metadata": {
    "deletable": false,
    "id": "L5SAGf4TZTfI",
    "tags": [],
    "trust": true
   },
   "source": [
    "## Background\n",
    "You are a HDB officer who has just completed the DC Bootcamp <br/>\n",
    "As your first data task, your director has asked you to tackle some of the data processing tasks and analyses.<br/>\n",
    "\n",
    "\n",
    "To aid you in your task, you have been provided with the following **hdb_resale.csv** dataset. <br/>\n",
    "See the description below for the fields given. <br/>\n",
    "<br/>\n",
    "<table>\n",
    "    <tr><th>Field</th><th>Description</th></tr>\n",
    "    <tr><td>Trans_YearMonth</td><td>year-month (YYYY-MM) for transaction</td></tr>\n",
    "    <tr><td>year</td><td>year (YYYY) for transaction</td></tr>\n",
    "    <tr><td>town</td><td>town for the resale flat</td></tr>\n",
    "    <tr><td>flat_type</td><td>flat type for the resale flat</td></tr>\n",
    "    <tr><td>block</td><td>block for the resale flat</td></tr>\n",
    "    <tr><td>street_name</td><td>street for the resale flat</td></tr>\n",
    "    <tr><td>storey_range</td><td>storey range for the resale flat</td></tr>\n",
    "    <tr><td>floor_area_sqm</td><td>floor area in square meter</td></tr>\n",
    "    <tr><td>flat_model</td><td>model of resale flat</td></tr>\n",
    "    <tr><td>lease_commence_date</td><td>year of lease commencement</td></tr>\n",
    "    <tr><td>resale_price</td><td>price of the resale flat</td></tr>\n",
    "</table>"
   ]
  },
  {
   "cell_type": "markdown",
   "metadata": {
    "deletable": false,
    "id": "4Zk5YNN8ZTfJ",
    "tags": [],
    "trust": true
   },
   "source": [
    "---\n",
    "⚠️**Notebook Instruction:**\n",
    "- This is an open-book test. You may refer to previous notes or internet sources at any point during the test.\n",
    "- You are forbidden to share or discuss any questions/solutions with other students.\n",
    "- If you need to seek for any clarifications, you may privately message the trainers.\n",
    "\n",
    "\n",
    "- Feel free to insert additional cell(s) as you need.\n",
    "- You may import any packages that you need.\n",
    "- You may create additional variables, columns, or object in this notebook to derive at your solution.\n",
    "- If not specifed, you may use any name for your variable or column.\n",
    "- If any expected output is provided, you are ought to remove any additional columns that is not included in the expected output. Failure in doing so, will result in reduction of marks.\n",
    "\n",
    "\n",
    "- ⬇️ Enter your name as a string in cell below."
   ]
  },
  {
   "cell_type": "code",
   "execution_count": 1,
   "metadata": {
    "id": "RcDEZJkkZTfK"
   },
   "outputs": [],
   "source": [
    "Name = \"Isaac Sadikin\""
   ]
  },
  {
   "cell_type": "markdown",
   "metadata": {
    "id": "LaJVeO_uEXYd"
   },
   "source": [
    "# Downloading Required Data (No need to change anything)"
   ]
  },
  {
   "cell_type": "code",
   "execution_count": 2,
   "metadata": {
    "id": "jUohqenCEPxu"
   },
   "outputs": [],
   "source": [
    "import requests\n",
    "\n",
    "# This is a pre-populated code cell.\n",
    "filename = 'data-week-10.zip'\n",
    "url = f'https://d17lzt44idt8rf.cloudfront.net/{filename}'\n",
    "response = requests.get(url)\n",
    "\n",
    "# If the request was successful\n",
    "if response.status_code == 200:\n",
    "  # Write the content to a file\n",
    "  with open(filename, 'wb') as f:\n",
    "      f.write(response.content)\n"
   ]
  },
  {
   "cell_type": "code",
   "execution_count": 3,
   "metadata": {
    "colab": {
     "base_uri": "https://localhost:8080/"
    },
    "id": "YLWyTYQZF7IZ",
    "outputId": "5c307202-a812-4b3f-d15d-4ed770920632"
   },
   "outputs": [
    {
     "name": "stdout",
     "output_type": "stream",
     "text": [
      "Archive:  data-week-10.zip\n",
      "  inflating: hdb_resale.csv          \n",
      "  inflating: hdbdf_q6.csv            \n",
      "  inflating: psmbyregionyeardf.csv   \n",
      "  inflating: regions.csv             \n"
     ]
    }
   ],
   "source": [
    "!unzip data-week-10.zip"
   ]
  },
  {
   "cell_type": "markdown",
   "metadata": {
    "deletable": false,
    "editable": false,
    "id": "A4uPByClZTfL",
    "tags": [],
    "trust": true
   },
   "source": [
    "# Import Packages"
   ]
  },
  {
   "cell_type": "markdown",
   "metadata": {
    "deletable": false,
    "editable": false,
    "id": "LpsR5VyVZTfL",
    "tags": [],
    "trust": true
   },
   "source": [
    "> Cell below is for you to write the codes for importing the packages that you need to use in this notebook.\\\n",
    "> You can also import the package(s) elsewhere within this notebook and will not be penalized for that.\n"
   ]
  },
  {
   "cell_type": "code",
   "execution_count": 4,
   "metadata": {
    "id": "b7iSVLk-ZTfL"
   },
   "outputs": [],
   "source": [
    "import pandas as pd"
   ]
  },
  {
   "cell_type": "markdown",
   "metadata": {
    "deletable": false,
    "editable": false,
    "id": "wHgmbYW8ZTfL",
    "tags": [],
    "trust": true
   },
   "source": [
    "# Question 1 - Importing and Checking the Data\n",
    "You decided to import the data into Pandas and do some exploration."
   ]
  },
  {
   "cell_type": "markdown",
   "metadata": {
    "id": "yuXuEA-CZTfM"
   },
   "source": [
    "> **[ Question 1a ]** Read in **hdb_resale.csv** as a dataframe and store it in a variable called **hdbdf**. <br/>"
   ]
  },
  {
   "cell_type": "code",
   "execution_count": 5,
   "metadata": {
    "id": "1JP9k-E9ZTfM"
   },
   "outputs": [],
   "source": [
    "hdbdf = pd.read_csv(\"hdb_resale.csv\")"
   ]
  },
  {
   "cell_type": "markdown",
   "metadata": {
    "id": "IHM2kFYWZTfM"
   },
   "source": [
    "> **[ Question 1b ]** Check if there are any missing values in all of the columns.<br/>\n"
   ]
  },
  {
   "cell_type": "code",
   "execution_count": 6,
   "metadata": {
    "id": "6scoREKGZTfN"
   },
   "outputs": [
    {
     "name": "stdout",
     "output_type": "stream",
     "text": [
      "Tranc_YearMonth        0\n",
      "year                   0\n",
      "town                   0\n",
      "flat_type              0\n",
      "block                  0\n",
      "street_name            0\n",
      "storey_range           0\n",
      "floor_area_sqm         0\n",
      "flat_model             0\n",
      "lease_commence_date    0\n",
      "resale_price           0\n",
      "dtype: int64\n"
     ]
    }
   ],
   "source": [
    "# Check for missing values in each column\n",
    "missing_values = hdbdf.isnull().sum()\n",
    "\n",
    "# Display columns with missing values\n",
    "print(missing_values)"
   ]
  },
  {
   "cell_type": "markdown",
   "metadata": {
    "id": "ZWmYUI70ZTfN"
   },
   "source": [
    "> **[Question 1c]** Display the top 10 rows of the dataframe."
   ]
  },
  {
   "cell_type": "code",
   "execution_count": 7,
   "metadata": {
    "id": "FyuXvKUwZTfN"
   },
   "outputs": [
    {
     "name": "stdout",
     "output_type": "stream",
     "text": [
      "  Tranc_YearMonth  year        town flat_type block        street_name  \\\n",
      "0         2015-01  2015  ANG MO KIO    3 ROOM   174   ANG MO KIO AVE 4   \n",
      "1         2015-01  2015  ANG MO KIO    3 ROOM   541  ANG MO KIO AVE 10   \n",
      "2         2015-01  2015  ANG MO KIO    3 ROOM   163   ANG MO KIO AVE 4   \n",
      "3         2015-01  2015  ANG MO KIO    3 ROOM   446  ANG MO KIO AVE 10   \n",
      "4         2015-01  2015  ANG MO KIO    3 ROOM   557  ANG MO KIO AVE 10   \n",
      "5         2015-01  2015  ANG MO KIO    3 ROOM   603   ANG MO KIO AVE 5   \n",
      "6         2015-01  2015  ANG MO KIO    3 ROOM   709   ANG MO KIO AVE 8   \n",
      "7         2015-01  2015  ANG MO KIO    3 ROOM   333   ANG MO KIO AVE 1   \n",
      "8         2015-01  2015  ANG MO KIO    3 ROOM   109   ANG MO KIO AVE 4   \n",
      "9         2015-01  2015  ANG MO KIO    3 ROOM   564   ANG MO KIO AVE 3   \n",
      "\n",
      "  storey_range  floor_area_sqm      flat_model  lease_commence_date  \\\n",
      "0     07 TO 09            60.0        Improved                 1986   \n",
      "1     01 TO 03            68.0  New Generation                 1981   \n",
      "2     01 TO 03            69.0  New Generation                 1980   \n",
      "3     01 TO 03            68.0  New Generation                 1979   \n",
      "4     07 TO 09            68.0  New Generation                 1980   \n",
      "5     07 TO 09            67.0  New Generation                 1980   \n",
      "6     01 TO 03            68.0  New Generation                 1980   \n",
      "7     01 TO 03            68.0  New Generation                 1981   \n",
      "8     01 TO 03            67.0  New Generation                 1978   \n",
      "9     13 TO 15            68.0  New Generation                 1985   \n",
      "\n",
      "   resale_price  \n",
      "0      255000.0  \n",
      "1      275000.0  \n",
      "2      285000.0  \n",
      "3      290000.0  \n",
      "4      290000.0  \n",
      "5      290000.0  \n",
      "6      290000.0  \n",
      "7      293000.0  \n",
      "8      300000.0  \n",
      "9      307500.0  \n"
     ]
    }
   ],
   "source": [
    "# Display top 10 rows of the dataframe\n",
    "top_10_rows = hdbdf.head(10)\n",
    "print(top_10_rows)"
   ]
  },
  {
   "cell_type": "markdown",
   "metadata": {
    "deletable": false,
    "editable": false,
    "id": "RjXBvUzlZTfN",
    "tags": [],
    "trust": true
   },
   "source": [
    "# Question 2 - Accessing and Filtering DataFrame\n",
    "You decided to do further exploration on the crucial fields in the dataset."
   ]
  },
  {
   "cell_type": "markdown",
   "metadata": {
    "deletable": false,
    "id": "sLVvakU5ZTfN",
    "tags": [],
    "trust": true
   },
   "source": [
    "> **[Question 2a]**  Find out how many unique values are there in the **town** column. Your code should show  **26** as the output."
   ]
  },
  {
   "cell_type": "code",
   "execution_count": 8,
   "metadata": {
    "id": "ZW3f9L84ZTfO"
   },
   "outputs": [
    {
     "name": "stdout",
     "output_type": "stream",
     "text": [
      "26\n"
     ]
    }
   ],
   "source": [
    "# Count the number of unique values in the \"town\" column\n",
    "unique_towns = hdbdf[\"town\"].nunique()\n",
    "\n",
    "# Display the number of unique values\n",
    "print(unique_towns)"
   ]
  },
  {
   "cell_type": "markdown",
   "metadata": {
    "deletable": false,
    "id": "mu8Z370EZTfO",
    "tags": [],
    "trust": true
   },
   "source": [
    "> **[Question 2b]** Select all the records that are \"3 ROOM\" and also \"Model A\". \\\n",
    "> No need to assign the output to any variable, just show the filtered dataframe on the notebook.\\\n",
    "> Your output should looks this:\n",
    ">> ![](https://i.imgur.com/wUpOODn.png)"
   ]
  },
  {
   "cell_type": "code",
   "execution_count": 9,
   "metadata": {
    "id": "fXNm3-SnZTfO"
   },
   "outputs": [
    {
     "data": {
      "text/html": [
       "<div>\n",
       "<style scoped>\n",
       "    .dataframe tbody tr th:only-of-type {\n",
       "        vertical-align: middle;\n",
       "    }\n",
       "\n",
       "    .dataframe tbody tr th {\n",
       "        vertical-align: top;\n",
       "    }\n",
       "\n",
       "    .dataframe thead th {\n",
       "        text-align: right;\n",
       "    }\n",
       "</style>\n",
       "<table border=\"1\" class=\"dataframe\">\n",
       "  <thead>\n",
       "    <tr style=\"text-align: right;\">\n",
       "      <th></th>\n",
       "      <th>Tranc_YearMonth</th>\n",
       "      <th>year</th>\n",
       "      <th>town</th>\n",
       "      <th>flat_type</th>\n",
       "      <th>block</th>\n",
       "      <th>street_name</th>\n",
       "      <th>storey_range</th>\n",
       "      <th>floor_area_sqm</th>\n",
       "      <th>flat_model</th>\n",
       "      <th>lease_commence_date</th>\n",
       "      <th>resale_price</th>\n",
       "    </tr>\n",
       "  </thead>\n",
       "  <tbody>\n",
       "    <tr>\n",
       "      <th>102</th>\n",
       "      <td>2015-01</td>\n",
       "      <td>2015</td>\n",
       "      <td>BEDOK</td>\n",
       "      <td>3 ROOM</td>\n",
       "      <td>221B</td>\n",
       "      <td>BEDOK CTRL</td>\n",
       "      <td>04 TO 06</td>\n",
       "      <td>69.0</td>\n",
       "      <td>Model A</td>\n",
       "      <td>2010</td>\n",
       "      <td>458000.0</td>\n",
       "    </tr>\n",
       "    <tr>\n",
       "      <th>103</th>\n",
       "      <td>2015-01</td>\n",
       "      <td>2015</td>\n",
       "      <td>BEDOK</td>\n",
       "      <td>3 ROOM</td>\n",
       "      <td>219A</td>\n",
       "      <td>BEDOK CTRL</td>\n",
       "      <td>16 TO 18</td>\n",
       "      <td>69.0</td>\n",
       "      <td>Model A</td>\n",
       "      <td>2010</td>\n",
       "      <td>500000.0</td>\n",
       "    </tr>\n",
       "    <tr>\n",
       "      <th>185</th>\n",
       "      <td>2015-01</td>\n",
       "      <td>2015</td>\n",
       "      <td>BUKIT BATOK</td>\n",
       "      <td>3 ROOM</td>\n",
       "      <td>414</td>\n",
       "      <td>BT BATOK WEST AVE 4</td>\n",
       "      <td>07 TO 09</td>\n",
       "      <td>73.0</td>\n",
       "      <td>Model A</td>\n",
       "      <td>1987</td>\n",
       "      <td>285000.0</td>\n",
       "    </tr>\n",
       "    <tr>\n",
       "      <th>192</th>\n",
       "      <td>2015-01</td>\n",
       "      <td>2015</td>\n",
       "      <td>BUKIT BATOK</td>\n",
       "      <td>3 ROOM</td>\n",
       "      <td>540</td>\n",
       "      <td>BT BATOK ST 52</td>\n",
       "      <td>10 TO 12</td>\n",
       "      <td>73.0</td>\n",
       "      <td>Model A</td>\n",
       "      <td>1987</td>\n",
       "      <td>298000.0</td>\n",
       "    </tr>\n",
       "    <tr>\n",
       "      <th>194</th>\n",
       "      <td>2015-01</td>\n",
       "      <td>2015</td>\n",
       "      <td>BUKIT BATOK</td>\n",
       "      <td>3 ROOM</td>\n",
       "      <td>249</td>\n",
       "      <td>BT BATOK EAST AVE 5</td>\n",
       "      <td>07 TO 09</td>\n",
       "      <td>73.0</td>\n",
       "      <td>Model A</td>\n",
       "      <td>1985</td>\n",
       "      <td>300000.0</td>\n",
       "    </tr>\n",
       "    <tr>\n",
       "      <th>...</th>\n",
       "      <td>...</td>\n",
       "      <td>...</td>\n",
       "      <td>...</td>\n",
       "      <td>...</td>\n",
       "      <td>...</td>\n",
       "      <td>...</td>\n",
       "      <td>...</td>\n",
       "      <td>...</td>\n",
       "      <td>...</td>\n",
       "      <td>...</td>\n",
       "      <td>...</td>\n",
       "    </tr>\n",
       "    <tr>\n",
       "      <th>185763</th>\n",
       "      <td>2021-04</td>\n",
       "      <td>2021</td>\n",
       "      <td>SENGKANG</td>\n",
       "      <td>3 ROOM</td>\n",
       "      <td>473A</td>\n",
       "      <td>FERNVALE ST</td>\n",
       "      <td>04 TO 06</td>\n",
       "      <td>68.0</td>\n",
       "      <td>Model A</td>\n",
       "      <td>2016</td>\n",
       "      <td>360988.0</td>\n",
       "    </tr>\n",
       "    <tr>\n",
       "      <th>185764</th>\n",
       "      <td>2021-04</td>\n",
       "      <td>2021</td>\n",
       "      <td>SENGKANG</td>\n",
       "      <td>3 ROOM</td>\n",
       "      <td>164B</td>\n",
       "      <td>RIVERVALE CRES</td>\n",
       "      <td>04 TO 06</td>\n",
       "      <td>68.0</td>\n",
       "      <td>Model A</td>\n",
       "      <td>2017</td>\n",
       "      <td>340000.0</td>\n",
       "    </tr>\n",
       "    <tr>\n",
       "      <th>185816</th>\n",
       "      <td>2021-04</td>\n",
       "      <td>2021</td>\n",
       "      <td>TOA PAYOH</td>\n",
       "      <td>3 ROOM</td>\n",
       "      <td>9</td>\n",
       "      <td>JOO SENG RD</td>\n",
       "      <td>13 TO 15</td>\n",
       "      <td>68.0</td>\n",
       "      <td>Model A</td>\n",
       "      <td>2017</td>\n",
       "      <td>520000.0</td>\n",
       "    </tr>\n",
       "    <tr>\n",
       "      <th>185817</th>\n",
       "      <td>2021-04</td>\n",
       "      <td>2021</td>\n",
       "      <td>TOA PAYOH</td>\n",
       "      <td>3 ROOM</td>\n",
       "      <td>7</td>\n",
       "      <td>UPP ALJUNIED LANE</td>\n",
       "      <td>16 TO 18</td>\n",
       "      <td>68.0</td>\n",
       "      <td>Model A</td>\n",
       "      <td>2017</td>\n",
       "      <td>495000.0</td>\n",
       "    </tr>\n",
       "    <tr>\n",
       "      <th>185820</th>\n",
       "      <td>2021-04</td>\n",
       "      <td>2021</td>\n",
       "      <td>WOODLANDS</td>\n",
       "      <td>3 ROOM</td>\n",
       "      <td>302A</td>\n",
       "      <td>WOODLANDS ST 31</td>\n",
       "      <td>04 TO 06</td>\n",
       "      <td>67.0</td>\n",
       "      <td>Model A</td>\n",
       "      <td>2016</td>\n",
       "      <td>352000.0</td>\n",
       "    </tr>\n",
       "  </tbody>\n",
       "</table>\n",
       "<p>10478 rows × 11 columns</p>\n",
       "</div>"
      ],
      "text/plain": [
       "       Tranc_YearMonth  year         town flat_type block  \\\n",
       "102            2015-01  2015        BEDOK    3 ROOM  221B   \n",
       "103            2015-01  2015        BEDOK    3 ROOM  219A   \n",
       "185            2015-01  2015  BUKIT BATOK    3 ROOM   414   \n",
       "192            2015-01  2015  BUKIT BATOK    3 ROOM   540   \n",
       "194            2015-01  2015  BUKIT BATOK    3 ROOM   249   \n",
       "...                ...   ...          ...       ...   ...   \n",
       "185763         2021-04  2021     SENGKANG    3 ROOM  473A   \n",
       "185764         2021-04  2021     SENGKANG    3 ROOM  164B   \n",
       "185816         2021-04  2021    TOA PAYOH    3 ROOM     9   \n",
       "185817         2021-04  2021    TOA PAYOH    3 ROOM     7   \n",
       "185820         2021-04  2021    WOODLANDS    3 ROOM  302A   \n",
       "\n",
       "                street_name storey_range  floor_area_sqm flat_model  \\\n",
       "102              BEDOK CTRL     04 TO 06            69.0    Model A   \n",
       "103              BEDOK CTRL     16 TO 18            69.0    Model A   \n",
       "185     BT BATOK WEST AVE 4     07 TO 09            73.0    Model A   \n",
       "192          BT BATOK ST 52     10 TO 12            73.0    Model A   \n",
       "194     BT BATOK EAST AVE 5     07 TO 09            73.0    Model A   \n",
       "...                     ...          ...             ...        ...   \n",
       "185763          FERNVALE ST     04 TO 06            68.0    Model A   \n",
       "185764       RIVERVALE CRES     04 TO 06            68.0    Model A   \n",
       "185816          JOO SENG RD     13 TO 15            68.0    Model A   \n",
       "185817    UPP ALJUNIED LANE     16 TO 18            68.0    Model A   \n",
       "185820      WOODLANDS ST 31     04 TO 06            67.0    Model A   \n",
       "\n",
       "        lease_commence_date  resale_price  \n",
       "102                    2010      458000.0  \n",
       "103                    2010      500000.0  \n",
       "185                    1987      285000.0  \n",
       "192                    1987      298000.0  \n",
       "194                    1985      300000.0  \n",
       "...                     ...           ...  \n",
       "185763                 2016      360988.0  \n",
       "185764                 2017      340000.0  \n",
       "185816                 2017      520000.0  \n",
       "185817                 2017      495000.0  \n",
       "185820                 2016      352000.0  \n",
       "\n",
       "[10478 rows x 11 columns]"
      ]
     },
     "execution_count": 9,
     "metadata": {},
     "output_type": "execute_result"
    }
   ],
   "source": [
    "# Filter the dataframe based on the conditions\n",
    "filtered_df = hdbdf[(hdbdf[\"flat_type\"] == \"3 ROOM\") & (hdbdf[\"flat_model\"] == \"Model A\")]\n",
    "\n",
    "# Display the filtered dataframe\n",
    "filtered_df"
   ]
  },
  {
   "cell_type": "markdown",
   "metadata": {
    "deletable": false,
    "id": "hXT-f1mZZTfO",
    "tags": [],
    "trust": true
   },
   "source": [
    "> **[Question 2c]** Find out the minimum, average, and maximum **floor_area_sqm** and print the following exact statements:\n",
    ">> Minimum floor area = 31.0 squared meters\\\n",
    ">> Average floor area = 97.2 squared meters\\\n",
    ">> Maximum floor area = 280.0 squared meters"
   ]
  },
  {
   "cell_type": "code",
   "execution_count": 10,
   "metadata": {
    "id": "oxeCjdNdZTfO"
   },
   "outputs": [
    {
     "name": "stdout",
     "output_type": "stream",
     "text": [
      "Minimum floor area = 31.0 squared meters\n",
      "Average floor area = 97.1825916286675 squared meters\n",
      "Maximum floor area = 280.0 squared meters\n"
     ]
    }
   ],
   "source": [
    "# Calculate the minimum, average, and maximum floor_area_sqm\n",
    "min_area = hdbdf[\"floor_area_sqm\"].min()\n",
    "avg_area = hdbdf[\"floor_area_sqm\"].mean()\n",
    "max_area = hdbdf[\"floor_area_sqm\"].max()\n",
    "\n",
    "# Print the statements\n",
    "print(f\"Minimum floor area = {min_area} squared meters\")\n",
    "print(f\"Average floor area = {avg_area} squared meters\")\n",
    "print(f\"Maximum floor area = {max_area} squared meters\")"
   ]
  },
  {
   "cell_type": "markdown",
   "metadata": {
    "deletable": false,
    "id": "kWr_g5nwZTfO",
    "tags": [],
    "trust": true
   },
   "source": [
    "> **[Question 2d]** Display a sorted dataframe, to have the records ordered from the highest **resale_price** to the lowest **resale_price**. \\\n",
    "> No need to assign the sorted dataframe to any variable, just display the output on the notebook."
   ]
  },
  {
   "cell_type": "code",
   "execution_count": 13,
   "metadata": {
    "id": "6idkpDdWZTfP"
   },
   "outputs": [
    {
     "data": {
      "text/html": [
       "<div>\n",
       "<style scoped>\n",
       "    .dataframe tbody tr th:only-of-type {\n",
       "        vertical-align: middle;\n",
       "    }\n",
       "\n",
       "    .dataframe tbody tr th {\n",
       "        vertical-align: top;\n",
       "    }\n",
       "\n",
       "    .dataframe thead th {\n",
       "        text-align: right;\n",
       "    }\n",
       "</style>\n",
       "<table border=\"1\" class=\"dataframe\">\n",
       "  <thead>\n",
       "    <tr style=\"text-align: right;\">\n",
       "      <th></th>\n",
       "      <th>Tranc_YearMonth</th>\n",
       "      <th>year</th>\n",
       "      <th>town</th>\n",
       "      <th>flat_type</th>\n",
       "      <th>block</th>\n",
       "      <th>street_name</th>\n",
       "      <th>storey_range</th>\n",
       "      <th>floor_area_sqm</th>\n",
       "      <th>flat_model</th>\n",
       "      <th>lease_commence_date</th>\n",
       "      <th>resale_price</th>\n",
       "    </tr>\n",
       "  </thead>\n",
       "  <tbody>\n",
       "    <tr>\n",
       "      <th>114935</th>\n",
       "      <td>2020-09</td>\n",
       "      <td>2020</td>\n",
       "      <td>CENTRAL AREA</td>\n",
       "      <td>5 ROOM</td>\n",
       "      <td>1B</td>\n",
       "      <td>CANTONMENT RD</td>\n",
       "      <td>43 TO 45</td>\n",
       "      <td>107.0</td>\n",
       "      <td>Type S2</td>\n",
       "      <td>2011</td>\n",
       "      <td>1258000.0</td>\n",
       "    </tr>\n",
       "    <tr>\n",
       "      <th>129659</th>\n",
       "      <td>2021-04</td>\n",
       "      <td>2021</td>\n",
       "      <td>BISHAN</td>\n",
       "      <td>5 ROOM</td>\n",
       "      <td>273B</td>\n",
       "      <td>BISHAN ST 24</td>\n",
       "      <td>31 TO 33</td>\n",
       "      <td>120.0</td>\n",
       "      <td>DBSS</td>\n",
       "      <td>2011</td>\n",
       "      <td>1250000.0</td>\n",
       "    </tr>\n",
       "    <tr>\n",
       "      <th>119417</th>\n",
       "      <td>2020-11</td>\n",
       "      <td>2020</td>\n",
       "      <td>CENTRAL AREA</td>\n",
       "      <td>5 ROOM</td>\n",
       "      <td>1A</td>\n",
       "      <td>CANTONMENT RD</td>\n",
       "      <td>49 TO 51</td>\n",
       "      <td>105.0</td>\n",
       "      <td>Type S2</td>\n",
       "      <td>2011</td>\n",
       "      <td>1248000.0</td>\n",
       "    </tr>\n",
       "    <tr>\n",
       "      <th>105194</th>\n",
       "      <td>2020-03</td>\n",
       "      <td>2020</td>\n",
       "      <td>CENTRAL AREA</td>\n",
       "      <td>5 ROOM</td>\n",
       "      <td>1B</td>\n",
       "      <td>CANTONMENT RD</td>\n",
       "      <td>40 TO 42</td>\n",
       "      <td>107.0</td>\n",
       "      <td>Type S2</td>\n",
       "      <td>2011</td>\n",
       "      <td>1232000.0</td>\n",
       "    </tr>\n",
       "    <tr>\n",
       "      <th>127590</th>\n",
       "      <td>2021-03</td>\n",
       "      <td>2021</td>\n",
       "      <td>BISHAN</td>\n",
       "      <td>5 ROOM</td>\n",
       "      <td>273B</td>\n",
       "      <td>BISHAN ST 24</td>\n",
       "      <td>28 TO 30</td>\n",
       "      <td>120.0</td>\n",
       "      <td>DBSS</td>\n",
       "      <td>2011</td>\n",
       "      <td>1220000.0</td>\n",
       "    </tr>\n",
       "    <tr>\n",
       "      <th>...</th>\n",
       "      <td>...</td>\n",
       "      <td>...</td>\n",
       "      <td>...</td>\n",
       "      <td>...</td>\n",
       "      <td>...</td>\n",
       "      <td>...</td>\n",
       "      <td>...</td>\n",
       "      <td>...</td>\n",
       "      <td>...</td>\n",
       "      <td>...</td>\n",
       "      <td>...</td>\n",
       "    </tr>\n",
       "    <tr>\n",
       "      <th>110484</th>\n",
       "      <td>2020-07</td>\n",
       "      <td>2020</td>\n",
       "      <td>GEYLANG</td>\n",
       "      <td>2 ROOM</td>\n",
       "      <td>72</td>\n",
       "      <td>CIRCUIT RD</td>\n",
       "      <td>10 TO 12</td>\n",
       "      <td>42.0</td>\n",
       "      <td>Standard</td>\n",
       "      <td>1969</td>\n",
       "      <td>160000.0</td>\n",
       "    </tr>\n",
       "    <tr>\n",
       "      <th>103312</th>\n",
       "      <td>2020-02</td>\n",
       "      <td>2020</td>\n",
       "      <td>BUKIT MERAH</td>\n",
       "      <td>1 ROOM</td>\n",
       "      <td>7</td>\n",
       "      <td>TELOK BLANGAH CRES</td>\n",
       "      <td>10 TO 12</td>\n",
       "      <td>31.0</td>\n",
       "      <td>Improved</td>\n",
       "      <td>1975</td>\n",
       "      <td>157000.0</td>\n",
       "    </tr>\n",
       "    <tr>\n",
       "      <th>95866</th>\n",
       "      <td>2019-10</td>\n",
       "      <td>2019</td>\n",
       "      <td>GEYLANG</td>\n",
       "      <td>2 ROOM</td>\n",
       "      <td>68</td>\n",
       "      <td>CIRCUIT RD</td>\n",
       "      <td>04 TO 06</td>\n",
       "      <td>45.0</td>\n",
       "      <td>Standard</td>\n",
       "      <td>1969</td>\n",
       "      <td>150000.0</td>\n",
       "    </tr>\n",
       "    <tr>\n",
       "      <th>102699</th>\n",
       "      <td>2020-01</td>\n",
       "      <td>2020</td>\n",
       "      <td>TOA PAYOH</td>\n",
       "      <td>2 ROOM</td>\n",
       "      <td>52</td>\n",
       "      <td>LOR 6 TOA PAYOH</td>\n",
       "      <td>01 TO 03</td>\n",
       "      <td>43.0</td>\n",
       "      <td>Standard</td>\n",
       "      <td>1983</td>\n",
       "      <td>150000.0</td>\n",
       "    </tr>\n",
       "    <tr>\n",
       "      <th>104450</th>\n",
       "      <td>2020-02</td>\n",
       "      <td>2020</td>\n",
       "      <td>TOA PAYOH</td>\n",
       "      <td>3 ROOM</td>\n",
       "      <td>26</td>\n",
       "      <td>TOA PAYOH EAST</td>\n",
       "      <td>10 TO 12</td>\n",
       "      <td>67.0</td>\n",
       "      <td>Improved</td>\n",
       "      <td>1971</td>\n",
       "      <td>140000.0</td>\n",
       "    </tr>\n",
       "  </tbody>\n",
       "</table>\n",
       "<p>185968 rows × 11 columns</p>\n",
       "</div>"
      ],
      "text/plain": [
       "       Tranc_YearMonth  year          town flat_type block  \\\n",
       "114935         2020-09  2020  CENTRAL AREA    5 ROOM    1B   \n",
       "129659         2021-04  2021        BISHAN    5 ROOM  273B   \n",
       "119417         2020-11  2020  CENTRAL AREA    5 ROOM    1A   \n",
       "105194         2020-03  2020  CENTRAL AREA    5 ROOM    1B   \n",
       "127590         2021-03  2021        BISHAN    5 ROOM  273B   \n",
       "...                ...   ...           ...       ...   ...   \n",
       "110484         2020-07  2020       GEYLANG    2 ROOM    72   \n",
       "103312         2020-02  2020   BUKIT MERAH    1 ROOM     7   \n",
       "95866          2019-10  2019       GEYLANG    2 ROOM    68   \n",
       "102699         2020-01  2020     TOA PAYOH    2 ROOM    52   \n",
       "104450         2020-02  2020     TOA PAYOH    3 ROOM    26   \n",
       "\n",
       "               street_name storey_range  floor_area_sqm flat_model  \\\n",
       "114935       CANTONMENT RD     43 TO 45           107.0    Type S2   \n",
       "129659        BISHAN ST 24     31 TO 33           120.0       DBSS   \n",
       "119417       CANTONMENT RD     49 TO 51           105.0    Type S2   \n",
       "105194       CANTONMENT RD     40 TO 42           107.0    Type S2   \n",
       "127590        BISHAN ST 24     28 TO 30           120.0       DBSS   \n",
       "...                    ...          ...             ...        ...   \n",
       "110484          CIRCUIT RD     10 TO 12            42.0   Standard   \n",
       "103312  TELOK BLANGAH CRES     10 TO 12            31.0   Improved   \n",
       "95866           CIRCUIT RD     04 TO 06            45.0   Standard   \n",
       "102699     LOR 6 TOA PAYOH     01 TO 03            43.0   Standard   \n",
       "104450      TOA PAYOH EAST     10 TO 12            67.0   Improved   \n",
       "\n",
       "        lease_commence_date  resale_price  \n",
       "114935                 2011     1258000.0  \n",
       "129659                 2011     1250000.0  \n",
       "119417                 2011     1248000.0  \n",
       "105194                 2011     1232000.0  \n",
       "127590                 2011     1220000.0  \n",
       "...                     ...           ...  \n",
       "110484                 1969      160000.0  \n",
       "103312                 1975      157000.0  \n",
       "95866                  1969      150000.0  \n",
       "102699                 1983      150000.0  \n",
       "104450                 1971      140000.0  \n",
       "\n",
       "[185968 rows x 11 columns]"
      ]
     },
     "execution_count": 13,
     "metadata": {},
     "output_type": "execute_result"
    }
   ],
   "source": [
    "# Sort the dataframe by resale_price in descending order\n",
    "sorted_df = hdbdf.sort_values(by=\"resale_price\", ascending=False)\n",
    "\n",
    "# Display the sorted dataframe\n",
    "sorted_df"
   ]
  },
  {
   "cell_type": "markdown",
   "metadata": {
    "deletable": false,
    "id": "ZiFFQP0KZTfP",
    "tags": [],
    "trust": true
   },
   "source": [
    "> **[Question 2e]** Display a sorted dataframe, with the following three combined sorting criteria in the exact order:\n",
    "> 1. **year**, with the latest year to the earliest year\n",
    "> 2. **town**, with alphabetical order (A to Z)\n",
    "> 3. **resale_price**, with the highest to the lowest value\n",
    ">\n",
    "> No need to assign the sorted dataframe to any variable, just display the sorted dataframe on the notebook. Your output should look like this:\n",
    ">>![](https://i.imgur.com/pFREclm.png)"
   ]
  },
  {
   "cell_type": "code",
   "execution_count": 14,
   "metadata": {
    "id": "5XilS3RgZTfP"
   },
   "outputs": [
    {
     "data": {
      "text/html": [
       "<div>\n",
       "<style scoped>\n",
       "    .dataframe tbody tr th:only-of-type {\n",
       "        vertical-align: middle;\n",
       "    }\n",
       "\n",
       "    .dataframe tbody tr th {\n",
       "        vertical-align: top;\n",
       "    }\n",
       "\n",
       "    .dataframe thead th {\n",
       "        text-align: right;\n",
       "    }\n",
       "</style>\n",
       "<table border=\"1\" class=\"dataframe\">\n",
       "  <thead>\n",
       "    <tr style=\"text-align: right;\">\n",
       "      <th></th>\n",
       "      <th>Tranc_YearMonth</th>\n",
       "      <th>year</th>\n",
       "      <th>town</th>\n",
       "      <th>flat_type</th>\n",
       "      <th>block</th>\n",
       "      <th>street_name</th>\n",
       "      <th>storey_range</th>\n",
       "      <th>floor_area_sqm</th>\n",
       "      <th>flat_model</th>\n",
       "      <th>lease_commence_date</th>\n",
       "      <th>resale_price</th>\n",
       "    </tr>\n",
       "  </thead>\n",
       "  <tbody>\n",
       "    <tr>\n",
       "      <th>123297</th>\n",
       "      <td>2021-01</td>\n",
       "      <td>2021</td>\n",
       "      <td>ANG MO KIO</td>\n",
       "      <td>EXECUTIVE</td>\n",
       "      <td>556</td>\n",
       "      <td>ANG MO KIO AVE 10</td>\n",
       "      <td>04 TO 06</td>\n",
       "      <td>163.0</td>\n",
       "      <td>Adjoined flat</td>\n",
       "      <td>1980</td>\n",
       "      <td>950000.0</td>\n",
       "    </tr>\n",
       "    <tr>\n",
       "      <th>129518</th>\n",
       "      <td>2021-04</td>\n",
       "      <td>2021</td>\n",
       "      <td>ANG MO KIO</td>\n",
       "      <td>5 ROOM</td>\n",
       "      <td>310B</td>\n",
       "      <td>ANG MO KIO AVE 1</td>\n",
       "      <td>07 TO 09</td>\n",
       "      <td>119.0</td>\n",
       "      <td>Improved</td>\n",
       "      <td>2012</td>\n",
       "      <td>950000.0</td>\n",
       "    </tr>\n",
       "    <tr>\n",
       "      <th>129530</th>\n",
       "      <td>2021-04</td>\n",
       "      <td>2021</td>\n",
       "      <td>ANG MO KIO</td>\n",
       "      <td>5 ROOM</td>\n",
       "      <td>588C</td>\n",
       "      <td>ANG MO KIO ST 52</td>\n",
       "      <td>28 TO 30</td>\n",
       "      <td>112.0</td>\n",
       "      <td>DBSS</td>\n",
       "      <td>2011</td>\n",
       "      <td>935000.0</td>\n",
       "    </tr>\n",
       "    <tr>\n",
       "      <th>127411</th>\n",
       "      <td>2021-03</td>\n",
       "      <td>2021</td>\n",
       "      <td>ANG MO KIO</td>\n",
       "      <td>5 ROOM</td>\n",
       "      <td>310B</td>\n",
       "      <td>ANG MO KIO AVE 1</td>\n",
       "      <td>04 TO 06</td>\n",
       "      <td>119.0</td>\n",
       "      <td>Improved</td>\n",
       "      <td>2012</td>\n",
       "      <td>908000.0</td>\n",
       "    </tr>\n",
       "    <tr>\n",
       "      <th>125527</th>\n",
       "      <td>2021-02</td>\n",
       "      <td>2021</td>\n",
       "      <td>ANG MO KIO</td>\n",
       "      <td>5 ROOM</td>\n",
       "      <td>588A</td>\n",
       "      <td>ANG MO KIO ST 52</td>\n",
       "      <td>16 TO 18</td>\n",
       "      <td>112.0</td>\n",
       "      <td>DBSS</td>\n",
       "      <td>2011</td>\n",
       "      <td>890000.0</td>\n",
       "    </tr>\n",
       "    <tr>\n",
       "      <th>...</th>\n",
       "      <td>...</td>\n",
       "      <td>...</td>\n",
       "      <td>...</td>\n",
       "      <td>...</td>\n",
       "      <td>...</td>\n",
       "      <td>...</td>\n",
       "      <td>...</td>\n",
       "      <td>...</td>\n",
       "      <td>...</td>\n",
       "      <td>...</td>\n",
       "      <td>...</td>\n",
       "    </tr>\n",
       "    <tr>\n",
       "      <th>133311</th>\n",
       "      <td>2012-03</td>\n",
       "      <td>2012</td>\n",
       "      <td>YISHUN</td>\n",
       "      <td>3 ROOM</td>\n",
       "      <td>271</td>\n",
       "      <td>YISHUN ST 22</td>\n",
       "      <td>01 TO 05</td>\n",
       "      <td>64.0</td>\n",
       "      <td>Simplified</td>\n",
       "      <td>1985</td>\n",
       "      <td>278000.0</td>\n",
       "    </tr>\n",
       "    <tr>\n",
       "      <th>144028</th>\n",
       "      <td>2012-08</td>\n",
       "      <td>2012</td>\n",
       "      <td>YISHUN</td>\n",
       "      <td>3 ROOM</td>\n",
       "      <td>165</td>\n",
       "      <td>YISHUN RING RD</td>\n",
       "      <td>01 TO 03</td>\n",
       "      <td>64.0</td>\n",
       "      <td>Simplified</td>\n",
       "      <td>1988</td>\n",
       "      <td>276000.0</td>\n",
       "    </tr>\n",
       "    <tr>\n",
       "      <th>144027</th>\n",
       "      <td>2012-08</td>\n",
       "      <td>2012</td>\n",
       "      <td>YISHUN</td>\n",
       "      <td>3 ROOM</td>\n",
       "      <td>264</td>\n",
       "      <td>YISHUN ST 22</td>\n",
       "      <td>04 TO 06</td>\n",
       "      <td>64.0</td>\n",
       "      <td>Simplified</td>\n",
       "      <td>1986</td>\n",
       "      <td>274000.0</td>\n",
       "    </tr>\n",
       "    <tr>\n",
       "      <th>135483</th>\n",
       "      <td>2012-04</td>\n",
       "      <td>2012</td>\n",
       "      <td>YISHUN</td>\n",
       "      <td>3 ROOM</td>\n",
       "      <td>261</td>\n",
       "      <td>YISHUN ST 22</td>\n",
       "      <td>01 TO 05</td>\n",
       "      <td>64.0</td>\n",
       "      <td>Simplified</td>\n",
       "      <td>1985</td>\n",
       "      <td>270000.0</td>\n",
       "    </tr>\n",
       "    <tr>\n",
       "      <th>147734</th>\n",
       "      <td>2012-10</td>\n",
       "      <td>2012</td>\n",
       "      <td>YISHUN</td>\n",
       "      <td>4 ROOOM</td>\n",
       "      <td>279</td>\n",
       "      <td>YISHUN ST 22</td>\n",
       "      <td>10 TO 12</td>\n",
       "      <td>104.0</td>\n",
       "      <td>Model A</td>\n",
       "      <td>1985</td>\n",
       "      <td>247000.0</td>\n",
       "    </tr>\n",
       "  </tbody>\n",
       "</table>\n",
       "<p>185968 rows × 11 columns</p>\n",
       "</div>"
      ],
      "text/plain": [
       "       Tranc_YearMonth  year        town  flat_type block        street_name  \\\n",
       "123297         2021-01  2021  ANG MO KIO  EXECUTIVE   556  ANG MO KIO AVE 10   \n",
       "129518         2021-04  2021  ANG MO KIO     5 ROOM  310B   ANG MO KIO AVE 1   \n",
       "129530         2021-04  2021  ANG MO KIO     5 ROOM  588C   ANG MO KIO ST 52   \n",
       "127411         2021-03  2021  ANG MO KIO     5 ROOM  310B   ANG MO KIO AVE 1   \n",
       "125527         2021-02  2021  ANG MO KIO     5 ROOM  588A   ANG MO KIO ST 52   \n",
       "...                ...   ...         ...        ...   ...                ...   \n",
       "133311         2012-03  2012      YISHUN     3 ROOM   271       YISHUN ST 22   \n",
       "144028         2012-08  2012      YISHUN     3 ROOM   165     YISHUN RING RD   \n",
       "144027         2012-08  2012      YISHUN     3 ROOM   264       YISHUN ST 22   \n",
       "135483         2012-04  2012      YISHUN     3 ROOM   261       YISHUN ST 22   \n",
       "147734         2012-10  2012      YISHUN    4 ROOOM   279       YISHUN ST 22   \n",
       "\n",
       "       storey_range  floor_area_sqm     flat_model  lease_commence_date  \\\n",
       "123297     04 TO 06           163.0  Adjoined flat                 1980   \n",
       "129518     07 TO 09           119.0       Improved                 2012   \n",
       "129530     28 TO 30           112.0           DBSS                 2011   \n",
       "127411     04 TO 06           119.0       Improved                 2012   \n",
       "125527     16 TO 18           112.0           DBSS                 2011   \n",
       "...             ...             ...            ...                  ...   \n",
       "133311     01 TO 05            64.0     Simplified                 1985   \n",
       "144028     01 TO 03            64.0     Simplified                 1988   \n",
       "144027     04 TO 06            64.0     Simplified                 1986   \n",
       "135483     01 TO 05            64.0     Simplified                 1985   \n",
       "147734     10 TO 12           104.0        Model A                 1985   \n",
       "\n",
       "        resale_price  \n",
       "123297      950000.0  \n",
       "129518      950000.0  \n",
       "129530      935000.0  \n",
       "127411      908000.0  \n",
       "125527      890000.0  \n",
       "...              ...  \n",
       "133311      278000.0  \n",
       "144028      276000.0  \n",
       "144027      274000.0  \n",
       "135483      270000.0  \n",
       "147734      247000.0  \n",
       "\n",
       "[185968 rows x 11 columns]"
      ]
     },
     "execution_count": 14,
     "metadata": {},
     "output_type": "execute_result"
    }
   ],
   "source": [
    "# Sort the dataframe by year, town, and resale_price\n",
    "sorted_df1 = hdbdf.sort_values(by=[\"year\", \"town\", \"resale_price\"], ascending=[False, True, False])\n",
    "\n",
    "# Display the sorted dataframe\n",
    "sorted_df1"
   ]
  },
  {
   "cell_type": "markdown",
   "metadata": {
    "deletable": false,
    "editable": false,
    "id": "t6fkQLWaZTfP",
    "tags": [],
    "trust": true
   },
   "source": [
    "# Question 3 - Modifying Values in DataFrame\n",
    "While you were doing your exploration, your supervisor tells you to focus on last 5 years of data."
   ]
  },
  {
   "cell_type": "markdown",
   "metadata": {
    "deletable": false,
    "id": "eLb5OFO4ZTfQ",
    "tags": [],
    "trust": true
   },
   "source": [
    "> **[ Question 3a ]** Filter **hdbdf** so that it will only contain records from **year** 2017 and onward.\\\n",
    "> The remaining of this notebook will use **hdbdf** with the filtered data."
   ]
  },
  {
   "cell_type": "code",
   "execution_count": 15,
   "metadata": {
    "id": "vYZDw5CGZTfQ"
   },
   "outputs": [],
   "source": [
    "# Filter the dataframe for records from year 2017 and onward\n",
    "filtered_df = hdbdf[hdbdf[\"year\"] >= 2017]\n",
    "\n",
    "# Update hdbdf to use the filtered dataframe\n",
    "hdbdf = filtered_df"
   ]
  },
  {
   "cell_type": "markdown",
   "metadata": {
    "deletable": false,
    "id": "9OIDUursZTfQ",
    "tags": [],
    "trust": true
   },
   "source": [
    "> **[ Question 3b ]** Show the number of records for each of the **year** in your **hdbdf** dataframe.\n",
    "> Your output should look like this:\n",
    ">> ![](https://i.imgur.com/o0IFXi0.png)"
   ]
  },
  {
   "cell_type": "code",
   "execution_count": 16,
   "metadata": {
    "id": "oplL5nZDZTfR",
    "scrolled": true
   },
   "outputs": [
    {
     "name": "stdout",
     "output_type": "stream",
     "text": [
      "2020    23340\n",
      "2019    22186\n",
      "2018    21561\n",
      "2017    20509\n",
      "2021     9020\n",
      "Name: year, dtype: int64\n"
     ]
    }
   ],
   "source": [
    "# Filter the dataframe for records from year 2017 and onward\n",
    "filtered_df = hdbdf[hdbdf[\"year\"] >= 2017]\n",
    "\n",
    "# Show the number of records for each year\n",
    "year_counts = filtered_df[\"year\"].value_counts()\n",
    "\n",
    "# Display the number of records for each year\n",
    "print(year_counts)"
   ]
  },
  {
   "cell_type": "markdown",
   "metadata": {
    "id": "fFOh3OX1DVvM"
   },
   "source": [
    "After filtering your data, you continue to explore and clean data..."
   ]
  },
  {
   "cell_type": "markdown",
   "metadata": {
    "deletable": false,
    "id": "_MTpv2__ZTfR",
    "tags": [],
    "trust": true
   },
   "source": [
    "> **[ Question 3c ]** Check **flat_type** for any typo errors and clean them accordingly. <br/>\n",
    ">💡<b>Hint </b> : There is only **one** category with error.<br/>\n",
    ">💡<b>Hint </b> : Don't worry if you get a **warning message**, starting with \" ... SettingWithCopyWarning:\" in the first line.<br/>"
   ]
  },
  {
   "cell_type": "code",
   "execution_count": 17,
   "metadata": {
    "id": "L6w0jrzPZTfR"
   },
   "outputs": [
    {
     "name": "stdout",
     "output_type": "stream",
     "text": [
      "       Tranc_YearMonth  year        town flat_type block        street_name  \\\n",
      "37059          2017-01  2017  ANG MO KIO    2 ROOM   406  ANG MO KIO AVE 10   \n",
      "37060          2017-01  2017  ANG MO KIO    3 ROOM   108   ANG MO KIO AVE 4   \n",
      "37061          2017-01  2017  ANG MO KIO    3 ROOM   602   ANG MO KIO AVE 5   \n",
      "37062          2017-01  2017  ANG MO KIO    3 ROOM   465  ANG MO KIO AVE 10   \n",
      "37063          2017-01  2017  ANG MO KIO    3 ROOM   601   ANG MO KIO AVE 5   \n",
      "...                ...   ...         ...       ...   ...                ...   \n",
      "185825         2021-04  2021   WOODLANDS    5 ROOM  890A    WOODLANDS DR 50   \n",
      "185826         2021-04  2021   WOODLANDS    5 ROOM  889B    WOODLANDS DR 50   \n",
      "185827         2021-04  2021      YISHUN   4 ROOOM  506C       YISHUN AVE 4   \n",
      "185828         2021-04  2021      YISHUN    5 ROOM  511B       YISHUN ST 51   \n",
      "185829         2021-04  2021      YISHUN    5 ROOM  511A       YISHUN ST 51   \n",
      "\n",
      "       storey_range  floor_area_sqm      flat_model  lease_commence_date  \\\n",
      "37059      10 TO 12            44.0        Improved                 1979   \n",
      "37060      01 TO 03            67.0  New Generation                 1978   \n",
      "37061      01 TO 03            67.0  New Generation                 1980   \n",
      "37062      04 TO 06            68.0  New Generation                 1980   \n",
      "37063      01 TO 03            67.0  New Generation                 1980   \n",
      "...             ...             ...             ...                  ...   \n",
      "185825     01 TO 03           113.0        Improved                 2017   \n",
      "185826     04 TO 06           113.0        Improved                 2017   \n",
      "185827     07 TO 09            93.0         Model A                 2018   \n",
      "185828     13 TO 15           113.0        Improved                 2017   \n",
      "185829     07 TO 09           113.0        Improved                 2017   \n",
      "\n",
      "        resale_price  \n",
      "37059       232000.0  \n",
      "37060       250000.0  \n",
      "37061       262000.0  \n",
      "37062       265000.0  \n",
      "37063       265000.0  \n",
      "...              ...  \n",
      "185825      505000.0  \n",
      "185826      565000.0  \n",
      "185827      460888.0  \n",
      "185828      600000.0  \n",
      "185829      575000.0  \n",
      "\n",
      "[96616 rows x 11 columns]\n"
     ]
    }
   ],
   "source": [
    "# Check for typo errors in flat_type and clean them\n",
    "hdbdf.loc[hdbdf[\"flat_type\"] == \"5ROOM\", \"flat_type\"] = \"5 ROOM\"\n",
    "\n",
    "# Display the updated dataframe\n",
    "print(hdbdf)"
   ]
  },
  {
   "cell_type": "code",
   "execution_count": null,
   "metadata": {
    "id": "ITZZxVCTDVvM"
   },
   "outputs": [],
   "source": []
  },
  {
   "cell_type": "markdown",
   "metadata": {
    "deletable": false,
    "editable": false,
    "id": "KDumnSWnZTfS",
    "tags": [],
    "trust": true
   },
   "source": [
    "# Question 4 - Groupby and Aggregation"
   ]
  },
  {
   "cell_type": "markdown",
   "metadata": {
    "deletable": false,
    "editable": false,
    "id": "uKJUTqUzZTfS",
    "tags": [],
    "trust": true
   },
   "source": [
    "> MYTH: HDB flat prices have been increasing over the years.\n",
    "\n",
    "After all the exploration and cleaning, you start to work on your task."
   ]
  },
  {
   "cell_type": "markdown",
   "metadata": {
    "deletable": false,
    "id": "33CXMFkVZTfS",
    "tags": [],
    "trust": true
   },
   "source": [
    "> **[ Question 4a ]** Find the average of resale price for each year. <br/>\n",
    "> No need to assign the output to any variable, just show the output on the notebook"
   ]
  },
  {
   "cell_type": "code",
   "execution_count": 18,
   "metadata": {
    "id": "4BNperRXZTfS"
   },
   "outputs": [
    {
     "name": "stdout",
     "output_type": "stream",
     "text": [
      "year\n",
      "2017    443888.520571\n",
      "2018    441282.063703\n",
      "2019    432137.912902\n",
      "2020    452243.739911\n",
      "2021    492365.273588\n",
      "Name: resale_price, dtype: float64\n"
     ]
    }
   ],
   "source": [
    "# Calculate the average resale price for each year\n",
    "average_prices = hdbdf.groupby(\"year\")[\"resale_price\"].mean()\n",
    "\n",
    "# Display the average resale price for each year\n",
    "print(average_prices)"
   ]
  },
  {
   "cell_type": "markdown",
   "metadata": {
    "deletable": false,
    "editable": false,
    "id": "gg8FJanmZTfT",
    "tags": [],
    "trust": true
   },
   "source": [
    "Your supervisor advised that you shouldn't use mean resale price as it doesn't take into account the flat size."
   ]
  },
  {
   "cell_type": "markdown",
   "metadata": {
    "deletable": false,
    "id": "_fUeKQ8yZTfT",
    "tags": [],
    "trust": true
   },
   "source": [
    "> **[ Question 4b ]**  Create a new column **price_per_sqm** by dividing **resale_price** with **floor_area_sqm**.\n",
    "<br/> Then, find the average of **price_per_sqm** (resale price per squared meter) for every year instead. No need to assign the output to any variable, just show the output on the notebook. </br>\n",
    "\n",
    ">💡<b>Hint </b> : Don't worry if you get a **warning message**, starting with \" ... SettingWithCopyWarning:\" in the first line of the message.<br/>"
   ]
  },
  {
   "cell_type": "code",
   "execution_count": 19,
   "metadata": {
    "id": "F2R3ui9NZTfT"
   },
   "outputs": [
    {
     "name": "stdout",
     "output_type": "stream",
     "text": [
      "year\n",
      "2017    4578.877692\n",
      "2018    4509.672396\n",
      "2019    4476.800287\n",
      "2020    4669.830753\n",
      "2021    5045.132410\n",
      "Name: price_per_sqm, dtype: float64\n"
     ]
    }
   ],
   "source": [
    "# Create a new column price_per_sqm\n",
    "hdbdf[\"price_per_sqm\"] = hdbdf[\"resale_price\"] / hdbdf[\"floor_area_sqm\"]\n",
    "\n",
    "# Calculate the average price_per_sqm for each year\n",
    "average_price_per_sqm = hdbdf.groupby(\"year\")[\"price_per_sqm\"].mean()\n",
    "\n",
    "# Display the average price_per_sqm for each year\n",
    "print(average_price_per_sqm)"
   ]
  },
  {
   "cell_type": "code",
   "execution_count": null,
   "metadata": {
    "id": "NMY2PNzzZTfT"
   },
   "outputs": [],
   "source": []
  },
  {
   "cell_type": "markdown",
   "metadata": {
    "deletable": false,
    "editable": false,
    "id": "cbvhUB54ZTfT",
    "tags": [],
    "trust": true
   },
   "source": [
    "You presented this result to your director.<br/>\n",
    "He commended you on the use of price_per_sqm instead of resale price for a better analysis.<br/>\n",
    "He suggested to add in regions for a more complete analysis. This is because different regions may have varying prices."
   ]
  },
  {
   "cell_type": "markdown",
   "metadata": {
    "deletable": false,
    "editable": false,
    "id": "ofst-XmNZTfT",
    "tags": [],
    "trust": true
   },
   "source": [
    "# Question 5 - Merge and Join Tables\n",
    "\n",
    "The data engineer has helped to scrap the information you need from https://en.wikipedia.org/wiki/Planning_Areas_of_Singapore, and stored the list of towns and their respective region in a csv file called **regions.csv**"
   ]
  },
  {
   "cell_type": "markdown",
   "metadata": {
    "deletable": false,
    "id": "MYVykJNNZTfT",
    "tags": [],
    "trust": true
   },
   "source": [
    "> **[ Question 5a ]** Read in **regions.csv** as DataFrame and merge it to your main dataset **hdbdf**. Store the merged table in the same **hdbdf** variable.<br/>\n",
    "<br/>\n",
    ">💡 **Hint:** Note that not all the 26 towns from your **hdbdf** are in the CSV file **regions.csv**.<br/>\n",
    ">💡 **Hint:** Town values in both **regions.csv** and your **hdbdf** are in different capitalisations (uppercase and lowercase)."
   ]
  },
  {
   "cell_type": "code",
   "execution_count": 20,
   "metadata": {
    "id": "FKR3NBZ2ZTfU"
   },
   "outputs": [
    {
     "name": "stdout",
     "output_type": "stream",
     "text": [
      "      Tranc_YearMonth  year        town flat_type block        street_name  \\\n",
      "0             2017-01  2017  ang mo kio    2 ROOM   406  ANG MO KIO AVE 10   \n",
      "1             2017-01  2017  ang mo kio    3 ROOM   108   ANG MO KIO AVE 4   \n",
      "2             2017-01  2017  ang mo kio    3 ROOM   602   ANG MO KIO AVE 5   \n",
      "3             2017-01  2017  ang mo kio    3 ROOM   465  ANG MO KIO AVE 10   \n",
      "4             2017-01  2017  ang mo kio    3 ROOM   601   ANG MO KIO AVE 5   \n",
      "...               ...   ...         ...       ...   ...                ...   \n",
      "96611         2021-04  2021   woodlands    5 ROOM  890A    WOODLANDS DR 50   \n",
      "96612         2021-04  2021   woodlands    5 ROOM  889B    WOODLANDS DR 50   \n",
      "96613         2021-04  2021      yishun   4 ROOOM  506C       YISHUN AVE 4   \n",
      "96614         2021-04  2021      yishun    5 ROOM  511B       YISHUN ST 51   \n",
      "96615         2021-04  2021      yishun    5 ROOM  511A       YISHUN ST 51   \n",
      "\n",
      "      storey_range  floor_area_sqm      flat_model  lease_commence_date  \\\n",
      "0         10 TO 12            44.0        Improved                 1979   \n",
      "1         01 TO 03            67.0  New Generation                 1978   \n",
      "2         01 TO 03            67.0  New Generation                 1980   \n",
      "3         04 TO 06            68.0  New Generation                 1980   \n",
      "4         01 TO 03            67.0  New Generation                 1980   \n",
      "...            ...             ...             ...                  ...   \n",
      "96611     01 TO 03           113.0        Improved                 2017   \n",
      "96612     04 TO 06           113.0        Improved                 2017   \n",
      "96613     07 TO 09            93.0         Model A                 2018   \n",
      "96614     13 TO 15           113.0        Improved                 2017   \n",
      "96615     07 TO 09           113.0        Improved                 2017   \n",
      "\n",
      "       resale_price  price_per_sqm      region  \n",
      "0          232000.0    5272.727273  North-East  \n",
      "1          250000.0    3731.343284  North-East  \n",
      "2          262000.0    3910.447761  North-East  \n",
      "3          265000.0    3897.058824  North-East  \n",
      "4          265000.0    3955.223881  North-East  \n",
      "...             ...            ...         ...  \n",
      "96611      505000.0    4469.026549       North  \n",
      "96612      565000.0    5000.000000       North  \n",
      "96613      460888.0    4955.784946       North  \n",
      "96614      600000.0    5309.734513       North  \n",
      "96615      575000.0    5088.495575       North  \n",
      "\n",
      "[96616 rows x 13 columns]\n"
     ]
    }
   ],
   "source": [
    "regions_df = pd.read_csv(\"regions.csv\")\n",
    "\n",
    "# Convert town values to lowercase for both dataframes\n",
    "hdbdf[\"town\"] = hdbdf[\"town\"].str.lower()\n",
    "regions_df[\"town\"] = regions_df[\"town\"].str.lower()\n",
    "\n",
    "# Merge the dataframes based on the \"town\" column\n",
    "hdbdf = pd.merge(hdbdf, regions_df, on=\"town\", how=\"left\")\n",
    "\n",
    "# Display the merged dataframe\n",
    "print(hdbdf)"
   ]
  },
  {
   "cell_type": "code",
   "execution_count": null,
   "metadata": {
    "id": "OEmx--4zZTfU"
   },
   "outputs": [],
   "source": []
  },
  {
   "cell_type": "markdown",
   "metadata": {
    "deletable": false,
    "id": "gjXliYUPZTfU",
    "tags": [],
    "trust": true
   },
   "source": [
    "> **[ Question 5b ]** There are some records with missing values in the \"region\" column.<br/>\n",
    "> 1) To examine more into these missing values, create a new dataframe named **nulldf** which contains only records with missing data in the **region** column. <br/>\n",
    "> 2) Find the unique values of <b>town</b> in **nulldf**.\n",
    ">\n",
    ">💡<b>Hint 1</b> : You may use df['*column*'].**isnull()** https://pandas.pydata.org/docs/reference/api/pandas.Series.isnull.html or other ways to help you to generate nulldf.<br/>\n",
    ">💡<b>Hint 2 </b>: Sometimes (actually most of the times), Google and StackOverflow is your best friend."
   ]
  },
  {
   "cell_type": "code",
   "execution_count": 22,
   "metadata": {
    "id": "PkAH42FPZTfU"
   },
   "outputs": [
    {
     "name": "stdout",
     "output_type": "stream",
     "text": [
      "['central area' 'kallang/whampoa']\n"
     ]
    }
   ],
   "source": [
    "# Create a new dataframe nulldf with records having missing values in the region column\n",
    "nulldf = hdbdf[hdbdf[\"region\"].isnull()]\n",
    "\n",
    "# Find the unique values of town in nulldf\n",
    "unique_towns = nulldf[\"town\"].unique()\n",
    "\n",
    "# Display the unique values of town in nulldf\n",
    "print(unique_towns)"
   ]
  },
  {
   "cell_type": "markdown",
   "metadata": {
    "deletable": false,
    "id": "a22w0J9qZTfU",
    "tags": [],
    "trust": true
   },
   "source": [
    "> **[ Question 5c ]** You have been informed that the records with missing values in the **region** column are belong to the **same region**.<br/>\n",
    "> Fill up the missing values in the **region** column of the **hdbdf** dataframe based on this information.<br/><br/>\n"
   ]
  },
  {
   "cell_type": "code",
   "execution_count": 23,
   "metadata": {
    "id": "xI9s9AMFZTfV"
   },
   "outputs": [
    {
     "name": "stdout",
     "output_type": "stream",
     "text": [
      "      Tranc_YearMonth  year        town flat_type block        street_name  \\\n",
      "0             2017-01  2017  ang mo kio    2 ROOM   406  ANG MO KIO AVE 10   \n",
      "1             2017-01  2017  ang mo kio    3 ROOM   108   ANG MO KIO AVE 4   \n",
      "2             2017-01  2017  ang mo kio    3 ROOM   602   ANG MO KIO AVE 5   \n",
      "3             2017-01  2017  ang mo kio    3 ROOM   465  ANG MO KIO AVE 10   \n",
      "4             2017-01  2017  ang mo kio    3 ROOM   601   ANG MO KIO AVE 5   \n",
      "...               ...   ...         ...       ...   ...                ...   \n",
      "96611         2021-04  2021   woodlands    5 ROOM  890A    WOODLANDS DR 50   \n",
      "96612         2021-04  2021   woodlands    5 ROOM  889B    WOODLANDS DR 50   \n",
      "96613         2021-04  2021      yishun   4 ROOOM  506C       YISHUN AVE 4   \n",
      "96614         2021-04  2021      yishun    5 ROOM  511B       YISHUN ST 51   \n",
      "96615         2021-04  2021      yishun    5 ROOM  511A       YISHUN ST 51   \n",
      "\n",
      "      storey_range  floor_area_sqm      flat_model  lease_commence_date  \\\n",
      "0         10 TO 12            44.0        Improved                 1979   \n",
      "1         01 TO 03            67.0  New Generation                 1978   \n",
      "2         01 TO 03            67.0  New Generation                 1980   \n",
      "3         04 TO 06            68.0  New Generation                 1980   \n",
      "4         01 TO 03            67.0  New Generation                 1980   \n",
      "...            ...             ...             ...                  ...   \n",
      "96611     01 TO 03           113.0        Improved                 2017   \n",
      "96612     04 TO 06           113.0        Improved                 2017   \n",
      "96613     07 TO 09            93.0         Model A                 2018   \n",
      "96614     13 TO 15           113.0        Improved                 2017   \n",
      "96615     07 TO 09           113.0        Improved                 2017   \n",
      "\n",
      "       resale_price  price_per_sqm      region  \n",
      "0          232000.0    5272.727273  North-East  \n",
      "1          250000.0    3731.343284  North-East  \n",
      "2          262000.0    3910.447761  North-East  \n",
      "3          265000.0    3897.058824  North-East  \n",
      "4          265000.0    3955.223881  North-East  \n",
      "...             ...            ...         ...  \n",
      "96611      505000.0    4469.026549       North  \n",
      "96612      565000.0    5000.000000       North  \n",
      "96613      460888.0    4955.784946       North  \n",
      "96614      600000.0    5309.734513       North  \n",
      "96615      575000.0    5088.495575       North  \n",
      "\n",
      "[96616 rows x 13 columns]\n"
     ]
    }
   ],
   "source": [
    "# Fill up the missing values in the region column with a specific region\n",
    "hdbdf[\"region\"].fillna(\"Specific Region\", inplace=True)\n",
    "\n",
    "# Display the updated dataframe\n",
    "print(hdbdf)"
   ]
  },
  {
   "cell_type": "markdown",
   "metadata": {
    "deletable": false,
    "editable": false,
    "id": "bbpHwsHUZTfV",
    "tags": [],
    "trust": true
   },
   "source": [
    "# Question 6 - Groupby multiple columns\n",
    "With the new **region** column, you now have all the data needed to handle your director's suggestion to add in regions into your analysis of the average **price_per_sqm** over years. <br/>"
   ]
  },
  {
   "cell_type": "markdown",
   "metadata": {
    "deletable": false,
    "id": "GUKRxxmMZTfV",
    "tags": [],
    "trust": true
   },
   "source": [
    "> **[ Question 6a ]** Find the average **price_per_sqm** for each **region** and **year**, and store the result into a variable called **psmbyregionyeardf**.<br/>\n",
    "<br/>\n",
    ">💡<b>Hint </b>: if you are unable to solve question 5, you can read in data in **hdbdf_q6.csv** and store the data in the **hdbdf** variable before you continue on question 6."
   ]
  },
  {
   "cell_type": "code",
   "execution_count": 24,
   "metadata": {
    "id": "GJgwFDOmZTfV"
   },
   "outputs": [
    {
     "name": "stdout",
     "output_type": "stream",
     "text": [
      "             region  year  price_per_sqm\n",
      "0           Central  2017    5994.249772\n",
      "1           Central  2018    6019.758459\n",
      "2           Central  2019    5756.457118\n",
      "3           Central  2020    5888.474757\n",
      "4           Central  2021    6297.925538\n",
      "5              East  2017    4433.345711\n",
      "6              East  2018    4414.984528\n",
      "7              East  2019    4433.248145\n",
      "8              East  2020    4594.932519\n",
      "9              East  2021    4883.278453\n",
      "10            North  2017    3737.509673\n",
      "11            North  2018    3627.454360\n",
      "12            North  2019    3768.022205\n",
      "13            North  2020    3909.595354\n",
      "14            North  2021    4281.412830\n",
      "15       North-East  2017    4510.156947\n",
      "16       North-East  2018    4498.681734\n",
      "17       North-East  2019    4561.177684\n",
      "18       North-East  2020    4715.106345\n",
      "19       North-East  2021    4947.307695\n",
      "20  Specific Region  2017    5997.734888\n",
      "21  Specific Region  2018    5964.497441\n",
      "22  Specific Region  2019    6077.213218\n",
      "23  Specific Region  2020    5801.631440\n",
      "24  Specific Region  2021    6185.870419\n",
      "25             West  2017    4091.234506\n",
      "26             West  2018    3993.434201\n",
      "27             West  2019    3960.708361\n",
      "28             West  2020    4256.923288\n",
      "29             West  2021    4593.481741\n"
     ]
    }
   ],
   "source": [
    "# Calculate the average price_per_sqm for each region and year\n",
    "psmbyregionyeardf = hdbdf.groupby([\"region\", \"year\"])[\"price_per_sqm\"].mean().reset_index()\n",
    "\n",
    "# Display the psmbyregionyeardf dataframe\n",
    "print(psmbyregionyeardf)"
   ]
  },
  {
   "cell_type": "markdown",
   "metadata": {
    "deletable": false,
    "id": "hMTyf-ROZTfV",
    "tags": [],
    "trust": true
   },
   "source": [
    "> **[ Question 6b ]** Reset the index of the **psmbyregionyeardf**. <br/>\n",
    "Rename the column  **price_per_sqm** in **psmbyregionyeardf** to become **avg_region_price_per_sqm_by_year**. <br/>"
   ]
  },
  {
   "cell_type": "code",
   "execution_count": 25,
   "metadata": {
    "id": "jygorDLAZTfV"
   },
   "outputs": [
    {
     "name": "stdout",
     "output_type": "stream",
     "text": [
      "             region  year  avg_region_price_per_sqm_by_year\n",
      "0           Central  2017                       5994.249772\n",
      "1           Central  2018                       6019.758459\n",
      "2           Central  2019                       5756.457118\n",
      "3           Central  2020                       5888.474757\n",
      "4           Central  2021                       6297.925538\n",
      "5              East  2017                       4433.345711\n",
      "6              East  2018                       4414.984528\n",
      "7              East  2019                       4433.248145\n",
      "8              East  2020                       4594.932519\n",
      "9              East  2021                       4883.278453\n",
      "10            North  2017                       3737.509673\n",
      "11            North  2018                       3627.454360\n",
      "12            North  2019                       3768.022205\n",
      "13            North  2020                       3909.595354\n",
      "14            North  2021                       4281.412830\n",
      "15       North-East  2017                       4510.156947\n",
      "16       North-East  2018                       4498.681734\n",
      "17       North-East  2019                       4561.177684\n",
      "18       North-East  2020                       4715.106345\n",
      "19       North-East  2021                       4947.307695\n",
      "20  Specific Region  2017                       5997.734888\n",
      "21  Specific Region  2018                       5964.497441\n",
      "22  Specific Region  2019                       6077.213218\n",
      "23  Specific Region  2020                       5801.631440\n",
      "24  Specific Region  2021                       6185.870419\n",
      "25             West  2017                       4091.234506\n",
      "26             West  2018                       3993.434201\n",
      "27             West  2019                       3960.708361\n",
      "28             West  2020                       4256.923288\n",
      "29             West  2021                       4593.481741\n"
     ]
    }
   ],
   "source": [
    "# Reset the index of psmbyregionyeardf\n",
    "psmbyregionyeardf.reset_index(drop=True, inplace=True)\n",
    "\n",
    "# Rename the column \"price_per_sqm\" to \"avg_region_price_per_sqm_by_year\"\n",
    "psmbyregionyeardf.rename(columns={\"price_per_sqm\": \"avg_region_price_per_sqm_by_year\"}, inplace=True)\n",
    "\n",
    "# Display the updated psmbyregionyeardf dataframe\n",
    "print(psmbyregionyeardf)"
   ]
  },
  {
   "cell_type": "code",
   "execution_count": null,
   "metadata": {
    "id": "c_fyc29PZTfW"
   },
   "outputs": [],
   "source": []
  },
  {
   "cell_type": "markdown",
   "metadata": {
    "deletable": false,
    "id": "ZUMWwqofZTfW",
    "tags": [],
    "trust": true
   },
   "source": [
    "> **[ Question 6c ]** Plot a line graph with the **avg_region_price_per_sqm_by_year** (y axis) against **year** (x axis) with 5 lines, each representing a **region**. <br/>\n",
    "\n",
    "> 💡 **Hint** : If you are unable to solve questions 6a and 6b, you can read in data in **psmbyregionyeardf.csv** and store the data in the **psmbyregionyeardf** variable before you continue on question 6c."
   ]
  },
  {
   "cell_type": "code",
   "execution_count": 26,
   "metadata": {
    "id": "Xw7pzEALZTfW"
   },
   "outputs": [
    {
     "data": {
      "image/png": "[encoded data removed]",
      "text/plain": [
       "<Figure size 720x432 with 1 Axes>"
      ]
     },
     "metadata": {
      "needs_background": "light"
     },
     "output_type": "display_data"
    }
   ],
   "source": [
    "import matplotlib.pyplot as plt\n",
    "\n",
    "# Create a line graph\n",
    "plt.figure(figsize=(10, 6))  # Set the figure size\n",
    "\n",
    "# Loop through each region to plot the line\n",
    "for region in psmbyregionyeardf['region'].unique():\n",
    "    region_data = psmbyregionyeardf[psmbyregionyeardf['region'] == region]\n",
    "    plt.plot(region_data['year'], region_data['avg_region_price_per_sqm_by_year'], label=region)\n",
    "\n",
    "# Set the labels and title\n",
    "plt.xlabel('Year')\n",
    "plt.ylabel('Avg Region Price per sqm')\n",
    "plt.title('Average Region Price per sqm by Year')\n",
    "\n",
    "# Add a legend\n",
    "plt.legend()\n",
    "\n",
    "# Display the line graph\n",
    "plt.show()"
   ]
  },
  {
   "cell_type": "markdown",
   "metadata": {
    "deletable": false,
    "editable": false,
    "id": "RnDSPpDGZTfW",
    "tags": [],
    "trust": true
   },
   "source": [
    "# Question 7 - Further Analyses\n",
    "Intrigued by the result, you decided to explore more on the relationship of **avg_region_price_per_sqm_by_year** with the other columns."
   ]
  },
  {
   "cell_type": "markdown",
   "metadata": {
    "deletable": false,
    "id": "K7ciLC9PZTfW",
    "tags": [],
    "trust": true
   },
   "source": [
    "> **[ Question 7a ]** Merge the **psmbyregionyeardf** into your main table **hdbdf**.\n"
   ]
  },
  {
   "cell_type": "code",
   "execution_count": 27,
   "metadata": {
    "id": "IrkN6b1gZTfW"
   },
   "outputs": [
    {
     "name": "stdout",
     "output_type": "stream",
     "text": [
      "      Tranc_YearMonth  year        town flat_type block        street_name  \\\n",
      "0             2017-01  2017  ang mo kio    2 ROOM   406  ANG MO KIO AVE 10   \n",
      "1             2017-01  2017  ang mo kio    3 ROOM   108   ANG MO KIO AVE 4   \n",
      "2             2017-01  2017  ang mo kio    3 ROOM   602   ANG MO KIO AVE 5   \n",
      "3             2017-01  2017  ang mo kio    3 ROOM   465  ANG MO KIO AVE 10   \n",
      "4             2017-01  2017  ang mo kio    3 ROOM   601   ANG MO KIO AVE 5   \n",
      "...               ...   ...         ...       ...   ...                ...   \n",
      "96611         2021-04  2021   woodlands    5 ROOM  890A    WOODLANDS DR 50   \n",
      "96612         2021-04  2021   woodlands    5 ROOM  889B    WOODLANDS DR 50   \n",
      "96613         2021-04  2021      yishun   4 ROOOM  506C       YISHUN AVE 4   \n",
      "96614         2021-04  2021      yishun    5 ROOM  511B       YISHUN ST 51   \n",
      "96615         2021-04  2021      yishun    5 ROOM  511A       YISHUN ST 51   \n",
      "\n",
      "      storey_range  floor_area_sqm      flat_model  lease_commence_date  \\\n",
      "0         10 TO 12            44.0        Improved                 1979   \n",
      "1         01 TO 03            67.0  New Generation                 1978   \n",
      "2         01 TO 03            67.0  New Generation                 1980   \n",
      "3         04 TO 06            68.0  New Generation                 1980   \n",
      "4         01 TO 03            67.0  New Generation                 1980   \n",
      "...            ...             ...             ...                  ...   \n",
      "96611     01 TO 03           113.0        Improved                 2017   \n",
      "96612     04 TO 06           113.0        Improved                 2017   \n",
      "96613     07 TO 09            93.0         Model A                 2018   \n",
      "96614     13 TO 15           113.0        Improved                 2017   \n",
      "96615     07 TO 09           113.0        Improved                 2017   \n",
      "\n",
      "       resale_price  price_per_sqm      region  \\\n",
      "0          232000.0    5272.727273  North-East   \n",
      "1          250000.0    3731.343284  North-East   \n",
      "2          262000.0    3910.447761  North-East   \n",
      "3          265000.0    3897.058824  North-East   \n",
      "4          265000.0    3955.223881  North-East   \n",
      "...             ...            ...         ...   \n",
      "96611      505000.0    4469.026549       North   \n",
      "96612      565000.0    5000.000000       North   \n",
      "96613      460888.0    4955.784946       North   \n",
      "96614      600000.0    5309.734513       North   \n",
      "96615      575000.0    5088.495575       North   \n",
      "\n",
      "       avg_region_price_per_sqm_by_year  \n",
      "0                           4510.156947  \n",
      "1                           4510.156947  \n",
      "2                           4510.156947  \n",
      "3                           4510.156947  \n",
      "4                           4510.156947  \n",
      "...                                 ...  \n",
      "96611                       4281.412830  \n",
      "96612                       4281.412830  \n",
      "96613                       4281.412830  \n",
      "96614                       4281.412830  \n",
      "96615                       4281.412830  \n",
      "\n",
      "[96616 rows x 14 columns]\n"
     ]
    }
   ],
   "source": [
    "# Merge psmbyregionyeardf into hdbdf based on \"region\" and \"year\" columns\n",
    "hdbdf = pd.merge(hdbdf, psmbyregionyeardf, on=[\"region\", \"year\"], how=\"left\")\n",
    "\n",
    "# Display the updated hdbdf dataframe\n",
    "print(hdbdf)"
   ]
  },
  {
   "cell_type": "markdown",
   "metadata": {
    "deletable": false,
    "id": "dK03COE7ZTfX",
    "tags": [],
    "trust": true
   },
   "source": [
    "> **[ Question 7b ]** Create a new column called **price_per_sqm_diff_to_region**, to store the differences between i) **price_per_sqm** of the unit and ii) the average price_per_sqm of the region and year of which the unit belongs to."
   ]
  },
  {
   "cell_type": "code",
   "execution_count": 28,
   "metadata": {
    "id": "TrF2JttFZTfX"
   },
   "outputs": [],
   "source": [
    "hdbdf['price_per_sqm_diff_to_region'] = hdbdf['price_per_sqm'] - hdbdf['avg_region_price_per_sqm_by_year']"
   ]
  },
  {
   "cell_type": "markdown",
   "metadata": {
    "deletable": false,
    "id": "BhEc3o9xZTfX",
    "tags": [],
    "trust": true
   },
   "source": [
    "> **[ Question 7c ]** Display a **histogram** to show the distribution of the differences in prices stored in the **price_per_sqm_diff_to_region** column. \\\n",
    "> Set the number of bins in the histogram to **20**."
   ]
  },
  {
   "cell_type": "code",
   "execution_count": 29,
   "metadata": {
    "id": "YrmotTp1ZTfX"
   },
   "outputs": [
    {
     "data": {
      "image/png": "[encoded data removed]",
      "text/plain": [
       "<Figure size 720x432 with 1 Axes>"
      ]
     },
     "metadata": {
      "needs_background": "light"
     },
     "output_type": "display_data"
    }
   ],
   "source": [
    "# Plot the histogram\n",
    "plt.figure(figsize=(10, 6))  # Set the figure size\n",
    "plt.hist(hdbdf['price_per_sqm_diff_to_region'], bins=20)\n",
    "\n",
    "# Set the labels and title\n",
    "plt.xlabel('Price per sqm Difference')\n",
    "plt.ylabel('Frequency')\n",
    "plt.title('Distribution of Price per sqm Difference to Region')\n",
    "\n",
    "# Display the histogram\n",
    "plt.show()"
   ]
  },
  {
   "cell_type": "markdown",
   "metadata": {
    "deletable": false,
    "id": "gGIlx0C8ZTfY",
    "tags": [],
    "trust": true
   },
   "source": [
    "> **[ Question 7d ]**\n",
    "Create a column **mid_storey** to store the midpoint of the unit's **storey_range**. <br/> Round the result to the nearest integer. <br/> For example, if the unit **storey_range** is \"07 TO 09\", the midpoint is **8**.<br/>\n"
   ]
  },
  {
   "cell_type": "code",
   "execution_count": 30,
   "metadata": {
    "id": "c1tB7eR2ZTfZ"
   },
   "outputs": [],
   "source": [
    "hdbdf['mid_storey'] = hdbdf['storey_range'].apply(lambda x: round((int(x.split(\" TO \")[0]) + int(x.split(\" TO \")[1])) / 2))"
   ]
  },
  {
   "cell_type": "markdown",
   "metadata": {
    "deletable": false,
    "id": "2wHlieTIZTfZ",
    "tags": [],
    "trust": true
   },
   "source": [
    "> **[ Question 7e ]**\n",
    "> Display a **scatter plot** which looks similar to the one given below:\n",
    ">> ![](https://i.imgur.com/tFEfXUM.png)"
   ]
  },
  {
   "cell_type": "code",
   "execution_count": 31,
   "metadata": {
    "id": "gB-Hwx7HZTfa"
   },
   "outputs": [
    {
     "data": {
      "image/png": "[encoded data removed]",
      "text/plain": [
       "<Figure size 720x432 with 1 Axes>"
      ]
     },
     "metadata": {
      "needs_background": "light"
     },
     "output_type": "display_data"
    }
   ],
   "source": [
    "# Plot the scatter plot\n",
    "plt.figure(figsize=(10, 6))  # Set the figure size\n",
    "plt.scatter(hdbdf['mid_storey'], hdbdf['price_per_sqm_diff_to_region'])\n",
    "\n",
    "# Set the labels and title\n",
    "plt.xlabel('Mid Storey')\n",
    "plt.ylabel('Price per sqm Difference to Region')\n",
    "plt.title('Scatter Plot of Mid Storey vs Price per sqm Difference to Region')\n",
    "\n",
    "# Display the scatter plot\n",
    "plt.show()"
   ]
  },
  {
   "cell_type": "markdown",
   "metadata": {
    "deletable": false,
    "id": "6z_zKJBsZTfa",
    "tags": [],
    "trust": true
   },
   "source": [
    "---\n",
    "## END OF CAPSTONE ASSIGNMENT 2\n",
    "\n",
    "- Well done everyone!"
   ]
  },
  {
   "cell_type": "code",
   "execution_count": null,
   "metadata": {
    "id": "oy9a-PrQDVvV"
   },
   "outputs": [],
   "source": []
  }
 ],
 "metadata": {
  "colab": {
   "provenance": []
  },
  "kernelspec": {
   "display_name": "Python 3",
   "language": "python",
   "name": "python3"
  },
  "language_info": {
   "codemirror_mode": {
    "name": "ipython",
    "version": 3
   },
   "file_extension": ".py",
   "mimetype": "text/x-python",
   "name": "python",
   "nbconvert_exporter": "python",
   "pygments_lexer": "ipython3",
   "version": "3.8.3"
  }
 },
 "nbformat": 4,
 "nbformat_minor": 1
}
