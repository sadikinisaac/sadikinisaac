{
 "cells": [
  {
   "cell_type": "markdown",
   "metadata": {
    "id": "NpPlK3f9VIJg"
   },
   "source": [
    "# Pandas: \n",
    "### - Calling APIs using Python"
   ]
  },
  {
   "cell_type": "markdown",
   "metadata": {
    "id": "gN2RFGn3VIJi"
   },
   "source": [
    "<strong> <h2> Run The Following Code </h2> </strong>\n",
    "\n",
    "Hit SHIFT + ENTER when your cusor is inside the cell of code.<br/>"
   ]
  },
  {
   "cell_type": "markdown",
   "metadata": {
    "id": "3fskFP6UVIJo"
   },
   "source": [
    "> Import the packages"
   ]
  },
  {
   "cell_type": "code",
   "execution_count": 1,
   "metadata": {
    "id": "GChe2i8UVIJo"
   },
   "outputs": [],
   "source": [
    "import pandas as pd\n",
    "import requests"
   ]
  },
  {
   "cell_type": "markdown",
   "metadata": {
    "id": "bR2va1CDzQP6"
   },
   "source": [
    "## Calling API Example 1"
   ]
  },
  {
   "cell_type": "markdown",
   "metadata": {
    "id": "EE7Jcya9zQP6"
   },
   "source": [
    "> 1. Open this url in your browser: https://data.gov.sg/dataset/list-of-government-markets-hawker-centres\n",
    "> 2. Click on the \"Data API\" button on top rigth corner to see resource_id for this dataset\n",
    "> 3. Use **requests** package to call this API and get all first 5 rows of data"
   ]
  },
  {
   "cell_type": "code",
   "execution_count": 2,
   "metadata": {
    "id": "qSNZW0B-zQP6"
   },
   "outputs": [],
   "source": [
    "# Option A - Manually construct the request URL\n",
    "url_full = 'https://data.gov.sg/api/action/datastore_search?resource_id=8f6bba57-19fc-4f36-8dcf-c0bda382364d&limit=5'\n",
    "\n",
    "response = requests.get(url_full)"
   ]
  },
  {
   "cell_type": "code",
   "execution_count": 3,
   "metadata": {
    "id": "BHJ6EkBgzQP6"
   },
   "outputs": [],
   "source": [
    "# Option B - (Recommneded) passing a dictionary to .get() method in requests to construct the request url\n",
    "url_base = 'https://data.gov.sg/api/action/datastore_search'\n",
    "\n",
    "parameters = {\n",
    "    'resource_id' : '8f6bba57-19fc-4f36-8dcf-c0bda382364d',\n",
    "    'limit': '5'\n",
    "}\n",
    "response = requests.get(url_base, params=parameters)"
   ]
  },
  {
   "cell_type": "code",
   "execution_count": 4,
   "metadata": {
    "id": "fKog92OqzQP6"
   },
   "outputs": [
    {
     "data": {
      "text/plain": [
       "'https://data.gov.sg/api/action/datastore_search?resource_id=8f6bba57-19fc-4f36-8dcf-c0bda382364d&limit=5'"
      ]
     },
     "execution_count": 4,
     "metadata": {},
     "output_type": "execute_result"
    }
   ],
   "source": [
    "# Check the url that sent to the API server\n",
    "response.url"
   ]
  },
  {
   "cell_type": "code",
   "execution_count": 5,
   "metadata": {
    "id": "WSZxtMvKzQP6"
   },
   "outputs": [
    {
     "data": {
      "text/plain": [
       "200"
      ]
     },
     "execution_count": 5,
     "metadata": {},
     "output_type": "execute_result"
    }
   ],
   "source": [
    "# Check the status of the request\n",
    "response.status_code"
   ]
  },
  {
   "cell_type": "code",
   "execution_count": 6,
   "metadata": {
    "id": "DMZ3GBldzQP6"
   },
   "outputs": [
    {
     "data": {
      "text/plain": [
       "{'help': 'https://data.gov.sg/api/3/action/help_show?name=datastore_search',\n",
       " 'success': True,\n",
       " 'result': {'resource_id': '8f6bba57-19fc-4f36-8dcf-c0bda382364d',\n",
       "  'fields': [{'type': 'int4', 'id': '_id'},\n",
       "   {'type': 'text', 'id': 'name_of_centre'},\n",
       "   {'type': 'text', 'id': 'location_of_centre'},\n",
       "   {'type': 'text', 'id': 'type_of_centre'},\n",
       "   {'type': 'text', 'id': 'owner'},\n",
       "   {'type': 'numeric', 'id': 'no_of_stalls'},\n",
       "   {'type': 'numeric', 'id': 'no_of_cooked_food_stalls'},\n",
       "   {'type': 'numeric', 'id': 'no_of_mkt_produce_stalls'}],\n",
       "  'records': [{'location_of_centre': '2, Adam Road, S(289876)',\n",
       "    'no_of_cooked_food_stalls': '32',\n",
       "    'no_of_mkt_produce_stalls': '0',\n",
       "    'name_of_centre': 'Adam Road Food Centre',\n",
       "    'type_of_centre': 'HC',\n",
       "    'no_of_stalls': '32',\n",
       "    'owner': 'Government',\n",
       "    '_id': 1},\n",
       "   {'location_of_centre': 'National Development Building, Annex B, Telok Ayer Street, S(069111)',\n",
       "    'no_of_cooked_food_stalls': '134',\n",
       "    'no_of_mkt_produce_stalls': '1',\n",
       "    'name_of_centre': 'Amoy Street Food Centre',\n",
       "    'type_of_centre': 'HC',\n",
       "    'no_of_stalls': '135',\n",
       "    'owner': 'Government',\n",
       "    '_id': 2},\n",
       "   {'location_of_centre': '1, Bedok Road, S(469572)',\n",
       "    'no_of_cooked_food_stalls': '32',\n",
       "    'no_of_mkt_produce_stalls': '0',\n",
       "    'name_of_centre': 'Bedok Food Centre',\n",
       "    'type_of_centre': 'HC',\n",
       "    'no_of_stalls': '32',\n",
       "    'owner': 'Government',\n",
       "    '_id': 3},\n",
       "   {'location_of_centre': '38A, Beo Crescent, S(169982)',\n",
       "    'no_of_cooked_food_stalls': '32',\n",
       "    'no_of_mkt_produce_stalls': '62',\n",
       "    'name_of_centre': 'Beo Crescent Market',\n",
       "    'type_of_centre': 'MHC',\n",
       "    'no_of_stalls': '94',\n",
       "    'owner': 'Government',\n",
       "    '_id': 4},\n",
       "   {'location_of_centre': '166, Jalan Besar, S(208877)',\n",
       "    'no_of_cooked_food_stalls': '66',\n",
       "    'no_of_mkt_produce_stalls': '0',\n",
       "    'name_of_centre': 'Berseh Food Centre',\n",
       "    'type_of_centre': 'HC',\n",
       "    'no_of_stalls': '66',\n",
       "    'owner': 'Government',\n",
       "    '_id': 5}],\n",
       "  '_links': {'start': '/api/action/datastore_search?limit=5&resource_id=8f6bba57-19fc-4f36-8dcf-c0bda382364d',\n",
       "   'next': '/api/action/datastore_search?offset=5&limit=5&resource_id=8f6bba57-19fc-4f36-8dcf-c0bda382364d'},\n",
       "  'limit': 5,\n",
       "  'total': 107}}"
      ]
     },
     "execution_count": 6,
     "metadata": {},
     "output_type": "execute_result"
    }
   ],
   "source": [
    "# View the json text returned by the API server\n",
    "response_dict = response.json()\n",
    "response_dict"
   ]
  },
  {
   "cell_type": "markdown",
   "metadata": {
    "id": "FJwVxSXWzQP7"
   },
   "source": [
    "> The json text above is a nested-dictionary <br>\n",
    "> Picture below shows the structure in a visual form\n",
    "\n",
    "> ![](hawker_structure.png)"
   ]
  },
  {
   "cell_type": "code",
   "execution_count": 7,
   "metadata": {
    "id": "ZNJ1xf4nzQP7"
   },
   "outputs": [
    {
     "data": {
      "text/plain": [
       "107"
      ]
     },
     "execution_count": 7,
     "metadata": {},
     "output_type": "execute_result"
    }
   ],
   "source": [
    "# Traverse the dictionary to the level where the main records are located\n",
    "response_dict['result']['total']"
   ]
  },
  {
   "cell_type": "code",
   "execution_count": 8,
   "metadata": {
    "id": "VjsjqADezQP7"
   },
   "outputs": [
    {
     "data": {
      "text/plain": [
       "[{'location_of_centre': '2, Adam Road, S(289876)',\n",
       "  'no_of_cooked_food_stalls': '32',\n",
       "  'no_of_mkt_produce_stalls': '0',\n",
       "  'name_of_centre': 'Adam Road Food Centre',\n",
       "  'type_of_centre': 'HC',\n",
       "  'no_of_stalls': '32',\n",
       "  'owner': 'Government',\n",
       "  '_id': 1},\n",
       " {'location_of_centre': 'National Development Building, Annex B, Telok Ayer Street, S(069111)',\n",
       "  'no_of_cooked_food_stalls': '134',\n",
       "  'no_of_mkt_produce_stalls': '1',\n",
       "  'name_of_centre': 'Amoy Street Food Centre',\n",
       "  'type_of_centre': 'HC',\n",
       "  'no_of_stalls': '135',\n",
       "  'owner': 'Government',\n",
       "  '_id': 2},\n",
       " {'location_of_centre': '1, Bedok Road, S(469572)',\n",
       "  'no_of_cooked_food_stalls': '32',\n",
       "  'no_of_mkt_produce_stalls': '0',\n",
       "  'name_of_centre': 'Bedok Food Centre',\n",
       "  'type_of_centre': 'HC',\n",
       "  'no_of_stalls': '32',\n",
       "  'owner': 'Government',\n",
       "  '_id': 3},\n",
       " {'location_of_centre': '38A, Beo Crescent, S(169982)',\n",
       "  'no_of_cooked_food_stalls': '32',\n",
       "  'no_of_mkt_produce_stalls': '62',\n",
       "  'name_of_centre': 'Beo Crescent Market',\n",
       "  'type_of_centre': 'MHC',\n",
       "  'no_of_stalls': '94',\n",
       "  'owner': 'Government',\n",
       "  '_id': 4},\n",
       " {'location_of_centre': '166, Jalan Besar, S(208877)',\n",
       "  'no_of_cooked_food_stalls': '66',\n",
       "  'no_of_mkt_produce_stalls': '0',\n",
       "  'name_of_centre': 'Berseh Food Centre',\n",
       "  'type_of_centre': 'HC',\n",
       "  'no_of_stalls': '66',\n",
       "  'owner': 'Government',\n",
       "  '_id': 5}]"
      ]
     },
     "execution_count": 8,
     "metadata": {},
     "output_type": "execute_result"
    }
   ],
   "source": [
    "# Traverse the dictionary to the level where the main records are located\n",
    "records = response_dict['result']['records']\n",
    "records"
   ]
  },
  {
   "cell_type": "code",
   "execution_count": 9,
   "metadata": {
    "id": "9-MQHvIdzQP7"
   },
   "outputs": [
    {
     "data": {
      "text/plain": [
       "5"
      ]
     },
     "execution_count": 9,
     "metadata": {},
     "output_type": "execute_result"
    }
   ],
   "source": [
    "# Check the number of records\n",
    "len(records)"
   ]
  },
  {
   "cell_type": "code",
   "execution_count": 10,
   "metadata": {
    "id": "VLbOaM_nzQP7"
   },
   "outputs": [
    {
     "data": {
      "text/html": [
       "<div>\n",
       "<style scoped>\n",
       "    .dataframe tbody tr th:only-of-type {\n",
       "        vertical-align: middle;\n",
       "    }\n",
       "\n",
       "    .dataframe tbody tr th {\n",
       "        vertical-align: top;\n",
       "    }\n",
       "\n",
       "    .dataframe thead th {\n",
       "        text-align: right;\n",
       "    }\n",
       "</style>\n",
       "<table border=\"1\" class=\"dataframe\">\n",
       "  <thead>\n",
       "    <tr style=\"text-align: right;\">\n",
       "      <th></th>\n",
       "      <th>location_of_centre</th>\n",
       "      <th>no_of_cooked_food_stalls</th>\n",
       "      <th>no_of_mkt_produce_stalls</th>\n",
       "      <th>name_of_centre</th>\n",
       "      <th>type_of_centre</th>\n",
       "      <th>no_of_stalls</th>\n",
       "      <th>owner</th>\n",
       "      <th>_id</th>\n",
       "    </tr>\n",
       "  </thead>\n",
       "  <tbody>\n",
       "    <tr>\n",
       "      <th>0</th>\n",
       "      <td>2, Adam Road, S(289876)</td>\n",
       "      <td>32</td>\n",
       "      <td>0</td>\n",
       "      <td>Adam Road Food Centre</td>\n",
       "      <td>HC</td>\n",
       "      <td>32</td>\n",
       "      <td>Government</td>\n",
       "      <td>1</td>\n",
       "    </tr>\n",
       "    <tr>\n",
       "      <th>1</th>\n",
       "      <td>National Development Building, Annex B, Telok ...</td>\n",
       "      <td>134</td>\n",
       "      <td>1</td>\n",
       "      <td>Amoy Street Food Centre</td>\n",
       "      <td>HC</td>\n",
       "      <td>135</td>\n",
       "      <td>Government</td>\n",
       "      <td>2</td>\n",
       "    </tr>\n",
       "    <tr>\n",
       "      <th>2</th>\n",
       "      <td>1, Bedok Road, S(469572)</td>\n",
       "      <td>32</td>\n",
       "      <td>0</td>\n",
       "      <td>Bedok Food Centre</td>\n",
       "      <td>HC</td>\n",
       "      <td>32</td>\n",
       "      <td>Government</td>\n",
       "      <td>3</td>\n",
       "    </tr>\n",
       "    <tr>\n",
       "      <th>3</th>\n",
       "      <td>38A, Beo Crescent, S(169982)</td>\n",
       "      <td>32</td>\n",
       "      <td>62</td>\n",
       "      <td>Beo Crescent Market</td>\n",
       "      <td>MHC</td>\n",
       "      <td>94</td>\n",
       "      <td>Government</td>\n",
       "      <td>4</td>\n",
       "    </tr>\n",
       "    <tr>\n",
       "      <th>4</th>\n",
       "      <td>166, Jalan Besar, S(208877)</td>\n",
       "      <td>66</td>\n",
       "      <td>0</td>\n",
       "      <td>Berseh Food Centre</td>\n",
       "      <td>HC</td>\n",
       "      <td>66</td>\n",
       "      <td>Government</td>\n",
       "      <td>5</td>\n",
       "    </tr>\n",
       "  </tbody>\n",
       "</table>\n",
       "</div>"
      ],
      "text/plain": [
       "                                  location_of_centre no_of_cooked_food_stalls  \\\n",
       "0                            2, Adam Road, S(289876)                       32   \n",
       "1  National Development Building, Annex B, Telok ...                      134   \n",
       "2                           1, Bedok Road, S(469572)                       32   \n",
       "3                       38A, Beo Crescent, S(169982)                       32   \n",
       "4                        166, Jalan Besar, S(208877)                       66   \n",
       "\n",
       "  no_of_mkt_produce_stalls           name_of_centre type_of_centre  \\\n",
       "0                        0    Adam Road Food Centre             HC   \n",
       "1                        1  Amoy Street Food Centre             HC   \n",
       "2                        0        Bedok Food Centre             HC   \n",
       "3                       62      Beo Crescent Market            MHC   \n",
       "4                        0       Berseh Food Centre             HC   \n",
       "\n",
       "  no_of_stalls       owner  _id  \n",
       "0           32  Government    1  \n",
       "1          135  Government    2  \n",
       "2           32  Government    3  \n",
       "3           94  Government    4  \n",
       "4           66  Government    5  "
      ]
     },
     "execution_count": 10,
     "metadata": {},
     "output_type": "execute_result"
    }
   ],
   "source": [
    "# Use .json_normalize from Pandas to convert the dictionary into a DataFrame\n",
    "pd.json_normalize(records)"
   ]
  },
  {
   "cell_type": "code",
   "execution_count": 11,
   "metadata": {
    "id": "dsAkfGFfzQP7"
   },
   "outputs": [],
   "source": [
    "# Use .json_normalize from Pandas to convert the dictionary into a DataFrame \n",
    "# Store into a variable called \"df_hawker\"\n",
    "df_hawker = pd.json_normalize(records)"
   ]
  },
  {
   "cell_type": "markdown",
   "metadata": {
    "id": "sDtz7-T8zQP7"
   },
   "source": [
    "## Calling API Example 2: with Parameters"
   ]
  },
  {
   "cell_type": "markdown",
   "metadata": {
    "id": "pagG9ZV8zQP7"
   },
   "source": [
    "> 1. Open this url in your browser: https://www.onemap.gov.sg/docs/#onemap-rest-apis\n",
    "> 2. Understand the parameters (required and optional) of the \"search\" endpoint from OneMap API\n",
    "> 3. Use **requests** package to call this API and get all first 5 rows of data"
   ]
  },
  {
   "cell_type": "markdown",
   "metadata": {
    "id": "VW5CAqAtzQP7"
   },
   "source": [
    "> ![apiexp](https://i.imgur.com/2bwoYYl.png)"
   ]
  },
  {
   "cell_type": "code",
   "execution_count": 12,
   "metadata": {
    "id": "-njZHDUKzQP7"
   },
   "outputs": [
    {
     "data": {
      "text/plain": [
       "400"
      ]
     },
     "execution_count": 12,
     "metadata": {},
     "output_type": "execute_result"
    }
   ],
   "source": [
    "# Try to call the API (Case-sensitive Parameters not match)\n",
    "\n",
    "url_base = 'https://developers.onemap.sg/commonapi/search'\n",
    "\n",
    "parameters = {\n",
    "    'searchval' : 'Adam Road Food Centre',\n",
    "    'returngeom': 'Y',\n",
    "    'getAddrDetails': 'Y'\n",
    "}\n",
    "response = requests.get(url_base, params=parameters)\n",
    "response.status_code\n",
    "\n",
    "\n",
    "# Outcome is 400 status code"
   ]
  },
  {
   "cell_type": "code",
   "execution_count": 13,
   "metadata": {
    "id": "ZbVx6rUXzQP7"
   },
   "outputs": [
    {
     "data": {
      "text/plain": [
       "400"
      ]
     },
     "execution_count": 13,
     "metadata": {},
     "output_type": "execute_result"
    }
   ],
   "source": [
    "# Try to call the API (Required Parameters not provided)\n",
    "\n",
    "url_base = 'https://developers.onemap.sg/commonapi/search'\n",
    "\n",
    "parameters = {\n",
    "    'searchval' : 'Adam Road Food Centre',\n",
    "}\n",
    "response = requests.get(url_base, params=parameters)\n",
    "response.status_code\n",
    "\n",
    "\n",
    "# Outcome is 400 series status code"
   ]
  },
  {
   "cell_type": "code",
   "execution_count": 14,
   "metadata": {
    "id": "52EKdSpmzQP8"
   },
   "outputs": [
    {
     "data": {
      "text/plain": [
       "200"
      ]
     },
     "execution_count": 14,
     "metadata": {},
     "output_type": "execute_result"
    }
   ],
   "source": [
    "# Try to call the API (Correctly)\n",
    "\n",
    "url_base = 'https://developers.onemap.sg/commonapi/search'\n",
    "\n",
    "parameters = {\n",
    "    'searchVal' : 'Adam Road Food Centre',\n",
    "    'returnGeom': 'Y',\n",
    "    'getAddrDetails': 'Y'\n",
    "}\n",
    "response = requests.get(url_base, params=parameters)\n",
    "response.status_code"
   ]
  },
  {
   "cell_type": "code",
   "execution_count": 15,
   "metadata": {
    "id": "TyWaclHjzQP8"
   },
   "outputs": [
    {
     "data": {
      "text/plain": [
       "{'found': 1,\n",
       " 'totalNumPages': 1,\n",
       " 'pageNum': 1,\n",
       " 'results': [{'SEARCHVAL': 'ADAM ROAD FOOD CENTRE',\n",
       "   'BLK_NO': '2',\n",
       "   'ROAD_NAME': 'ADAM ROAD',\n",
       "   'BUILDING': 'ADAM ROAD FOOD CENTRE',\n",
       "   'ADDRESS': '2 ADAM ROAD ADAM ROAD FOOD CENTRE SINGAPORE 289876',\n",
       "   'POSTAL': '289876',\n",
       "   'X': '25870.3018411137',\n",
       "   'Y': '34035.8644314632',\n",
       "   'LATITUDE': '1.3240827139625',\n",
       "   'LONGITUDE': '103.814182099841',\n",
       "   'LONGTITUDE': '103.814182099841'}]}"
      ]
     },
     "execution_count": 15,
     "metadata": {},
     "output_type": "execute_result"
    }
   ],
   "source": [
    "# View the json text returned by the server\n",
    "response.json()"
   ]
  },
  {
   "cell_type": "code",
   "execution_count": 16,
   "metadata": {
    "id": "2OTAKQG-zQP8"
   },
   "outputs": [
    {
     "data": {
      "text/html": [
       "<div>\n",
       "<style scoped>\n",
       "    .dataframe tbody tr th:only-of-type {\n",
       "        vertical-align: middle;\n",
       "    }\n",
       "\n",
       "    .dataframe tbody tr th {\n",
       "        vertical-align: top;\n",
       "    }\n",
       "\n",
       "    .dataframe thead th {\n",
       "        text-align: right;\n",
       "    }\n",
       "</style>\n",
       "<table border=\"1\" class=\"dataframe\">\n",
       "  <thead>\n",
       "    <tr style=\"text-align: right;\">\n",
       "      <th></th>\n",
       "      <th>SEARCHVAL</th>\n",
       "      <th>BLK_NO</th>\n",
       "      <th>ROAD_NAME</th>\n",
       "      <th>BUILDING</th>\n",
       "      <th>ADDRESS</th>\n",
       "      <th>POSTAL</th>\n",
       "      <th>X</th>\n",
       "      <th>Y</th>\n",
       "      <th>LATITUDE</th>\n",
       "      <th>LONGITUDE</th>\n",
       "      <th>LONGTITUDE</th>\n",
       "    </tr>\n",
       "  </thead>\n",
       "  <tbody>\n",
       "    <tr>\n",
       "      <th>0</th>\n",
       "      <td>ADAM ROAD FOOD CENTRE</td>\n",
       "      <td>2</td>\n",
       "      <td>ADAM ROAD</td>\n",
       "      <td>ADAM ROAD FOOD CENTRE</td>\n",
       "      <td>2 ADAM ROAD ADAM ROAD FOOD CENTRE SINGAPORE 28...</td>\n",
       "      <td>289876</td>\n",
       "      <td>25870.3018411137</td>\n",
       "      <td>34035.8644314632</td>\n",
       "      <td>1.3240827139625</td>\n",
       "      <td>103.814182099841</td>\n",
       "      <td>103.814182099841</td>\n",
       "    </tr>\n",
       "  </tbody>\n",
       "</table>\n",
       "</div>"
      ],
      "text/plain": [
       "               SEARCHVAL BLK_NO  ROAD_NAME               BUILDING  \\\n",
       "0  ADAM ROAD FOOD CENTRE      2  ADAM ROAD  ADAM ROAD FOOD CENTRE   \n",
       "\n",
       "                                             ADDRESS  POSTAL  \\\n",
       "0  2 ADAM ROAD ADAM ROAD FOOD CENTRE SINGAPORE 28...  289876   \n",
       "\n",
       "                  X                 Y         LATITUDE         LONGITUDE  \\\n",
       "0  25870.3018411137  34035.8644314632  1.3240827139625  103.814182099841   \n",
       "\n",
       "         LONGTITUDE  \n",
       "0  103.814182099841  "
      ]
     },
     "execution_count": 16,
     "metadata": {},
     "output_type": "execute_result"
    }
   ],
   "source": [
    "# Use .json_normalize from Pandas to convert the dictionary into a DataFrame \n",
    "pd.json_normalize(response.json()['results'])"
   ]
  },
  {
   "cell_type": "markdown",
   "metadata": {
    "id": "LWFGGzuPzQP8"
   },
   "source": [
    "> 1. Loop through the **df_hawker** and find the geoinfo of each hawker from OneMap's SEARCH endpoint\n",
    "> 2. Store all the geoinfo as a new DataFrame"
   ]
  },
  {
   "cell_type": "code",
   "execution_count": 17,
   "metadata": {
    "id": "ZYtJMsq7zQP8"
   },
   "outputs": [
    {
     "data": {
      "text/html": [
       "<div>\n",
       "<style scoped>\n",
       "    .dataframe tbody tr th:only-of-type {\n",
       "        vertical-align: middle;\n",
       "    }\n",
       "\n",
       "    .dataframe tbody tr th {\n",
       "        vertical-align: top;\n",
       "    }\n",
       "\n",
       "    .dataframe thead th {\n",
       "        text-align: right;\n",
       "    }\n",
       "</style>\n",
       "<table border=\"1\" class=\"dataframe\">\n",
       "  <thead>\n",
       "    <tr style=\"text-align: right;\">\n",
       "      <th></th>\n",
       "      <th>SEARCHVAL</th>\n",
       "      <th>BLK_NO</th>\n",
       "      <th>ROAD_NAME</th>\n",
       "      <th>BUILDING</th>\n",
       "      <th>ADDRESS</th>\n",
       "      <th>POSTAL</th>\n",
       "      <th>X</th>\n",
       "      <th>Y</th>\n",
       "      <th>LATITUDE</th>\n",
       "      <th>LONGITUDE</th>\n",
       "      <th>LONGTITUDE</th>\n",
       "    </tr>\n",
       "  </thead>\n",
       "  <tbody>\n",
       "    <tr>\n",
       "      <th>0</th>\n",
       "      <td>ADAM ROAD FOOD CENTRE</td>\n",
       "      <td>2</td>\n",
       "      <td>ADAM ROAD</td>\n",
       "      <td>ADAM ROAD FOOD CENTRE</td>\n",
       "      <td>2 ADAM ROAD ADAM ROAD FOOD CENTRE SINGAPORE 28...</td>\n",
       "      <td>289876</td>\n",
       "      <td>25870.3018411137</td>\n",
       "      <td>34035.8644314632</td>\n",
       "      <td>1.3240827139625</td>\n",
       "      <td>103.814182099841</td>\n",
       "      <td>103.814182099841</td>\n",
       "    </tr>\n",
       "    <tr>\n",
       "      <th>1</th>\n",
       "      <td>OCBC AMOY STREET FOOD CENTRE</td>\n",
       "      <td>7</td>\n",
       "      <td>MAXWELL ROAD</td>\n",
       "      <td>OCBC AMOY STREET FOOD CENTRE</td>\n",
       "      <td>7 MAXWELL ROAD OCBC AMOY STREET FOOD CENTRE SI...</td>\n",
       "      <td>069111</td>\n",
       "      <td>29480.2599858707</td>\n",
       "      <td>29076.4117134903</td>\n",
       "      <td>1.27923120961067</td>\n",
       "      <td>103.846619273705</td>\n",
       "      <td>103.846619273705</td>\n",
       "    </tr>\n",
       "    <tr>\n",
       "      <th>2</th>\n",
       "      <td>AMOY STREET FOOD CENTRE</td>\n",
       "      <td>7</td>\n",
       "      <td>MAXWELL ROAD</td>\n",
       "      <td>AMOY STREET FOOD CENTRE</td>\n",
       "      <td>7 MAXWELL ROAD AMOY STREET FOOD CENTRE SINGAPO...</td>\n",
       "      <td>069111</td>\n",
       "      <td>29483.955767219</td>\n",
       "      <td>29088.4261356071</td>\n",
       "      <td>1.2793398636571</td>\n",
       "      <td>103.846652482254</td>\n",
       "      <td>103.846652482254</td>\n",
       "    </tr>\n",
       "    <tr>\n",
       "      <th>3</th>\n",
       "      <td>DBS AMOY STREET FOOD CENTRE</td>\n",
       "      <td>7</td>\n",
       "      <td>MAXWELL ROAD</td>\n",
       "      <td>DBS AMOY STREET FOOD CENTRE</td>\n",
       "      <td>7 MAXWELL ROAD DBS AMOY STREET FOOD CENTRE SIN...</td>\n",
       "      <td>069111</td>\n",
       "      <td>29480.2599858707</td>\n",
       "      <td>29076.4117134903</td>\n",
       "      <td>1.27923120961067</td>\n",
       "      <td>103.846619273705</td>\n",
       "      <td>103.846619273705</td>\n",
       "    </tr>\n",
       "    <tr>\n",
       "      <th>4</th>\n",
       "      <td>BEDOK FOOD CENTRE</td>\n",
       "      <td>1</td>\n",
       "      <td>BEDOK ROAD</td>\n",
       "      <td>BEDOK FOOD CENTRE</td>\n",
       "      <td>1 BEDOK ROAD BEDOK FOOD CENTRE SINGAPORE 469572</td>\n",
       "      <td>469572</td>\n",
       "      <td>41595.4345044643</td>\n",
       "      <td>33623.132626934</td>\n",
       "      <td>1.32034716834128</td>\n",
       "      <td>103.955480570427</td>\n",
       "      <td>103.955480570427</td>\n",
       "    </tr>\n",
       "    <tr>\n",
       "      <th>5</th>\n",
       "      <td>BEO CRESCENT MARKET</td>\n",
       "      <td>38A</td>\n",
       "      <td>BEO CRESCENT</td>\n",
       "      <td>BEO CRESCENT MARKET</td>\n",
       "      <td>38A BEO CRESCENT BEO CRESCENT MARKET SINGAPORE...</td>\n",
       "      <td>169982</td>\n",
       "      <td>27336.1809281698</td>\n",
       "      <td>30137.891893005</td>\n",
       "      <td>1.28883089150258</td>\n",
       "      <td>103.827353892228</td>\n",
       "      <td>103.827353892228</td>\n",
       "    </tr>\n",
       "    <tr>\n",
       "      <th>6</th>\n",
       "      <td>DBS BERSEH FOOD CENTRE</td>\n",
       "      <td>166</td>\n",
       "      <td>JALAN BESAR</td>\n",
       "      <td>DBS BERSEH FOOD CENTRE</td>\n",
       "      <td>166 JALAN BESAR DBS BERSEH FOOD CENTRE SINGAPO...</td>\n",
       "      <td>208877</td>\n",
       "      <td>30623.1447876785</td>\n",
       "      <td>32184.9995951913</td>\n",
       "      <td>1.30734410918998</td>\n",
       "      <td>103.856888783497</td>\n",
       "      <td>103.856888783497</td>\n",
       "    </tr>\n",
       "    <tr>\n",
       "      <th>7</th>\n",
       "      <td>BERSEH FOOD CENTRE</td>\n",
       "      <td>166</td>\n",
       "      <td>JALAN BESAR</td>\n",
       "      <td>BERSEH FOOD CENTRE</td>\n",
       "      <td>166 JALAN BESAR BERSEH FOOD CENTRE SINGAPORE 2...</td>\n",
       "      <td>208877</td>\n",
       "      <td>30623.1448179465</td>\n",
       "      <td>32184.9996254593</td>\n",
       "      <td>1.30734410946371</td>\n",
       "      <td>103.856888783769</td>\n",
       "      <td>103.856888783769</td>\n",
       "    </tr>\n",
       "  </tbody>\n",
       "</table>\n",
       "</div>"
      ],
      "text/plain": [
       "                      SEARCHVAL BLK_NO     ROAD_NAME  \\\n",
       "0         ADAM ROAD FOOD CENTRE      2     ADAM ROAD   \n",
       "1  OCBC AMOY STREET FOOD CENTRE      7  MAXWELL ROAD   \n",
       "2       AMOY STREET FOOD CENTRE      7  MAXWELL ROAD   \n",
       "3   DBS AMOY STREET FOOD CENTRE      7  MAXWELL ROAD   \n",
       "4             BEDOK FOOD CENTRE      1    BEDOK ROAD   \n",
       "5           BEO CRESCENT MARKET    38A  BEO CRESCENT   \n",
       "6        DBS BERSEH FOOD CENTRE    166   JALAN BESAR   \n",
       "7            BERSEH FOOD CENTRE    166   JALAN BESAR   \n",
       "\n",
       "                       BUILDING  \\\n",
       "0         ADAM ROAD FOOD CENTRE   \n",
       "1  OCBC AMOY STREET FOOD CENTRE   \n",
       "2       AMOY STREET FOOD CENTRE   \n",
       "3   DBS AMOY STREET FOOD CENTRE   \n",
       "4             BEDOK FOOD CENTRE   \n",
       "5           BEO CRESCENT MARKET   \n",
       "6        DBS BERSEH FOOD CENTRE   \n",
       "7            BERSEH FOOD CENTRE   \n",
       "\n",
       "                                             ADDRESS  POSTAL  \\\n",
       "0  2 ADAM ROAD ADAM ROAD FOOD CENTRE SINGAPORE 28...  289876   \n",
       "1  7 MAXWELL ROAD OCBC AMOY STREET FOOD CENTRE SI...  069111   \n",
       "2  7 MAXWELL ROAD AMOY STREET FOOD CENTRE SINGAPO...  069111   \n",
       "3  7 MAXWELL ROAD DBS AMOY STREET FOOD CENTRE SIN...  069111   \n",
       "4    1 BEDOK ROAD BEDOK FOOD CENTRE SINGAPORE 469572  469572   \n",
       "5  38A BEO CRESCENT BEO CRESCENT MARKET SINGAPORE...  169982   \n",
       "6  166 JALAN BESAR DBS BERSEH FOOD CENTRE SINGAPO...  208877   \n",
       "7  166 JALAN BESAR BERSEH FOOD CENTRE SINGAPORE 2...  208877   \n",
       "\n",
       "                  X                 Y          LATITUDE         LONGITUDE  \\\n",
       "0  25870.3018411137  34035.8644314632   1.3240827139625  103.814182099841   \n",
       "1  29480.2599858707  29076.4117134903  1.27923120961067  103.846619273705   \n",
       "2   29483.955767219  29088.4261356071   1.2793398636571  103.846652482254   \n",
       "3  29480.2599858707  29076.4117134903  1.27923120961067  103.846619273705   \n",
       "4  41595.4345044643   33623.132626934  1.32034716834128  103.955480570427   \n",
       "5  27336.1809281698   30137.891893005  1.28883089150258  103.827353892228   \n",
       "6  30623.1447876785  32184.9995951913  1.30734410918998  103.856888783497   \n",
       "7  30623.1448179465  32184.9996254593  1.30734410946371  103.856888783769   \n",
       "\n",
       "         LONGTITUDE  \n",
       "0  103.814182099841  \n",
       "1  103.846619273705  \n",
       "2  103.846652482254  \n",
       "3  103.846619273705  \n",
       "4  103.955480570427  \n",
       "5  103.827353892228  \n",
       "6  103.856888783497  \n",
       "7  103.856888783769  "
      ]
     },
     "execution_count": 17,
     "metadata": {},
     "output_type": "execute_result"
    }
   ],
   "source": [
    "# Alternative A: Using iterrows() method from DataFrame to step through every row\n",
    "df_hawker_geoinfo = []\n",
    "\n",
    "for row_index, row in df_hawker.iterrows():\n",
    "    # Create a dictionary of the parameters\n",
    "    parameters = {\n",
    "        'searchVal' : row['name_of_centre'],\n",
    "        'returnGeom': 'Y',\n",
    "        'getAddrDetails': 'Y'\n",
    "    }\n",
    "\n",
    "    # Send the request via .get() method\n",
    "    response = requests.get(url_base, params=parameters)\n",
    "\n",
    "    # Check if the request is successful\n",
    "    if response.status_code == 200:\n",
    "        response_dict = response.json()\n",
    "        # Check if there is at least 1 record\n",
    "        if len(response_dict['results']) > 0:\n",
    "            df_temp = pd.json_normalize(response_dict['results'])\n",
    "            df_hawker_geoinfo.append(df_temp)\n",
    "    else:\n",
    "        print('The request failed and returned status code:' + str(response.status_code))\n",
    "\n",
    "# Concatenate the records stored in multiple DataFrames into a single DataFrame\n",
    "df_hawker_geoinfo = pd.concat(df_hawker_geoinfo, axis=0, ignore_index=True)\n",
    "df_hawker_geoinfo"
   ]
  },
  {
   "cell_type": "code",
   "execution_count": 18,
   "metadata": {
    "id": "XqtYODOzz-Ay"
   },
   "outputs": [],
   "source": [
    "# Alternative A: Using apply() method from DataFrame to apply a custom function\n",
    "def fetch_geoinfo(name_of_centre):\n",
    "    # Create a dictionary of the parameters\n",
    "    parameters = {\n",
    "        'searchVal' : name_of_centre,\n",
    "        'returnGeom': 'Y',\n",
    "        'getAddrDetails': 'Y'\n",
    "    }\n",
    "\n",
    "    # Send the request via .get() method\n",
    "    response = requests.get(url_base, params=parameters)\n",
    "\n",
    "    # Check if the request is successful\n",
    "    if response.status_code == 200:\n",
    "        response_dict = response.json()\n",
    "        # Check if there is at least 1 record\n",
    "        results = response_dict.get('results')\n",
    "        if results:\n",
    "            df_temp = pd.json_normalize(results)  # use your appropriate function here\n",
    "            return df_temp\n",
    "    else:\n",
    "        print(f'The request failed and returned status code: {response.status_code}')\n",
    "\n",
    "# Apply function to df_hawker\n",
    "df_hawker_geoinfo = df_hawker['name_of_centre'].apply(fetch_geoinfo)\n",
    "\n",
    "# Concatenate dataframes in list\n",
    "df_hawker_geoinfo = pd.concat(list(df_hawker_geoinfo), axis=0, ignore_index=True)"
   ]
  },
  {
   "cell_type": "code",
   "execution_count": null,
   "metadata": {
    "id": "P-RRKlKezQP8"
   },
   "outputs": [],
   "source": []
  },
  {
   "cell_type": "markdown",
   "metadata": {
    "id": "X4unnZzbzQP8"
   },
   "source": [
    "# !! Your Turn !!"
   ]
  },
  {
   "cell_type": "markdown",
   "metadata": {
    "id": "ns2eiwFvzQP8"
   },
   "source": [
    "## Replace the code marked as <..> COMPLETELY with your own.\n",
    "- The placeholder <..> is meant to be guidance for your answer.\n",
    "- It should not be restricting your solutions for the questions.\n",
    "- Feel free to add more lines or use less lines,\n",
    "- One placeholder does not mean that you can only insert one line of codes."
   ]
  },
  {
   "cell_type": "markdown",
   "metadata": {
    "id": "d7Q9aDcwzQP8"
   },
   "source": [
    "# Question 1\n",
    "> - Continue from the **df_hawker** and **df_hawker_geoinfo**, produce a new DataFrame **df_hawker_center**, <br>\n",
    "> where each row is a unique hawker center with all the columns both **df_hawker** and **df_hawker_geoinfo**\n",
    "> - The four columns \"X\", \"Y\", \"LONGTITUDE\", and \"_id\" must be excluded in the **df_hawker_center**\n",
    "> - Change all the column names into lower case"
   ]
  },
  {
   "cell_type": "code",
   "execution_count": null,
   "metadata": {
    "id": "Itl3R_0jzQP8"
   },
   "outputs": [],
   "source": [
    "<..>"
   ]
  },
  {
   "cell_type": "code",
   "execution_count": 28,
   "metadata": {},
   "outputs": [
    {
     "name": "stdout",
     "output_type": "stream",
     "text": [
      "                                  location_of_centre no_of_cooked_food_stalls  \\\n",
      "0                            2, Adam Road, S(289876)                       32   \n",
      "1  National Development Building, Annex B, Telok ...                      134   \n",
      "2                           1, Bedok Road, S(469572)                       32   \n",
      "3                       38A, Beo Crescent, S(169982)                       32   \n",
      "4                        166, Jalan Besar, S(208877)                       66   \n",
      "5                                                NaN                      NaN   \n",
      "6                                                NaN                      NaN   \n",
      "7                                                NaN                      NaN   \n",
      "\n",
      "  no_of_mkt_produce_stalls           name_of_centre type_of_centre  \\\n",
      "0                        0    Adam Road Food Centre             HC   \n",
      "1                        1  Amoy Street Food Centre             HC   \n",
      "2                        0        Bedok Food Centre             HC   \n",
      "3                       62      Beo Crescent Market            MHC   \n",
      "4                        0       Berseh Food Centre             HC   \n",
      "5                      NaN                      NaN            NaN   \n",
      "6                      NaN                      NaN            NaN   \n",
      "7                      NaN                      NaN            NaN   \n",
      "\n",
      "  no_of_stalls       owner                     searchval blk_no     road_name  \\\n",
      "0           32  Government         ADAM ROAD FOOD CENTRE      2     ADAM ROAD   \n",
      "1          135  Government  OCBC AMOY STREET FOOD CENTRE      7  MAXWELL ROAD   \n",
      "2           32  Government       AMOY STREET FOOD CENTRE      7  MAXWELL ROAD   \n",
      "3           94  Government   DBS AMOY STREET FOOD CENTRE      7  MAXWELL ROAD   \n",
      "4           66  Government             BEDOK FOOD CENTRE      1    BEDOK ROAD   \n",
      "5          NaN         NaN           BEO CRESCENT MARKET    38A  BEO CRESCENT   \n",
      "6          NaN         NaN        DBS BERSEH FOOD CENTRE    166   JALAN BESAR   \n",
      "7          NaN         NaN            BERSEH FOOD CENTRE    166   JALAN BESAR   \n",
      "\n",
      "                       building  \\\n",
      "0         ADAM ROAD FOOD CENTRE   \n",
      "1  OCBC AMOY STREET FOOD CENTRE   \n",
      "2       AMOY STREET FOOD CENTRE   \n",
      "3   DBS AMOY STREET FOOD CENTRE   \n",
      "4             BEDOK FOOD CENTRE   \n",
      "5           BEO CRESCENT MARKET   \n",
      "6        DBS BERSEH FOOD CENTRE   \n",
      "7            BERSEH FOOD CENTRE   \n",
      "\n",
      "                                             address  postal  \\\n",
      "0  2 ADAM ROAD ADAM ROAD FOOD CENTRE SINGAPORE 28...  289876   \n",
      "1  7 MAXWELL ROAD OCBC AMOY STREET FOOD CENTRE SI...  069111   \n",
      "2  7 MAXWELL ROAD AMOY STREET FOOD CENTRE SINGAPO...  069111   \n",
      "3  7 MAXWELL ROAD DBS AMOY STREET FOOD CENTRE SIN...  069111   \n",
      "4    1 BEDOK ROAD BEDOK FOOD CENTRE SINGAPORE 469572  469572   \n",
      "5  38A BEO CRESCENT BEO CRESCENT MARKET SINGAPORE...  169982   \n",
      "6  166 JALAN BESAR DBS BERSEH FOOD CENTRE SINGAPO...  208877   \n",
      "7  166 JALAN BESAR BERSEH FOOD CENTRE SINGAPORE 2...  208877   \n",
      "\n",
      "           latitude         longitude  \n",
      "0   1.3240827139625  103.814182099841  \n",
      "1  1.27923120961067  103.846619273705  \n",
      "2   1.2793398636571  103.846652482254  \n",
      "3  1.27923120961067  103.846619273705  \n",
      "4  1.32034716834128  103.955480570427  \n",
      "5  1.28883089150258  103.827353892228  \n",
      "6  1.30734410918998  103.856888783497  \n",
      "7  1.30734410946371  103.856888783769  \n"
     ]
    }
   ],
   "source": [
    "# Combine df_hawker and df_hawker_geoinfo DataFrames\n",
    "df_hawker_center = pd.concat([df_hawker, df_hawker_geoinfo], axis=1)\n",
    "\n",
    "# Drop unnecessary columns\n",
    "columns_to_drop = ['X', 'Y', 'LONGTITUDE', '_id']\n",
    "df_hawker_center = df_hawker_center.drop(columns=columns_to_drop)\n",
    "\n",
    "# Change column names to lowercase\n",
    "df_hawker_center.columns = df_hawker_center.columns.str.lower()\n",
    "\n",
    "# Print the resulting DataFrame\n",
    "print(df_hawker_center)\n"
   ]
  },
  {
   "cell_type": "markdown",
   "metadata": {
    "id": "ZDG2Gwe3zQP8"
   },
   "source": [
    "# Question 2\n"
   ]
  },
  {
   "cell_type": "markdown",
   "metadata": {
    "id": "uN54F9bd0krP"
   },
   "source": [
    "The cell below is to download a single csv file to the working directory\n",
    "in your google colab session.\n",
    "\n",
    "It uses the same `get()` method from the \"requests\" package that we are using to call APIs."
   ]
  },
  {
   "cell_type": "code",
   "execution_count": 29,
   "metadata": {
    "id": "Xz_mzRu-0jJR"
   },
   "outputs": [],
   "source": [
    "# This is a pre-populated code cell. Please do not change anything in this cell,\n",
    "# unless you know what you're doing.\n",
    "\n",
    "url = 'https://d17lzt44idt8rf.cloudfront.net/data-week-06-MRT.csv'\n",
    "response = requests.get(url)\n",
    "\n",
    "# Make sure the request was successful\n",
    "if response.status_code == 200:\n",
    "\n",
    "  # Write the content to a file\n",
    "  with open('data-week-06-MRT.csv', 'wb') as f:\n",
    "      f.write(response.content)"
   ]
  },
  {
   "cell_type": "markdown",
   "metadata": {
    "id": "2youP6KqzQP8"
   },
   "source": [
    "> Part A) <br>\n",
    "> Store the first 200 records from the Excel file located at **data > 0_raw_data > hdb_postal_to_stations.xlsx** into a DataFrame, called **df_mrt_subset**"
   ]
  },
  {
   "cell_type": "code",
   "execution_count": null,
   "metadata": {
    "id": "59owLarbzQP8"
   },
   "outputs": [],
   "source": [
    "df_mrt_subset = <..>"
   ]
  },
  {
   "cell_type": "code",
   "execution_count": 37,
   "metadata": {},
   "outputs": [
    {
     "name": "stdout",
     "output_type": "stream",
     "text": [
      "    Type  postal   Station Name\n",
      "0    MRT  609690    Jurong East\n",
      "1    MRT  659958    Bukit Batok\n",
      "2    MRT  659083   Bukit Gombak\n",
      "3    MRT  689810  Choa Chu Kang\n",
      "4    MRT  689715        Yew Tee\n",
      "..   ...     ...            ...\n",
      "135  MRT  529683  Tampines West\n",
      "136  MRT  529538       Tampines\n",
      "137  MRT  529623  Tampines East\n",
      "138  MRT  485990   Upper Changi\n",
      "139  MRT  485985           Expo\n",
      "\n",
      "[140 rows x 3 columns]\n"
     ]
    }
   ],
   "source": [
    "# Read the first 200 records from the CSV file\n",
    "df_mrt_subset = pd.read_csv('data-week-06-MRT.csv', nrows=200)\n",
    "\n",
    "# Print the resulting DataFrame\n",
    "print(df_mrt_subset)\n"
   ]
  },
  {
   "cell_type": "markdown",
   "metadata": {
    "id": "I5ssbvVIzQP8"
   },
   "source": [
    "> Part B) <br>\n",
    "> - Retrieve the geoinfo using OneMap's API Endpoint 'https://developers.onemap.sg/commonapi/search', <br>\n",
    "> using the postal codes of the MRT stations\n",
    "> - Store the geoinfo for the MRT stations' postal code into DataFrame **df_mrt_geoinfo** <br>\n",
    "> 💡Hint: You will need to the remove the decimal point at the end of each postal code"
   ]
  },
  {
   "cell_type": "code",
   "execution_count": null,
   "metadata": {
    "id": "bnYA0goxzQP9"
   },
   "outputs": [],
   "source": [
    "<..>\n",
    "\n",
    "<..>\n",
    "\n",
    "<..>"
   ]
  },
  {
   "cell_type": "code",
   "execution_count": 40,
   "metadata": {},
   "outputs": [
    {
     "name": "stderr",
     "output_type": "stream",
     "text": [
      "<ipython-input-40-bb8ed6c74f38>:5: FutureWarning: The default value of regex will change from True to False in a future version. In addition, single character regular expressions will *not* be treated as literal strings when regex=True.\n",
      "  mrt_postal_codes = df_mrt_subset['postal'].astype(int).astype(str).str.replace('.', '')\n"
     ]
    },
    {
     "name": "stdout",
     "output_type": "stream",
     "text": [
      "                                       SEARCHVAL                 X  \\\n",
      "0                   OCBC JURONG EAST MRT STATION   17869.080600149   \n",
      "1           JURONG EAST MRT STATION (EW24 / NS1)  17869.0570516568   \n",
      "2                    UOB JURONG EAST MRT STATION   17854.317512162   \n",
      "3                    DBS JURONG EAST MRT STATION   17854.317512162   \n",
      "4              CITIBANK JURONG EAST SMRT STATION   17854.317512162   \n",
      "..                                           ...               ...   \n",
      "584             TAMPINES EAST MRT STATION (DT33)  41501.0748521937   \n",
      "585  690 UPPER CHANGI ROAD EAST SINGAPORE 485990  42221.1936496524   \n",
      "586              UPPER CHANGI MRT STATION (DT34)   42262.187971171   \n",
      "587                2 EXPO DRIVE SINGAPORE 485985  42302.1120167859   \n",
      "588                      EXPO MRT STATION (DT35)  42362.6034600167   \n",
      "\n",
      "                    Y          LATITUDE         LONGITUDE        LONGTITUDE  \n",
      "0    35038.9471976664  1.33315261987295  103.742286544006  103.742286544006  \n",
      "1    35038.9688695427  1.33315281585758  103.742286332403  103.742286332403  \n",
      "2    35054.6986866612  1.33329506563598  103.742153884191  103.742153884191  \n",
      "3    35054.6986866612  1.33329506563598  103.742153884191  103.742153884191  \n",
      "4    35054.6986866612  1.33329506563598  103.742153884191  103.742153884191  \n",
      "..                ...               ...               ...               ...  \n",
      "584  37586.6177644413  1.35619148271544    103.9546344625    103.9546344625  \n",
      "585  35992.0394830331   1.3417703847804  103.961104432568  103.961104432568  \n",
      "586  35988.6568845119  1.34173977444995  103.961472788634  103.961472788634  \n",
      "587  35291.7143124528  1.33543687011841  103.961831201138  103.961831201138  \n",
      "588  35285.7083877847  1.33538252614956  103.962374747451  103.962374747451  \n",
      "\n",
      "[589 rows x 6 columns]\n"
     ]
    }
   ],
   "source": [
    "import requests\n",
    "import pandas as pd\n",
    "\n",
    "# Postal codes of the MRT stations (remove decimal points)\n",
    "mrt_postal_codes = df_mrt_subset['postal'].astype(int).astype(str).str.replace('.', '')\n",
    "\n",
    "# URL base for the OneMap API\n",
    "url_base = 'https://developers.onemap.sg/commonapi/search'\n",
    "\n",
    "# List to store the geoinfo for MRT stations\n",
    "mrt_geoinfo = []\n",
    "\n",
    "# Iterate over the postal codes\n",
    "for postal_code in mrt_postal_codes:\n",
    "    # Create the parameters for the API request\n",
    "    parameters = {\n",
    "        'searchVal': postal_code,\n",
    "        'returnGeom': 'Y',\n",
    "        'getAddrDetails': 'N'\n",
    "    }\n",
    "    \n",
    "    # Send the request to the OneMap API\n",
    "    response = requests.get(url_base, params=parameters)\n",
    "    \n",
    "    # Check if the request is successful\n",
    "    if response.status_code == 200:\n",
    "        # Extract the geoinfo from the response\n",
    "        geoinfo = response.json()\n",
    "        if 'results' in geoinfo:\n",
    "            mrt_geoinfo.append(geoinfo['results'])\n",
    "    else:\n",
    "        print(f'Request failed for postal code {postal_code} with status code {response.status_code}')\n",
    "\n",
    "# Flatten the list of geoinfo dictionaries into a single DataFrame\n",
    "df_mrt_geoinfo = pd.json_normalize([item for sublist in mrt_geoinfo for item in sublist])\n",
    "\n",
    "# Print the resulting DataFrame\n",
    "print(df_mrt_geoinfo)\n"
   ]
  },
  {
   "cell_type": "markdown",
   "metadata": {
    "id": "YiP9PGNUzQP9"
   },
   "source": [
    "# Question 3"
   ]
  },
  {
   "cell_type": "markdown",
   "metadata": {
    "id": "IfTzVViczQP9"
   },
   "source": [
    "> Part A) <br>\n",
    "> - Download all the records for HDB carpark info from the API https://data.gov.sg/dataset/hdb-carpark-information\n",
    "> - Store the records into a DataFrame, called **df_carpark**"
   ]
  },
  {
   "cell_type": "code",
   "execution_count": null,
   "metadata": {
    "id": "xK_nz3EdzQQA"
   },
   "outputs": [],
   "source": [
    "<..>"
   ]
  },
  {
   "cell_type": "code",
   "execution_count": 1,
   "metadata": {},
   "outputs": [
    {
     "name": "stdout",
     "output_type": "stream",
     "text": [
      "     short_term_parking          car_park_type     y_coord     x_coord  \\\n",
      "0             WHOLE DAY      BASEMENT CAR PARK  31490.4942  30314.7936   \n",
      "1             WHOLE DAY  MULTI-STOREY CAR PARK  33695.5198  33758.4143   \n",
      "2             WHOLE DAY       SURFACE CAR PARK  34500.3599  29257.7203   \n",
      "3               7AM-7PM       SURFACE CAR PARK  39012.6664  28185.4359   \n",
      "4                    NO       SURFACE CAR PARK  38684.1754  29482.0290   \n",
      "...                 ...                    ...         ...         ...   \n",
      "2194          WHOLE DAY       SURFACE CAR PARK  45686.2734  27772.9219   \n",
      "2195          WHOLE DAY       COVERED CAR PARK  45330.3961  30167.5966   \n",
      "2196          WHOLE DAY  MULTI-STOREY CAR PARK  45535.3488  30194.3665   \n",
      "2197          WHOLE DAY  MULTI-STOREY CAR PARK  45679.7181  29935.5818   \n",
      "2198          WHOLE DAY       SURFACE CAR PARK  45507.8047  28077.2305   \n",
      "\n",
      "                 free_parking gantry_height car_park_basement night_parking  \\\n",
      "0                          NO          1.80                 Y           YES   \n",
      "1     SUN & PH FR 7AM-10.30PM          2.10                 N           YES   \n",
      "2     SUN & PH FR 7AM-10.30PM          0.00                 N           YES   \n",
      "3                          NO          0.00                 N            NO   \n",
      "4                          NO          0.00                 N            NO   \n",
      "...                       ...           ...               ...           ...   \n",
      "2194  SUN & PH FR 7AM-10.30PM          4.50                 N           YES   \n",
      "2195                       NO          2.20                 N           YES   \n",
      "2196                       NO          2.15                 N           YES   \n",
      "2197  SUN & PH FR 7AM-10.30PM          2.15                 N           YES   \n",
      "2198  SUN & PH FR 7AM-10.30PM          4.50                 N           YES   \n",
      "\n",
      "                                          address car_park_decks   _id  \\\n",
      "0     BLK 270/271 ALBERT CENTRE BASEMENT CAR PARK              1     1   \n",
      "1                       BLK 98A ALJUNIED CRESCENT              5     2   \n",
      "2                             BLK 101 JALAN DUSUN              0     3   \n",
      "3                  BLOCK 253 ANG MO KIO STREET 21              0     4   \n",
      "4                BLK 302/348 ANG MO KIO STREET 31              0     5   \n",
      "...                                           ...            ...   ...   \n",
      "2194     BLK 731/746 YISHUN STREET 71/72/AVENUE 5              0  2195   \n",
      "2195                     BLK 470 YISHUN STREET 42              1  2196   \n",
      "2196                     BLK 476 YISHUN STREET 44             15  2197   \n",
      "2197                     BLK 478 YISHUN STREET 42             11  2198   \n",
      "2198                 BLK 747/752 YISHUN STREET 72              0  2199   \n",
      "\n",
      "     car_park_no type_of_parking_system  \n",
      "0            ACB     ELECTRONIC PARKING  \n",
      "1            ACM     ELECTRONIC PARKING  \n",
      "2            AH1     ELECTRONIC PARKING  \n",
      "3           AK19         COUPON PARKING  \n",
      "4           AK31         COUPON PARKING  \n",
      "...          ...                    ...  \n",
      "2194          Y8     ELECTRONIC PARKING  \n",
      "2195        Y80M         COUPON PARKING  \n",
      "2196        Y81M         COUPON PARKING  \n",
      "2197        Y82M     ELECTRONIC PARKING  \n",
      "2198          Y9     ELECTRONIC PARKING  \n",
      "\n",
      "[2199 rows x 13 columns]\n"
     ]
    }
   ],
   "source": [
    "import requests\n",
    "import pandas as pd\n",
    "\n",
    "# API endpoint URL\n",
    "url = 'https://data.gov.sg/api/action/datastore_search?resource_id=139a3035-e624-4f56-b63f-89ae28d4ae4c&limit=50000'\n",
    "\n",
    "# Send GET request to the API endpoint\n",
    "response = requests.get(url)\n",
    "\n",
    "# Check if the request was successful\n",
    "if response.status_code == 200:\n",
    "    # Extract the records from the response\n",
    "    records = response.json()['result']['records']\n",
    "    \n",
    "    # Create DataFrame from the records\n",
    "    df_carpark = pd.DataFrame(records)\n",
    "    \n",
    "    # Print the DataFrame\n",
    "    print(df_carpark)\n",
    "else:\n",
    "    print('Failed to retrieve carpark information')\n",
    "\n"
   ]
  },
  {
   "cell_type": "markdown",
   "metadata": {
    "id": "WTvKMmw8zQQA"
   },
   "source": [
    "> Part B)** - Challenging Question [Optional] <br>\n",
    "> - Check the number of records in **df_carpark**\n",
    "> - You will realize the total records on data.gov.sg is 2,183 records, but **df_carpark**only has 100 records\n",
    "> - This is because it's common for API return a \"page\" of results per call. In this case, the API returns 100 records per page.\n",
    "> - If you check *response.json()['result']['_links']*, you will see there are two links, the \"next\" link shows how to retrieve the next 100 records\n",
    "> - Find a way to download all 2,183 records and store into the dataframe **df_carparks**\n",
    "\n",
    "> hint: you can use anything that you have learnt so far to achieve this"
   ]
  },
  {
   "cell_type": "code",
   "execution_count": 2,
   "metadata": {
    "id": "wUcUIkBAzQQA"
   },
   "outputs": [
    {
     "data": {
      "text/plain": [
       "{'start': '/api/action/datastore_search?limit=50000&resource_id=139a3035-e624-4f56-b63f-89ae28d4ae4c',\n",
       " 'next': '/api/action/datastore_search?offset=50000&limit=50000&resource_id=139a3035-e624-4f56-b63f-89ae28d4ae4c'}"
      ]
     },
     "execution_count": 2,
     "metadata": {},
     "output_type": "execute_result"
    }
   ],
   "source": [
    "response.json()['result']['_links']"
   ]
  },
  {
   "cell_type": "code",
   "execution_count": null,
   "metadata": {
    "id": "tqVJk-T6zQQA"
   },
   "outputs": [],
   "source": [
    "<..>"
   ]
  },
  {
   "cell_type": "code",
   "execution_count": 11,
   "metadata": {},
   "outputs": [
    {
     "name": "stdout",
     "output_type": "stream",
     "text": [
      "Total records: 100\n"
     ]
    }
   ],
   "source": [
    "import requests\n",
    "import pandas as pd\n",
    "\n",
    "# API endpoint URL\n",
    "base_url = 'https://data.gov.sg/api/action/datastore_search'\n",
    "\n",
    "# Parameters for the initial request\n",
    "params = {\n",
    "    'resource_id': '139a3035-e624-4f56-b63f-89ae28d4ae4c',\n",
    "    'limit': 100,  # Number of records per page\n",
    "    'offset': 0  # Initial offset\n",
    "}\n",
    "\n",
    "# Initialize an empty list to store all the records\n",
    "all_records = []\n",
    "\n",
    "# Send GET requests to retrieve all pages of records\n",
    "while True:\n",
    "    # Send GET request to the API endpoint with the parameters\n",
    "    response = requests.get(base_url, params=params)\n",
    "\n",
    "    # Check if the request was successful\n",
    "    if response.status_code == 200:\n",
    "        # Extract the records from the response\n",
    "        data = response.json()['result']\n",
    "\n",
    "        # Extract the records and append them to the list\n",
    "        records = data['records']\n",
    "        all_records.extend(records)\n",
    "\n",
    "        # Check if there is a next page\n",
    "        if 'links' in data and 'next' in data['links']:\n",
    "            # Get the URL for the next page\n",
    "            next_url = data['links']['next']\n",
    "\n",
    "            # Update the URL and parameters for the next page\n",
    "            base_url = next_url\n",
    "            params = None\n",
    "\n",
    "        else:\n",
    "            # No more pages, break the loop\n",
    "            break\n",
    "    else:\n",
    "        print('Failed to retrieve carpark information')\n",
    "        break\n",
    "\n",
    "# Create DataFrame from all the records\n",
    "df_carparks = pd.DataFrame(all_records)\n",
    "\n",
    "# Print the number of records\n",
    "print(\"Total records:\", len(df_carparks))\n"
   ]
  },
  {
   "cell_type": "code",
   "execution_count": 12,
   "metadata": {},
   "outputs": [
    {
     "data": {
      "text/plain": [
       "100"
      ]
     },
     "execution_count": 12,
     "metadata": {},
     "output_type": "execute_result"
    }
   ],
   "source": [
    "len(df_carparks)"
   ]
  },
  {
   "cell_type": "code",
   "execution_count": null,
   "metadata": {},
   "outputs": [],
   "source": []
  }
 ],
 "metadata": {
  "colab": {
   "provenance": []
  },
  "kernelspec": {
   "display_name": "Python 3",
   "language": "python",
   "name": "python3"
  },
  "language_info": {
   "codemirror_mode": {
    "name": "ipython",
    "version": 3
   },
   "file_extension": ".py",
   "mimetype": "text/x-python",
   "name": "python",
   "nbconvert_exporter": "python",
   "pygments_lexer": "ipython3",
   "version": "3.8.3"
  }
 },
 "nbformat": 4,
 "nbformat_minor": 1
}
